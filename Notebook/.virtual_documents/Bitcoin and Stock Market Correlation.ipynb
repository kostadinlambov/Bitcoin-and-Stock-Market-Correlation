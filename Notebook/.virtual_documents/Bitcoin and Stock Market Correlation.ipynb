import numpy as np
import pandas as pd
import matplotlib.pyplot as plt
import seaborn as sns

from sklearn.linear_model import LinearRegression, LogisticRegression









































btc_price_data = pd.read_csv("data/btc_usd/BTC-USD-5-Years.csv")
btc_price_data


btc_price_data.describe().T


btc_price_data.dtypes


btc_price_data.isnull().sum()


# Change datatype to Date !!!!!
# btc_price_data.Date = credit_risk_data.Date.astype("date") --> this ia not working





nasdaq_price_data = pd.read_csv("data/NASDAQ_Composite_USD/NASDAQ-Composite-5-Years.csv")
nasdaq_price_data


nasdaq_price_data.describe().T


nasdaq_price_data.dtypes


nasdaq_price_data.isnull().sum()


# Change datatype to Date !!!!!
# nasdaq_price_data.Date = nasdaq_price_data.Date.astype("date") --> this ia not working








sp_500__price_data = pd.read_csv("data/S_and_P_500-5-Years.csv")
sp_500__price_data


sp_500__price_data.describe().T


sp_500__price_data.dtypes


sp_500__price_data.isnull().sum()







































