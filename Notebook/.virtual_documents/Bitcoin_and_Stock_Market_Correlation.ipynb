import numpy as np
import pandas as pd
import matplotlib.pyplot as plt
import seaborn as sns

from sklearn.linear_model import LinearRegression, LogisticRegression





















































btc_price_data = pd.read_csv("data/btc_usd/BTC-USD-5-Years.csv")
btc_price_data


btc_price_data.describe().T


btc_price_data.dtypes


btc_price_data.isnull().sum()


btc_price_data.Date





sp_500_price_data = pd.read_csv("data/S_and_P_500-5-Years.csv")
sp_500_price_data


sp_500_price_data.describe().T


sp_500_price_data.dtypes


sp_500_price_data.isnull().sum()














btc_closing_price_data = btc_price_data[["Date", "Close"]].copy(deep=True)
btc_closing_price_data





btc_closing_price_data.Date = pd.to_datetime(btc_closing_price_data.Date)
btc_closing_price_data.dtypes





sp_500_closing_price_data = sp_500_price_data[["Date", "Close"]].copy(deep=True)
sp_500_closing_price_data





sp_500_closing_price_data.Date = pd.to_datetime(sp_500_closing_price_data.Date)
sp_500_closing_price_data.dtypes

















data_merged = btc_closing_price_data.merge(sp_500_closing_price_data, on = "Date", how = "left", suffixes = ("_BTC", "_S&P_500"))
data_merged.head(10)


data_merged.dtypes





data_filled = data_merged.ffill()
data_filled.head(10)
























