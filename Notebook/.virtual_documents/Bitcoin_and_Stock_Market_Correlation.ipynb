import numpy as np
import pandas as pd
import matplotlib.pyplot as plt
import seaborn as sns

from sklearn.linear_model import LinearRegression, LogisticRegression





















































btc_price_data = pd.read_csv("data/btc_usd/BTC-USD-5-Years.csv")
btc_price_data


btc_price_data.describe().T


btc_price_data.dtypes


btc_price_data.isnull().sum()





sp_500_price_data = pd.read_csv("data/S_and_P_500-5-Years.csv")
sp_500_price_data


sp_500_price_data.describe().T


sp_500_price_data.dtypes


sp_500_price_data.isnull().sum()














btc_closing_price_data = btc_price_data[["Date", "Close"]].copy(deep=True)
btc_closing_price_data





btc_closing_price_data.Date = pd.to_datetime(btc_closing_price_data.Date)
btc_closing_price_data.dtypes





sp_500_closing_price_data = sp_500_price_data[["Date", "Close"]].copy(deep=True)
sp_500_closing_price_data





sp_500_closing_price_data.Date = pd.to_datetime(sp_500_closing_price_data.Date)
sp_500_closing_price_data.dtypes











def compute_normalized_price(current_price, starting_price):
    return (current_price / starting_price) * 100





# Get the 'starting_price'
btc_starting_price = btc_closing_price_data.Close.loc[0]
# Compute 'normalized_price'
btc_closing_price_data["Normalized_Price"] = btc_closing_price_data.Close.apply(lambda current_price: compute_normalized_price(current_price, btc_starting_price))
btc_closing_price_data





# Get the 'starting_price'
sp_500_starting_price = sp_500_closing_price_data.Close.loc[0]
# Compute 'normalized_price'
sp_500_closing_price_data["Normalized_Price"] = sp_500_closing_price_data.Close.apply(lambda current_price: compute_normalized_price(current_price, sp_500_starting_price))
sp_500_closing_price_data.head()








def calculate_daily_return(prices_arr):
    """
     Calculate the daily return from the values in the 'prices_arr'
    """
    daily_return_prices = []
    price_day_1 = prices_arr[0]

    for price in prices_arr:
        price_day_2 = price

        # Calculate return 
        return_price = ((price_day_2 - price_day_1) / price_day_1) * 100
        daily_return_prices.append(return_price)
        
        price_day_1 = price_day_2
        
    return daily_return_prices


# def calculate_cumulative_returns(daily_returns_arr):
#     cumulative_returns = 1
#     for daily_return in daily_returns_arr:
#         cumulative_returns = cumulative_returns * (1 + daily_return)
        
#     return cumulative_returns - 1





btc_closing_price_data["BTC_Return"] = calculate_daily_return(btc_closing_price_data.Close)
btc_closing_price_data


# calculate_cumulative_returns(btc_closing_price_data["BTC_Return"])





sp_500_closing_price_data["SP_500_Return"] = calculate_daily_return(sp_500_closing_price_data.Close)
sp_500_closing_price_data


# calculate_cumulative_returns(sp_500_closing_price_data["SP_500_Return"])








data_merged = btc_closing_price_data.merge(sp_500_closing_price_data, on = "Date", how = "left", suffixes = ("_BTC", "_SP_500"))
data_merged.head(10)


data_merged.dtypes








data_merged["Close_BTC_Filled"] = data_merged.Close_BTC.ffill()
data_merged["Close_SP_500_Filled"] = data_merged.Close_SP_500.ffill()
data_merged["Normalized_Price_SP_500"] = data_merged.Normalized_Price_SP_500.ffill()





data_merged["SP_500_Return"] = data_merged.SP_500_Return.fillna(0)





data_merged.columns


data_tidy = data_merged[["Date", "Close_BTC", "Close_BTC_Filled",
                        "Close_SP_500", "Close_SP_500_Filled", 
                        "BTC_Return", "SP_500_Return",
                        "Normalized_Price_BTC", "Normalized_Price_SP_500"]].copy(deep=True)

data_tidy.head(10)


data_tidy.describe().T


data_tidy.dtypes






























