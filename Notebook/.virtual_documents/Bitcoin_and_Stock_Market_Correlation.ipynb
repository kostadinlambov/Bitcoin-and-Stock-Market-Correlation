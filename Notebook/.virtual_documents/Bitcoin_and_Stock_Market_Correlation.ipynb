import numpy as np
import pandas as pd
import matplotlib.pyplot as plt
import seaborn as sns

from sklearn.linear_model import LinearRegression, LogisticRegression
























































btc_price_data = pd.read_csv("data/btc_usd/BTC-USD-5-Years.csv")
btc_price_data


btc_price_data.describe().T


btc_price_data.dtypes


btc_price_data.isnull().sum()


btc_price_data.Date


# Change datatype to Date !!!!!
# btc_price_data.Date = credit_risk_data.Date.astype("date") --> this ia not working





sp_500_price_data = pd.read_csv("data/S_and_P_500-5-Years.csv")
sp_500_price_data


sp_500_price_data.describe().T


sp_500_price_data.dtypes


sp_500_price_data.isnull().sum()
























