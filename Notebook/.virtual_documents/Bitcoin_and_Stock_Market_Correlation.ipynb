import numpy as np
import pandas as pd
import matplotlib.pyplot as plt
import seaborn as sns
from scipy.stats import pearsonr












































btc_price_data = pd.read_csv("data/btc_usd/BTC-USD-5-Years.csv")
btc_price_data


btc_price_data.describe().T


btc_price_data.dtypes


btc_price_data.isnull().sum()





sp_500_price_data = pd.read_csv("data/sp500_usd/S_and_P_500-5-Years.csv")
sp_500_price_data


sp_500_price_data.describe().T


sp_500_price_data.dtypes


sp_500_price_data.isnull().sum()














btc_closing_price_data = btc_price_data[["Date", "Close"]].copy(deep=True)
btc_closing_price_data





btc_closing_price_data.Date = pd.to_datetime(btc_closing_price_data.Date)
btc_closing_price_data.dtypes





sp_500_closing_price_data = sp_500_price_data[["Date", "Close"]].copy(deep=True)
sp_500_closing_price_data





sp_500_closing_price_data.Date = pd.to_datetime(sp_500_closing_price_data.Date)
sp_500_closing_price_data.dtypes











def compute_normalized_price(current_price, starting_price):
    return (current_price / starting_price) * 100





# Get the 'starting_price'
btc_starting_price = btc_closing_price_data.Close.loc[0]
# Compute 'normalized_price'
btc_closing_price_data["Normalized_Price"] = btc_closing_price_data.Close.apply(lambda current_price: compute_normalized_price(current_price, btc_starting_price))
btc_closing_price_data





# Get the 'starting_price'
sp_500_starting_price = sp_500_closing_price_data.Close.loc[0]
# Compute 'normalized_price'
sp_500_closing_price_data["Normalized_Price"] = sp_500_closing_price_data.Close.apply(lambda current_price: compute_normalized_price(current_price, sp_500_starting_price))
sp_500_closing_price_data





def calculate_daily_return(prices_arr):
    """
     Calculate the daily return from the values in the 'prices_arr'
    """
    daily_return_prices = []
    price_day_1 = prices_arr[0]

    for price in prices_arr:
        price_day_2 = price

        # Calculate return 
        return_price = ((price_day_2 - price_day_1) / price_day_1) * 100
        daily_return_prices.append(return_price)
        
        price_day_1 = price_day_2
        
    return daily_return_prices





btc_closing_price_data["BTC_Return"] = calculate_daily_return(btc_closing_price_data.Close)
btc_closing_price_data





sp_500_closing_price_data["SP_500_Return"] = calculate_daily_return(sp_500_closing_price_data.Close)
sp_500_closing_price_data








data_merged = btc_closing_price_data.merge(sp_500_closing_price_data, on = "Date", how = "left", suffixes = ("_BTC", "_SP_500"))
data_merged.head(10)


data_merged.dtypes








data_merged["Close_BTC_Filled"] = data_merged.Close_BTC.ffill()
data_merged["Close_SP_500_Filled"] = data_merged.Close_SP_500.ffill()
data_merged["Normalized_Price_SP_500"] = data_merged.Normalized_Price_SP_500.ffill()





data_merged["SP_500_Return"] = data_merged.SP_500_Return.fillna(0)





data_merged.columns


data_tidy = data_merged[["Date", "Close_BTC", "Close_BTC_Filled",
                        "Close_SP_500", "Close_SP_500_Filled", 
                        "BTC_Return", "SP_500_Return",
                        "Normalized_Price_BTC", "Normalized_Price_SP_500"]].copy(deep=True)

data_tidy.head(10)


data_tidy.describe().T


data_tidy.dtypes





def plot_market_data(dates, prices, labels, title):
    plt.figure(figsize=(14, 7))
    
    ax = plt.gca()
    ax.set_facecolor('gainsboro')
    ax.xaxis.grid(True, color='white')
    ax.yaxis.grid(True, color='white')

    x_lim_start = dates[0]
    x_lim_end = dates[len(dates) - 1]
    # plt.xlim(x_lim_start, x_lim_end)
    ax.set_xlim(xmin=x_lim_start,xmax=x_lim_end)
    
    plt.plot(dates, prices)
    
    plt.xlabel(labels[0])
    plt.ylabel(labels[1])

    plt.title(title)
    plt.show()


def plot_multiple_market_data(dates, labels, legend, prices, title):
    plt.figure(figsize=(14, 7))
    
    ax = plt.gca()
    ax.set_facecolor('gainsboro') 
    ax.xaxis.grid(True, color='white')
    ax.yaxis.grid(True, color='white')

    x_lim_start = dates[0]
    x_lim_end = dates[len(dates) - 1]
    # plt.xlim(x_lim_start, x_lim_end)
    ax.set_xlim(xmin=x_lim_start,xmax=x_lim_end)
    
    plt.plot(dates, prices[0], label=legend[0])
    plt.plot(dates, prices[1], label=legend[1])
    
    plt.xlabel(labels[0])
    plt.ylabel(labels[1])

    plt.legend()
    
    plt.title(title)
    plt.show()


def plot_corr_scatter(first_var, labels_extrema_first_var, second_var, labels_extrema_second_var, labels, title, corr_coeff):
    plt.figure(figsize=(14, 7))
    
    ax = plt.gca()
    ax.set_facecolor('gainsboro')
    ax.xaxis.grid(True, color='white')
    ax.yaxis.grid(True, color='white')

    plt.scatter(first_var, second_var)

    # Plot Correlation Coefficient
    sns.regplot(x=first_var, y=second_var, line_kws=dict(color="y", label=f"Correllation Coeff (r): {corr_coeff:.2f}"))

    # Get max value for first_var
    plt.scatter(first_var.max(), second_var[first_var.idxmax()], marker="x", color = "orange")
    # Annotate the max value for first_var
    plt.annotate(labels_extrema_first_var[0], (first_var.max() + 0.5, second_var[first_var.idxmax()] + 0.5))
    # Get min value for first_var
    plt.scatter(first_var.min(), second_var[first_var.idxmin()], marker="x", color = "orange")
    # Annotate the min value for first_var
    plt.annotate(labels_extrema_first_var[1], (first_var.min() + 0.5, second_var[first_var.idxmin()]  + 0.5))

    # Get max value for second_var
    plt.scatter(first_var[second_var.idxmax()], second_var.max(), marker="x", color = "red")
    # Annotate the max value for second_var
    plt.annotate(labels_extrema_second_var[0], (first_var[second_var.idxmax()] + 0.5, second_var.max() + 0.5))
    # Get min value for second_var
    plt.scatter(first_var[second_var.idxmin()], second_var.min(), marker="x", color = "red")
    # Annotate the min value for second_var
    plt.annotate(labels_extrema_second_var[1], (first_var[second_var.idxmin()] + 0.5, second_var.min() + 0.5))
    
    plt.xlabel(labels[0])
    plt.ylabel(labels[1])

    plt.legend()

    plt.title(title)
    plt.show()


def plot_volatility(date, first_var, second_var, labels, title, legend, rolling_window):
    """
    Plot the Rolling Volatility over the 'rolling_window'
    """
    plt.figure(figsize=(14, 7))
    
    ax = plt.gca()
    ax.set_facecolor('gainsboro') 
    ax.xaxis.grid(True, color='white')
    ax.yaxis.grid(True, color='white')

    x_lim_start = dates[0]
    x_lim_end = dates[len(dates) - 1]
    ax.set_xlim(xmin=x_lim_start,xmax=x_lim_end)
    
    # Plot Bitcoin volatility
    plt.plot(date, first_var, label=legend[0], color='blue')
    
    # Plot S&P 500 volatility
    plt.plot(date, second_var, label=legend[1], color='red')
    
    plt.title(title)
    plt.xlabel(labels[0])
    plt.ylabel(labels[1])
    plt.legend()
    
    plt.show()





dates = data_tidy.Date
prices_normalized_btc = data_tidy.Close_BTC
title_btc = 'Bitcoin Price (Aug 2019 - Aug 2024)'

labels = ['Date', 'Price [USD]']

plot_market_data(dates, prices_normalized_btc, labels, title_btc)





dates_sp_500 = data_tidy.Date
prices_normalized_sp_500  = data_tidy.Close_SP_500_Filled
title = 'S&P_500 Price (Aug 2019 - Aug 2024)'

labels = ['Date', 'Price [USD]']

plot_market_data(dates_sp_500, prices_normalized_sp_500, labels, title)








dates = data_tidy.Date
prices_normalized_btc = data_tidy.Normalized_Price_BTC
prices_normalized_sp_500  = data_tidy.Normalized_Price_SP_500
title_btc = "Normalized Bitcoin Price vs. Normalized S&P_500 Price \n (Aug 2019 - Aug 2024)"

labels = ["Date", "Normalized Price [%]"]
legend = ["Normalized Bitcoin Price", "Normalized S&P_500 Price"]
prices = [prices_normalized_btc, prices_normalized_sp_500]

plot_multiple_market_data(dates, labels, legend, prices, title_btc)








dates = data_tidy.Date
btc_returns = data_tidy.BTC_Return
sp_500_returns  = data_tidy.SP_500_Return
title_btc = "Daily Bitcoin Returns vs. Daily S&P_500 Returns \n (Aug 2019 - Aug 2024)"

returns = [btc_returns, sp_500_returns]
labels = ["Date", "Daily Returns [%]"]
legend = ["Daily Bitcoin Returns", "Daily S&P_500 Returns"]

plot_multiple_market_data(dates, labels, legend, returns, title_btc)























correlation_columns = ["BTC_Return", "SP_500_Return"]
corr_dataframe = data_tidy[correlation_columns].corr("pearson")
corr_dataframe





btc_sp_500_returns_corr_coeff = corr_dataframe["BTC_Return"].iloc[1]
btc_sp_500_returns_corr_coeff





sns.heatmap(corr_dataframe, annot = True,  cmap = plt.cm.rainbow)
plt.show()





btc_returns = data_tidy.BTC_Return
sp_500_returns = data_tidy.SP_500_Return
title_corr_scatter_plot = 'BTC Returns vs. S&P_500 Returns (Aug 2019 - Aug 2024)'
btc_labels_extrema = ["Max BTC Returns", "Min BTC Returns"]
sp_500_labels_extrema = ["Max S&P_500 Returns", "Min S&P_500 Returns"]

labels = ['BTC Returns [%]', 'S&P_500 Returns [%]']

plot_corr_scatter(btc_returns, btc_labels_extrema, sp_500_returns, sp_500_labels_extrema, labels, title_corr_scatter_plot, btc_sp_500_returns_corr_coeff)





























corr, p_value = pearsonr(btc_returns, sp_500_returns)
print("Pearson Correlation Coefficient:", corr)
print("P-value:", p_value)


























# data_tidy["Rolling_Correlation_BTC_SP_500"] = data_tidy.Normalized_Price_BTC.rolling(window=90).corr(data_tidy.Normalized_Price_SP_500)
data_tidy["Rolling_Correlation_BTC_SP_500"] = data_tidy.BTC_Return.rolling(window=90).corr(data_tidy.SP_500_Return)


dates = data_tidy.Date
prices_normalized_btc = data_tidy.Rolling_Correlation_BTC_SP_500
title_btc = '90-Day Rolling Correlation BTC and S&P_500'

labels = ['Date', 'Correlation Coefficient']

plot_market_data(dates, prices_normalized_btc, labels, title_btc)




















data_tidy.describe()[["BTC_Return", "SP_500_Return"]].T





print("Standard Deviation (BTC_Return): ", data_tidy.BTC_Return.std())
print("Mean value (BTC_Return): ", data_tidy.BTC_Return.mean())





print("Standard Deviation (SP_500_Return): ", data_tidy.SP_500_Return.std())
print("Mean value (SP_500_Return): ", data_tidy.SP_500_Return.mean())

















# Define the rolling window size
rolling_window = 30

# Calculate rolling standard deviation (volatility)
data_tidy['Bitcoin_Return_Volatility'] = data_tidy.BTC_Return.rolling(window=rolling_window).std()
data_tidy['SP_500_Return_Volatility'] = data_tidy.SP_500_Return.rolling(window=rolling_window).std()

title = 'Rolling 30-Day Volatility of Bitcoin and S&P 500'
labels = ['Date', 'Volatility (Standard Deviation)']
legend = ['Bitcoin Volatility', 'S&P 500 Volatility']

plot_volatility(data_tidy.Date, data_tidy.Bitcoin_Return_Volatility, data_tidy.SP_500_Return_Volatility, labels, title, legend, rolling_window)























# Calculate the covariance between Bitcoin and S&P 500
covariance = data_tidy.BTC_Return.cov( data_tidy.SP_500_Return)

# Calculate the variance of S&P 500 returns
variance_sp500 = data_tidy.SP_500_Return.var()

# Calculate Beta
beta_bitcoin = covariance / variance_sp500
beta_bitcoin




































