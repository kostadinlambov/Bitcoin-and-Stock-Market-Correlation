import numpy as np
import pandas as pd
import matplotlib.pyplot as plt

import pycoingecko
import datetime








# Initialize CoinGecko API client
coinGecko = pycoingecko.CoinGeckoAPI()
# Get historical price data for Bitcoin
btc_data = coinGecko.get_coin_market_chart_by_id('bitcoin', 'usd', '365days')
btc_data




# Initialize CoinGecko API client
coinGecko = pycoingecko.CoinGeckoAPI()
# Get historical price data for Bitcoin
btc_data = coinGecko.get_coin_market_chart_by_id('bitcoin', 'usd', '365days')
# Extract the dates and prices from the data
dates = [data[0] for data in btc_data['prices']]
# convert unix timestamp to datetime
dates = [
    datetime.datetime.fromtimestamp(date/1000)
    for date in dates
]
prices = [data[1] for data in btc_data['prices']]
# Plot the data
plt.plot(dates, prices)
plt.xlabel('Date')
plt.ylabel('Price (USD)')
plt.title('Historical Bitcoin Price (USD)')
plt.show()


dates








# Process Gold JSON File
# input_file_path = "data/gold_prices.json"
# output_path = "data/Gold-USD-5-Years.csv"


# Process S&P_500 JSON File
input_file_path = "data/S_and_P_500-5-Years.json"
output_path = "data/S_and_P_500-5-Years.csv"


def read_file(file_path):
    with open(file_path, "r") as file:
      return json.loads(file.read())


def save_file(data, path):
    """
    Save the data locally
    """
    json_data.to_csv(path, sep=',', encoding='utf-8', index=False, header=True)


def timestamp_to_date(timestamp):
    return datetime.datetime.fromtimestamp(timestamp).date()


def process_json(file_path):
    """
     Load a json file and process it to a dataframe
    """
    # Load the JSON file
    json_data = read_file(file_path)
    
    # Create dataframe with 'open', close', high', low', volume' and 'timestamp'  values
    json_data_quote = pd.json_normalize(json_data, record_path=["chart", "result", "indicators", "quote"], 
                                  meta=[
                                      ["chart", "result"[0], "timestamp"]
                                  ])
    
    json_data_quote_exploded = json_data_quote.explode(["close", "open", "high", "low", "volume", "chart.r.timestamp"])
    
    # Create dataframe with 'adjclose'  and 'timestamp' values
    json_data_adjclose = pd.json_normalize(json_data, record_path=["chart", "result", "indicators", "adjclose"], 
                                  meta=[
                                      ["chart", "result"[0], "timestamp"]
                                  ])

    json_data_adjclose_exploded = json_data_adjclose.explode(["chart.r.timestamp", "adjclose"])
    
    # Merge the two dataframes on the 'timestamp' after exploding of the columns
    json_data_merged = json_data_quote_exploded.merge(json_data_adjclose_exploded, on = "chart.r.timestamp")
    
    # Rename the columns
    json_data_merged.rename(
        columns={"close": "Close", "open": "Open", "high": "High", "low": "Low", "volume": "Volume", "chart.r.timestamp": "Date", "adjclose": "Adj Close"},
                                         inplace = True)
    
    # Reorder columns
    json_data_merged = json_data_merged[
        ["Date", "Open",  "High", "Low", "Close", "Adj Close", "Volume"]
    ]
    
    # Convert timestamp to date
    json_data_merged.Date = json_data_merged.Date.apply(timestamp_to_date)

    return json_data_merged



json_data = process_json(input_file_path)
json_data


save_file(json_data, output_path)





# Initialize CoinGecko API client
coinGecko = pycoingecko.CoinGeckoAPI()
# Get historical price data for Bitcoin
#btc_data = coinGecko.get_coin_market_chart_by_id('bitcoin', 'usd', '365days')
# Extract the dates and prices from the data
dates = gold_data_merged_after_explode.Date
# convert unix timestamp to datetime
# dates = [
#     datetime.datetime.fromtimestamp(date/1000)
#     for date in dates
# ]
prices = gold_data_merged_after_explode.Close
# Plot the data
plt.plot(dates, prices)
plt.xlabel('Date')
plt.ylabel('Price (USD)')
plt.title('Historical Gold Price (USD)')
plt.show()


# gold_data_merged_after_explode.to_csv("data/Gold-USD-5-Years.csv", sep=',', encoding='utf-8', index=False, header=True)



