import numpy as np
import pandas as pd
import matplotlib.pyplot as plt
import seaborn as sns











nasdaq_price_data = pd.read_csv("data/NASDAQ_Composite_USD/NASDAQ-Composite-5-Years.csv")
nasdaq_price_data


nasdaq_price_data.describe().T


nasdaq_price_data.dtypes


nasdaq_price_data.isnull().sum()


# Change datatype to Date !!!!!
# btc_price_data.Date = credit_risk_data.Date.astype("date") --> this ia not working





gold_price_data = pd.read_csv("data/Gold-USD-5-Years.csv")
gold_price_data


gold_price_data.describe().T


gold_price_data.dtypes


gold_price_data.isnull().sum()





# https://stackoverflow.com/questions/45704366/how-to-change-the-datetime-tick-label-frequency

# import pandas as pd
# import matplotlib.pyplot as plt
# import matplotlib.dates as mdates

# # Process dataset
# bitcoin['Date'] = pd.to_datetime(bitcoin['Date'])
# bitcoin['Open'] = pd.to_numeric(bitcoin['Open'])

# # Plot
# plt.figure()
# plt.plot(bitcoin['Date'], bitcoin['Open'])
# ax = plt.gca()
# ax.xaxis.set_major_locator(mdates.MonthLocator(interval=4))
# ax.xaxis.set_major_formatter(mdates.DateFormatter('%d-%m-%Y'))
# plt.gcf().autofmt_xdate() # Rotation
# plt.show()


import matplotlib.dates as mdates

def plot_market_data(dates, prices, title):
    plt.plot(dates, prices)
    
    plt.xlabel('Date')
    plt.ylabel('Price (USD)')
    # plt.xticks(rotation=30)
    # plt.xticks(np.arange(0, len(a) + 1, 5))

    # plt.xticks(range(2019, 2024, 1))

    # locator = mdate.YearLocator()
    # locator = mdate.AutoDateLocator()
    # plt.gca().xaxis.set_major_locator()
    # plt.gca().xaxis.set_major_locator(locator)

    ax = plt.gca()
    ax.xaxis.set_major_locator(mdates.MonthLocator(interval=6))
    # ax.xaxis.set_major_formatter(mdates.DateFormatter('%Y'))
    ax.xaxis.set_major_formatter(mdates.DateFormatter('%d-%m-%Y'))
    plt.gcf().autofmt_xdate() # Rotation


    
    # # set formatter
    # ax.xaxis.set_major_formatter(mdates.DateFormatter('%d-%m-%Y'))

    # loc = plticker.MultipleLocator(base=1.0) # this locator puts ticks at regular intervals
    # ax.xaxis.set_major_locator(loc)
    # loc = plt_dates.AutoDateLocator()
    # plt.axis.set_major_locator(loc)

    # ax = df.plot()
    # # set monthly locator
    # ax.xaxis.set_major_locator(mdates.MonthLocator(interval=1))
    # # set formatter
    # ax.xaxis.set_major_formatter(mdates.DateFormatter('%d-%m-%Y'))
    # # set font and rotation for date tick labels
    # plt.gcf().autofmt_xdate()
    
    
    plt.title(title)
    plt.show()



