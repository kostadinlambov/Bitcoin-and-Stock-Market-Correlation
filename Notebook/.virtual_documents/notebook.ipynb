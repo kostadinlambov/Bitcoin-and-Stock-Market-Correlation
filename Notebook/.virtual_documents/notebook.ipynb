





























def calculate_cumulative_returns(daily_returns_arr):
    cumulative_returns = 1
    for daily_return in daily_returns_arr:
        cumulative_returns = cumulative_returns * (1 + daily_return)
        
    return cumulative_returns - 1


# calculate_cumulative_returns(sp_500_closing_price_data["SP_500_Return"])


# Calculate the daily percentage returns
# data['NASDAQ_Return'] = data['NASDAQ'].pct_change() * 100


# Using another correlation coefficient - Spearman rank correlation
# data_tidy[correlation_columns].corr("spearman")


# Using Kendall Tau correlation coefficient 
# data_tidy[correlation_columns].corr("kendall")












