





























def calculate_cumulative_returns(daily_returns_arr):
    cumulative_returns = 1
    for daily_return in daily_returns_arr:
        cumulative_returns = cumulative_returns * (1 + daily_return)
        
    return cumulative_returns - 1





# Calculate the daily percentage returns
# data['NASDAQ_Return'] = data['NASDAQ'].pct_change() * 100



