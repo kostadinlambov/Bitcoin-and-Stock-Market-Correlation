import numpy as np
import pandas as pd
import matplotlib.pyplot as plt

import pycoingecko
import datetime








def read_file(file_path):
    with open(file_path, "r") as file:
      return json.loads(file.read())


def save_file(data, path):
    """
    Save the data locally
    """
    data.to_csv(path, sep=',', encoding='utf-8', index=False, header=True)


def timestamp_to_date(timestamp):
    """
    Converts the 'timestampt' to a date
    """
    return datetime.datetime.fromtimestamp(timestamp).date()



def format_date(date, date_format):
    """
    Returns the 'date' formatted with the 'date_format'
    """
    return date.strftime(date_format)


def process_json(file_path):
    """
     Load a json file and process it to a dataframe
    """
    # Load the JSON file
    json_data = read_file(file_path)
    
    # Create dataframe with 'open', close', high', low', volume' and 'timestamp'  values
    json_data_quote = pd.json_normalize(json_data, record_path=["chart", "result", "indicators", "quote"], 
                                  meta=[
                                      ["chart", "result"[0], "timestamp"]
                                  ])
    
    json_data_quote_exploded = json_data_quote.explode(["close", "open", "high", "low", "volume", "chart.r.timestamp"])
    
    # Create dataframe with 'adjclose'  and 'timestamp' values
    json_data_adjclose = pd.json_normalize(json_data, record_path=["chart", "result", "indicators", "adjclose"], 
                                  meta=[
                                      ["chart", "result"[0], "timestamp"]
                                  ])

    json_data_adjclose_exploded = json_data_adjclose.explode(["chart.r.timestamp", "adjclose"])
    
    # Merge the two dataframes on the 'timestamp' after exploding of the columns
    json_data_merged = json_data_quote_exploded.merge(json_data_adjclose_exploded, on = "chart.r.timestamp")
    
    # Rename the columns
    json_data_merged.rename(
        columns={"close": "Close", "open": "Open", "high": "High", "low": "Low", "volume": "Volume", "chart.r.timestamp": "Date", "adjclose": "Adj Close"},
                                         inplace = True)
    
    # Reorder columns
    json_data_merged = json_data_merged[
        ["Date", "Open",  "High", "Low", "Close", "Adj Close", "Volume"]
    ]
    
    # Convert timestamp to date
    json_data_merged.Date = json_data_merged.Date.apply(timestamp_to_date)

    return json_data_merged



def plot_market_data(dates, prices, title):
    plt.plot(dates, prices)
    
    plt.xlabel('Date')
    plt.ylabel('Price (USD)')
    
    plt.title(title)
    plt.show()





# Process S&P_500 JSON File
input_file_path = "data/S_and_P_500-5-Years.json"
output_path = "data/S_and_P_500-5-Years.csv"

sp_500_json_data = process_json(input_file_path)
sp_500_json_data


sp_500_json_data.Date


sp_500_json_data.Close


# Plot the data
dates = sp_500_json_data.Date
prices = sp_500_json_data.Close
title = 'Historical S&P 500 Price (USD)'
plot_market_data(dates, prices, title)


# Save the created Dataframe as CSV file
# save_file(sp_500_json_data, output_path)





# Process Gold JSON File
input_file_path = "data/gold_prices.json"
output_path = "data/Gold-USD-5-Years.csv"

gold_json_data = process_json(input_file_path)
gold_json_data


# Plot the data
dates = gold_json_data.Date
prices = gold_json_data.Close
title = 'Historical Gold Price (USD)'
plot_market_data(dates, prices, title)


# Save the created Dataframe as CSV file
# save_file(gold_json_data, output_path)'








# Initialize CoinGecko API client
coinGecko = pycoingecko.CoinGeckoAPI()
# Get historical price data for Bitcoin for the last 365 days
btc_data = coinGecko.get_coin_market_chart_by_id('bitcoin', 'usd', '365days')
# Extract the dates and prices from the data
dates = [data[0] for data in btc_data['prices']]
# convert unix timestamp to datetime
dates = [
    datetime.datetime.fromtimestamp(date/1000)
    for date in dates
]
prices = [data[1] for data in btc_data['prices']]
# Plot the data
plt.plot(dates, prices)
plt.xlabel('Date')
plt.ylabel('Price (USD)')
plt.title('Historical Bitcoin Price (USD)')
plt.show()
