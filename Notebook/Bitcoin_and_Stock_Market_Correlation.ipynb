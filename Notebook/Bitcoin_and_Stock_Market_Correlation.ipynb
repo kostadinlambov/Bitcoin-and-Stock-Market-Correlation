{
 "cells": [
  {
   "cell_type": "code",
   "execution_count": 1,
   "id": "dc18a6be-6cde-47a9-9956-0ae025acabd5",
   "metadata": {
    "ExecuteTime": {
     "end_time": "2024-08-31T23:40:27.609184Z",
     "start_time": "2024-08-31T23:40:27.604237Z"
    }
   },
   "outputs": [],
   "source": [
    "import numpy as np\n",
    "import pandas as pd\n",
    "import matplotlib.pyplot as plt\n",
    "import seaborn as sns\n",
    "\n",
    "from sklearn.linear_model import LinearRegression, LogisticRegression"
   ]
  },
  {
   "cell_type": "markdown",
   "id": "a44ac09a-56bd-4357-8f15-162983f4049f",
   "metadata": {},
   "source": [
    "# Bitcoin and Stock Market Correlation"
   ]
  },
  {
   "cell_type": "code",
   "execution_count": null,
   "id": "530229cc-6318-4a53-9a4a-512cbc512627",
   "metadata": {
    "ExecuteTime": {
     "end_time": "2024-08-31T23:40:28.080Z",
     "start_time": "2024-08-31T23:40:28.077284Z"
    }
   },
   "outputs": [],
   "source": []
  },
  {
   "cell_type": "markdown",
   "id": "c90bad9a-a9c8-4b2f-aeb9-c0edb460ce68",
   "metadata": {},
   "source": [
    "## How to compare the cost movement between s&p 500 and bitcoin?"
   ]
  },
  {
   "cell_type": "markdown",
   "id": "e3334899-2e52-4e42-8499-10b5f6ed7855",
   "metadata": {},
   "source": [
    "Comparing the cost movement between the S&P 500 and Bitcoin involves analyzing their price changes over time to see how they relate to each other. Here's how you can approach this comparison:\n",
    "\n",
    "### 1. **Collect Data**\n",
    "   - **S&P 500**: Obtain historical price data for the S&P 500 index, typically in the form of daily closing prices.\n",
    "   - **Bitcoin**: Obtain historical price data for Bitcoin, also in daily closing prices.\n",
    "\n",
    "### 2. **Align Time Periods**\n",
    "   - Ensure that the data for both assets covers the same time period and is on the same frequency (e.g., daily prices). Align the dates so that each row in your data corresponds to the same day for both the S&P 500 and Bitcoin.\n",
    "\n",
    "### 3. **Normalize Prices**\n",
    "   - Since the S&P 500 and Bitcoin have vastly different price levels, it's helpful to normalize their prices. You can do this by converting prices to returns or by indexing both to 100 at the start of your chosen time period.\n",
    "   - **Returns Calculation**: Calculate the daily return for each asset as:\n",
    "     \\[\n",
    "     \\text{Return}_t = \\frac{\\text{Price}_t - \\text{Price}_{t-1}}{\\text{Price}_{t-1}}\n",
    "     \\]\n",
    "   - **Indexing**: Set the initial price of both assets to 100 and then calculate the subsequent prices based on their daily returns.\n",
    "\n",
    "### 4. **Visualize the Data**\n",
    "   - **Line Chart**: Plot the normalized prices or returns over time on the same chart to visually compare their movements.\n",
    "   - **Scatter Plot**: Plot the returns of Bitcoin against the returns of the S&P 500 to see if there's any correlation.\n",
    "\n",
    "### 5. **Statistical Analysis**\n",
    "   - **Correlation**: Calculate the Pearson correlation coefficient between the daily returns of the S&P 500 and Bitcoin. This will give you a measure of the linear relationship between the two assets. A correlation close to 1 means they move together, while a correlation close to -1 means they move in opposite directions.\n",
    "   - **Volatility Comparison**: Analyze and compare the volatility (standard deviation of returns) of both assets to understand their risk levels.\n",
    "   - **Beta**: Calculate Bitcoin's beta with respect to the S&P 500 to see how sensitive Bitcoin is to movements in the S&P 500.\n",
    "\n",
    "### 6. **Interpret the Results**\n",
    "   - **Correlation Interpretation**: If the correlation is high, it indicates that Bitcoin and the S&P 500 have been moving similarly. A low or negative correlation suggests they move independently or inversely.\n",
    "   - **Risk Comparison**: Higher volatility in Bitcoin might indicate higher risk compared to the S&P 500.\n",
    "   - **Trends and Patterns**: Look for periods where the relationship between the two assets changes, such as during market crashes or bull runs.\n",
    "\n",
    "### 7. **Advanced Techniques (Optional)**\n",
    "   - **Rolling Correlation**: Calculate the correlation over a rolling window (e.g., 30 days) to see how the relationship between Bitcoin and the S&P 500 evolves over time.\n",
    "   - **Cointegration Analysis**: If you're interested in the long-term relationship, you could perform a cointegration test to see if there's a stable, long-term equilibrium between the two.\n",
    "\n",
    "By following these steps, you'll be able to compare the cost movement between the S&P 500 and Bitcoin, providing insights into how these two different assets interact with each other in the financial markets."
   ]
  },
  {
   "cell_type": "markdown",
   "id": "eb0c0e1d-0d22-45ab-9f44-1841e5e49c91",
   "metadata": {},
   "source": [
    "### 8. Links\n",
    "\n",
    "https://coinbureau.com/analysis/bitcoin-and-stock-market-correlation/\n",
    "\n",
    "https://www.google.com/search?q=s%26p+500+bitcoin+correlation&oq=s%26p+500+bitcoin+&gs_lcrp=EgZjaHJvbWUqBwgBEAAYgAQyCggAEEUYFhgeGDkyBwgBEAAYgAQyBwgCEAAYgAQyCAgDEAAYFhgeMggIBBAAGBYYHjIICAUQABgWGB4yCAgGEAAYFhgeMggIBxAAGBYYHjIICAgQABgWGB4yCAgJEAAYFhge0gEJMjA3MzVqMGoxqAIAsAIA&sourceid=chrome&ie=UTF-8\n",
    "\n"
   ]
  },
  {
   "cell_type": "markdown",
   "id": "60e91762-3276-412f-8fe2-df998f166ad8",
   "metadata": {},
   "source": [
    "## 1. Introduction"
   ]
  },
  {
   "cell_type": "markdown",
   "id": "6b79f3ab-d75a-43f8-bff7-f72df8dd4fb6",
   "metadata": {},
   "source": [
    "Traders analyze the movements of financial instruments to gauge market sentiment and predict trends, operating under the belief that certain assets are correlated. Understanding the correlation between two assets provides valuable insights.\n",
    "\n",
    "Both Bitcoin and stocks are speculative assets, often traded based on price speculation rather than intrinsic value. This similarity implies that stock movements may reflect the market's risk appetite, potentially allowing predictions about Bitcoin's behavior. Investors willing to take on more risk may invest in these speculative assets.\n",
    "\n",
    "This analysis evaluates the correlation between stocks and Bitcoin, examining their historical interactions and the impact of macroeconomic factors such as inflation and interest rates. The goal is to determine whether stock market movements can predict Bitcoin's price behavior."
   ]
  },
  {
   "cell_type": "markdown",
   "id": "797d6384-dbbb-4f25-aafd-3c195494aeac",
   "metadata": {},
   "source": [
    "### 1.1. What is Bitcoin?"
   ]
  },
  {
   "cell_type": "markdown",
   "id": "07d05522-4d5b-433c-8451-806cebcaef18",
   "metadata": {},
   "source": [
    "**Bitcoin** is a decentralized digital currency that you can buy, sell and exchange directly, without an intermediary like a bank. Bitcoin’s creator, Satoshi Nakamoto, originally described the need for “an electronic payment system based on cryptographic proof instead of trust.”\n",
    "\n",
    "Every Bitcoin transaction that’s ever been made exists on a public ledger accessible to everyone, making transactions hard to reverse and difficult to fake. That’s by design: Core to their decentralized nature, Bitcoins aren’t backed by the government or any issuing institution, and there’s nothing to guarantee their value besides the proof baked in the heart of the system [2]."
   ]
  },
  {
   "cell_type": "markdown",
   "id": "7b02da03-8ff5-4345-bdaa-0fccbab1ac67",
   "metadata": {},
   "source": [
    "### 1.2. What Is the S&P 500 Index?"
   ]
  },
  {
   "cell_type": "markdown",
   "id": "04bb7ef7-4501-4f01-b3e7-23e42e087e58",
   "metadata": {},
   "source": [
    "The **S&P 500 Index** or **Standard & Poor's 500 Index** is a market-capitalization-weighted index of 500 leading publicly traded companies in the U.S. The index includes 503 components because three have two share classes listed.\n",
    "\n",
    "It's not an exact list of the top 500 U.S. companies by market cap because the index includes other criteria. The S&P 500 index is nonetheless regarded as one of the best gauges of prominent American equities' performance and the stock market overall [3]."
   ]
  },
  {
   "cell_type": "markdown",
   "id": "9e5afca3-c396-46bd-936e-c1efbc7a6ea5",
   "metadata": {},
   "source": [
    "## 2. Methodology and Research Design"
   ]
  },
  {
   "cell_type": "markdown",
   "id": "1169cef5-06f0-477c-ad77-3e41809ad37e",
   "metadata": {},
   "source": [
    "This study uses a quantitative research design to analyze the relationship between **Bitcoin** prices and the **stock market** over the **past five years** with the **S&P 500 Index** serving as a proxy for the stock market.\n",
    "\n",
    "**TODO: maybe a little bit more about the Methodology and Research Design**"
   ]
  },
  {
   "cell_type": "markdown",
   "id": "17c110c2-16ce-437c-aa77-e546d54fc98d",
   "metadata": {},
   "source": [
    "## 3. Data Acquisition\n",
    "\n",
    "Data were collected from the following sources:\n",
    "\n",
    "- Bitcoin Prices: Bitcoin's daily closing prices were obtained from [finance.yahoo.com](https://finance.yahoo.com/quote/BTC-USD/history/).\n",
    "- S&P 500 Index: Daily index values were obtained from [finance.yahoo.com](https://finance.yahoo.com/quote/%5EGSPC/history/).\n",
    "\n",
    "The study period spans **five years**, from August 2019 to August 2024."
   ]
  },
  {
   "cell_type": "markdown",
   "id": "88cec197-9945-4190-9da0-3e02ce3dd436",
   "metadata": {},
   "source": [
    "## 4. Data Processing"
   ]
  },
  {
   "cell_type": "markdown",
   "id": "4a223940-5bd6-4c18-94bf-0da9ec2c7bae",
   "metadata": {},
   "source": [
    "## 4.1. Read Data"
   ]
  },
  {
   "cell_type": "markdown",
   "id": "d6428453-d739-45c3-957c-97aa0a430fe5",
   "metadata": {},
   "source": [
    "### 4.1.1. Read Bitcoin price movement data for the last 5 years"
   ]
  },
  {
   "cell_type": "code",
   "execution_count": 2,
   "id": "e16e2a11-b921-498b-80e0-cc015e761fea",
   "metadata": {
    "ExecuteTime": {
     "end_time": "2024-08-31T23:40:28.175831Z",
     "start_time": "2024-08-31T23:40:28.154301Z"
    }
   },
   "outputs": [
    {
     "data": {
      "text/html": [
       "<div>\n",
       "<style scoped>\n",
       "    .dataframe tbody tr th:only-of-type {\n",
       "        vertical-align: middle;\n",
       "    }\n",
       "\n",
       "    .dataframe tbody tr th {\n",
       "        vertical-align: top;\n",
       "    }\n",
       "\n",
       "    .dataframe thead th {\n",
       "        text-align: right;\n",
       "    }\n",
       "</style>\n",
       "<table border=\"1\" class=\"dataframe\">\n",
       "  <thead>\n",
       "    <tr style=\"text-align: right;\">\n",
       "      <th></th>\n",
       "      <th>Date</th>\n",
       "      <th>Open</th>\n",
       "      <th>High</th>\n",
       "      <th>Low</th>\n",
       "      <th>Close</th>\n",
       "      <th>Adj Close</th>\n",
       "      <th>Volume</th>\n",
       "    </tr>\n",
       "  </thead>\n",
       "  <tbody>\n",
       "    <tr>\n",
       "      <th>0</th>\n",
       "      <td>2019-08-26</td>\n",
       "      <td>10126.299805</td>\n",
       "      <td>10512.328125</td>\n",
       "      <td>10126.299805</td>\n",
       "      <td>10370.820313</td>\n",
       "      <td>10370.820313</td>\n",
       "      <td>18438654080</td>\n",
       "    </tr>\n",
       "    <tr>\n",
       "      <th>1</th>\n",
       "      <td>2019-08-27</td>\n",
       "      <td>10372.826172</td>\n",
       "      <td>10381.328125</td>\n",
       "      <td>10087.300781</td>\n",
       "      <td>10185.500000</td>\n",
       "      <td>10185.500000</td>\n",
       "      <td>14762609503</td>\n",
       "    </tr>\n",
       "    <tr>\n",
       "      <th>2</th>\n",
       "      <td>2019-08-28</td>\n",
       "      <td>10203.426758</td>\n",
       "      <td>10279.366211</td>\n",
       "      <td>9716.656250</td>\n",
       "      <td>9754.422852</td>\n",
       "      <td>9754.422852</td>\n",
       "      <td>17603790323</td>\n",
       "    </tr>\n",
       "    <tr>\n",
       "      <th>3</th>\n",
       "      <td>2019-08-29</td>\n",
       "      <td>9756.786133</td>\n",
       "      <td>9756.786133</td>\n",
       "      <td>9421.629883</td>\n",
       "      <td>9510.200195</td>\n",
       "      <td>9510.200195</td>\n",
       "      <td>17045878501</td>\n",
       "    </tr>\n",
       "    <tr>\n",
       "      <th>4</th>\n",
       "      <td>2019-08-30</td>\n",
       "      <td>9514.844727</td>\n",
       "      <td>9656.124023</td>\n",
       "      <td>9428.302734</td>\n",
       "      <td>9598.173828</td>\n",
       "      <td>9598.173828</td>\n",
       "      <td>13595263986</td>\n",
       "    </tr>\n",
       "    <tr>\n",
       "      <th>...</th>\n",
       "      <td>...</td>\n",
       "      <td>...</td>\n",
       "      <td>...</td>\n",
       "      <td>...</td>\n",
       "      <td>...</td>\n",
       "      <td>...</td>\n",
       "      <td>...</td>\n",
       "    </tr>\n",
       "    <tr>\n",
       "      <th>1820</th>\n",
       "      <td>2024-08-19</td>\n",
       "      <td>58480.710938</td>\n",
       "      <td>59612.660156</td>\n",
       "      <td>57864.710938</td>\n",
       "      <td>59493.453125</td>\n",
       "      <td>59493.453125</td>\n",
       "      <td>25911207712</td>\n",
       "    </tr>\n",
       "    <tr>\n",
       "      <th>1821</th>\n",
       "      <td>2024-08-20</td>\n",
       "      <td>59493.453125</td>\n",
       "      <td>61396.328125</td>\n",
       "      <td>58610.882813</td>\n",
       "      <td>59012.792969</td>\n",
       "      <td>59012.792969</td>\n",
       "      <td>31613400008</td>\n",
       "    </tr>\n",
       "    <tr>\n",
       "      <th>1822</th>\n",
       "      <td>2024-08-21</td>\n",
       "      <td>59014.988281</td>\n",
       "      <td>61834.351563</td>\n",
       "      <td>58823.445313</td>\n",
       "      <td>61175.191406</td>\n",
       "      <td>61175.191406</td>\n",
       "      <td>32731154072</td>\n",
       "    </tr>\n",
       "    <tr>\n",
       "      <th>1823</th>\n",
       "      <td>2024-08-22</td>\n",
       "      <td>61168.316406</td>\n",
       "      <td>61408.109375</td>\n",
       "      <td>59815.253906</td>\n",
       "      <td>60381.914063</td>\n",
       "      <td>60381.914063</td>\n",
       "      <td>27625734377</td>\n",
       "    </tr>\n",
       "    <tr>\n",
       "      <th>1824</th>\n",
       "      <td>2024-08-23</td>\n",
       "      <td>60380.953125</td>\n",
       "      <td>64947.062500</td>\n",
       "      <td>60372.050781</td>\n",
       "      <td>64094.355469</td>\n",
       "      <td>64094.355469</td>\n",
       "      <td>42530509233</td>\n",
       "    </tr>\n",
       "  </tbody>\n",
       "</table>\n",
       "<p>1825 rows × 7 columns</p>\n",
       "</div>"
      ],
      "text/plain": [
       "            Date          Open          High           Low         Close  \\\n",
       "0     2019-08-26  10126.299805  10512.328125  10126.299805  10370.820313   \n",
       "1     2019-08-27  10372.826172  10381.328125  10087.300781  10185.500000   \n",
       "2     2019-08-28  10203.426758  10279.366211   9716.656250   9754.422852   \n",
       "3     2019-08-29   9756.786133   9756.786133   9421.629883   9510.200195   \n",
       "4     2019-08-30   9514.844727   9656.124023   9428.302734   9598.173828   \n",
       "...          ...           ...           ...           ...           ...   \n",
       "1820  2024-08-19  58480.710938  59612.660156  57864.710938  59493.453125   \n",
       "1821  2024-08-20  59493.453125  61396.328125  58610.882813  59012.792969   \n",
       "1822  2024-08-21  59014.988281  61834.351563  58823.445313  61175.191406   \n",
       "1823  2024-08-22  61168.316406  61408.109375  59815.253906  60381.914063   \n",
       "1824  2024-08-23  60380.953125  64947.062500  60372.050781  64094.355469   \n",
       "\n",
       "         Adj Close       Volume  \n",
       "0     10370.820313  18438654080  \n",
       "1     10185.500000  14762609503  \n",
       "2      9754.422852  17603790323  \n",
       "3      9510.200195  17045878501  \n",
       "4      9598.173828  13595263986  \n",
       "...            ...          ...  \n",
       "1820  59493.453125  25911207712  \n",
       "1821  59012.792969  31613400008  \n",
       "1822  61175.191406  32731154072  \n",
       "1823  60381.914063  27625734377  \n",
       "1824  64094.355469  42530509233  \n",
       "\n",
       "[1825 rows x 7 columns]"
      ]
     },
     "execution_count": 2,
     "metadata": {},
     "output_type": "execute_result"
    }
   ],
   "source": [
    "btc_price_data = pd.read_csv(\"data/btc_usd/BTC-USD-5-Years.csv\")\n",
    "btc_price_data"
   ]
  },
  {
   "cell_type": "code",
   "execution_count": 3,
   "id": "7effc1a0-d191-475c-8b84-17de4a03d4c1",
   "metadata": {
    "ExecuteTime": {
     "end_time": "2024-08-31T23:40:28.390247Z",
     "start_time": "2024-08-31T23:40:28.356501Z"
    }
   },
   "outputs": [
    {
     "data": {
      "text/html": [
       "<div>\n",
       "<style scoped>\n",
       "    .dataframe tbody tr th:only-of-type {\n",
       "        vertical-align: middle;\n",
       "    }\n",
       "\n",
       "    .dataframe tbody tr th {\n",
       "        vertical-align: top;\n",
       "    }\n",
       "\n",
       "    .dataframe thead th {\n",
       "        text-align: right;\n",
       "    }\n",
       "</style>\n",
       "<table border=\"1\" class=\"dataframe\">\n",
       "  <thead>\n",
       "    <tr style=\"text-align: right;\">\n",
       "      <th></th>\n",
       "      <th>count</th>\n",
       "      <th>mean</th>\n",
       "      <th>std</th>\n",
       "      <th>min</th>\n",
       "      <th>25%</th>\n",
       "      <th>50%</th>\n",
       "      <th>75%</th>\n",
       "      <th>max</th>\n",
       "    </tr>\n",
       "  </thead>\n",
       "  <tbody>\n",
       "    <tr>\n",
       "      <th>Open</th>\n",
       "      <td>1825.0</td>\n",
       "      <td>3.146285e+04</td>\n",
       "      <td>1.847850e+04</td>\n",
       "      <td>5.002578e+03</td>\n",
       "      <td>1.644179e+04</td>\n",
       "      <td>2.862262e+04</td>\n",
       "      <td>4.419298e+04</td>\n",
       "      <td>7.307938e+04</td>\n",
       "    </tr>\n",
       "    <tr>\n",
       "      <th>High</th>\n",
       "      <td>1825.0</td>\n",
       "      <td>3.216063e+04</td>\n",
       "      <td>1.891376e+04</td>\n",
       "      <td>5.331834e+03</td>\n",
       "      <td>1.663819e+04</td>\n",
       "      <td>2.916082e+04</td>\n",
       "      <td>4.550324e+04</td>\n",
       "      <td>7.375007e+04</td>\n",
       "    </tr>\n",
       "    <tr>\n",
       "      <th>Low</th>\n",
       "      <td>1825.0</td>\n",
       "      <td>3.072027e+04</td>\n",
       "      <td>1.799283e+04</td>\n",
       "      <td>4.106981e+03</td>\n",
       "      <td>1.617050e+04</td>\n",
       "      <td>2.817799e+04</td>\n",
       "      <td>4.332002e+04</td>\n",
       "      <td>7.133409e+04</td>\n",
       "    </tr>\n",
       "    <tr>\n",
       "      <th>Close</th>\n",
       "      <td>1825.0</td>\n",
       "      <td>3.149023e+04</td>\n",
       "      <td>1.848509e+04</td>\n",
       "      <td>4.970788e+03</td>\n",
       "      <td>1.644498e+04</td>\n",
       "      <td>2.868054e+04</td>\n",
       "      <td>4.431822e+04</td>\n",
       "      <td>7.308350e+04</td>\n",
       "    </tr>\n",
       "    <tr>\n",
       "      <th>Adj Close</th>\n",
       "      <td>1825.0</td>\n",
       "      <td>3.149023e+04</td>\n",
       "      <td>1.848509e+04</td>\n",
       "      <td>4.970788e+03</td>\n",
       "      <td>1.644498e+04</td>\n",
       "      <td>2.868054e+04</td>\n",
       "      <td>4.431822e+04</td>\n",
       "      <td>7.308350e+04</td>\n",
       "    </tr>\n",
       "    <tr>\n",
       "      <th>Volume</th>\n",
       "      <td>1825.0</td>\n",
       "      <td>3.117074e+10</td>\n",
       "      <td>1.792905e+10</td>\n",
       "      <td>5.331173e+09</td>\n",
       "      <td>1.931360e+10</td>\n",
       "      <td>2.784951e+10</td>\n",
       "      <td>3.831860e+10</td>\n",
       "      <td>3.509679e+11</td>\n",
       "    </tr>\n",
       "  </tbody>\n",
       "</table>\n",
       "</div>"
      ],
      "text/plain": [
       "            count          mean           std           min           25%  \\\n",
       "Open       1825.0  3.146285e+04  1.847850e+04  5.002578e+03  1.644179e+04   \n",
       "High       1825.0  3.216063e+04  1.891376e+04  5.331834e+03  1.663819e+04   \n",
       "Low        1825.0  3.072027e+04  1.799283e+04  4.106981e+03  1.617050e+04   \n",
       "Close      1825.0  3.149023e+04  1.848509e+04  4.970788e+03  1.644498e+04   \n",
       "Adj Close  1825.0  3.149023e+04  1.848509e+04  4.970788e+03  1.644498e+04   \n",
       "Volume     1825.0  3.117074e+10  1.792905e+10  5.331173e+09  1.931360e+10   \n",
       "\n",
       "                    50%           75%           max  \n",
       "Open       2.862262e+04  4.419298e+04  7.307938e+04  \n",
       "High       2.916082e+04  4.550324e+04  7.375007e+04  \n",
       "Low        2.817799e+04  4.332002e+04  7.133409e+04  \n",
       "Close      2.868054e+04  4.431822e+04  7.308350e+04  \n",
       "Adj Close  2.868054e+04  4.431822e+04  7.308350e+04  \n",
       "Volume     2.784951e+10  3.831860e+10  3.509679e+11  "
      ]
     },
     "execution_count": 3,
     "metadata": {},
     "output_type": "execute_result"
    }
   ],
   "source": [
    "btc_price_data.describe().T"
   ]
  },
  {
   "cell_type": "code",
   "execution_count": 4,
   "id": "24e0fbb1-7214-4c93-904d-7d02d9a837da",
   "metadata": {
    "ExecuteTime": {
     "end_time": "2024-08-31T23:40:28.566425Z",
     "start_time": "2024-08-31T23:40:28.556114Z"
    }
   },
   "outputs": [
    {
     "data": {
      "text/plain": [
       "Date          object\n",
       "Open         float64\n",
       "High         float64\n",
       "Low          float64\n",
       "Close        float64\n",
       "Adj Close    float64\n",
       "Volume         int64\n",
       "dtype: object"
      ]
     },
     "execution_count": 4,
     "metadata": {},
     "output_type": "execute_result"
    }
   ],
   "source": [
    "btc_price_data.dtypes"
   ]
  },
  {
   "cell_type": "code",
   "execution_count": 5,
   "id": "89924d1b-960f-44e7-bb90-fde6df4aba39",
   "metadata": {
    "ExecuteTime": {
     "end_time": "2024-08-31T23:40:28.843169Z",
     "start_time": "2024-08-31T23:40:28.833199Z"
    }
   },
   "outputs": [
    {
     "data": {
      "text/plain": [
       "Date         0\n",
       "Open         0\n",
       "High         0\n",
       "Low          0\n",
       "Close        0\n",
       "Adj Close    0\n",
       "Volume       0\n",
       "dtype: int64"
      ]
     },
     "execution_count": 5,
     "metadata": {},
     "output_type": "execute_result"
    }
   ],
   "source": [
    "btc_price_data.isnull().sum()"
   ]
  },
  {
   "cell_type": "markdown",
   "id": "8a7a23f8-b9a6-47ba-b35a-a2d2d9fce052",
   "metadata": {},
   "source": [
    "### 4.1.2. Read S&P 500 price movement data for the last 5 years"
   ]
  },
  {
   "cell_type": "code",
   "execution_count": 6,
   "id": "bbc29c8c-3225-4eda-82a6-6e9048db804b",
   "metadata": {
    "ExecuteTime": {
     "end_time": "2024-08-31T23:40:29.209911Z",
     "start_time": "2024-08-31T23:40:29.185894Z"
    }
   },
   "outputs": [
    {
     "data": {
      "text/html": [
       "<div>\n",
       "<style scoped>\n",
       "    .dataframe tbody tr th:only-of-type {\n",
       "        vertical-align: middle;\n",
       "    }\n",
       "\n",
       "    .dataframe tbody tr th {\n",
       "        vertical-align: top;\n",
       "    }\n",
       "\n",
       "    .dataframe thead th {\n",
       "        text-align: right;\n",
       "    }\n",
       "</style>\n",
       "<table border=\"1\" class=\"dataframe\">\n",
       "  <thead>\n",
       "    <tr style=\"text-align: right;\">\n",
       "      <th></th>\n",
       "      <th>Date</th>\n",
       "      <th>Open</th>\n",
       "      <th>High</th>\n",
       "      <th>Low</th>\n",
       "      <th>Close</th>\n",
       "      <th>Adj Close</th>\n",
       "      <th>Volume</th>\n",
       "    </tr>\n",
       "  </thead>\n",
       "  <tbody>\n",
       "    <tr>\n",
       "      <th>0</th>\n",
       "      <td>2019-08-26</td>\n",
       "      <td>2866.699951</td>\n",
       "      <td>2879.270020</td>\n",
       "      <td>2856.000000</td>\n",
       "      <td>2878.379883</td>\n",
       "      <td>2878.379883</td>\n",
       "      <td>2859790000</td>\n",
       "    </tr>\n",
       "    <tr>\n",
       "      <th>1</th>\n",
       "      <td>2019-08-27</td>\n",
       "      <td>2893.139893</td>\n",
       "      <td>2898.790039</td>\n",
       "      <td>2860.590088</td>\n",
       "      <td>2869.159912</td>\n",
       "      <td>2869.159912</td>\n",
       "      <td>3537490000</td>\n",
       "    </tr>\n",
       "    <tr>\n",
       "      <th>2</th>\n",
       "      <td>2019-08-28</td>\n",
       "      <td>2861.280029</td>\n",
       "      <td>2890.030029</td>\n",
       "      <td>2853.050049</td>\n",
       "      <td>2887.939941</td>\n",
       "      <td>2887.939941</td>\n",
       "      <td>3102480000</td>\n",
       "    </tr>\n",
       "    <tr>\n",
       "      <th>3</th>\n",
       "      <td>2019-08-29</td>\n",
       "      <td>2910.370117</td>\n",
       "      <td>2930.500000</td>\n",
       "      <td>2905.669922</td>\n",
       "      <td>2924.580078</td>\n",
       "      <td>2924.580078</td>\n",
       "      <td>3177150000</td>\n",
       "    </tr>\n",
       "    <tr>\n",
       "      <th>4</th>\n",
       "      <td>2019-08-30</td>\n",
       "      <td>2937.090088</td>\n",
       "      <td>2940.429932</td>\n",
       "      <td>2913.320068</td>\n",
       "      <td>2926.459961</td>\n",
       "      <td>2926.459961</td>\n",
       "      <td>3009910000</td>\n",
       "    </tr>\n",
       "    <tr>\n",
       "      <th>...</th>\n",
       "      <td>...</td>\n",
       "      <td>...</td>\n",
       "      <td>...</td>\n",
       "      <td>...</td>\n",
       "      <td>...</td>\n",
       "      <td>...</td>\n",
       "      <td>...</td>\n",
       "    </tr>\n",
       "    <tr>\n",
       "      <th>1253</th>\n",
       "      <td>2024-08-19</td>\n",
       "      <td>5557.229980</td>\n",
       "      <td>5608.299805</td>\n",
       "      <td>5550.740234</td>\n",
       "      <td>5608.250000</td>\n",
       "      <td>5608.250000</td>\n",
       "      <td>3222050000</td>\n",
       "    </tr>\n",
       "    <tr>\n",
       "      <th>1254</th>\n",
       "      <td>2024-08-20</td>\n",
       "      <td>5602.879883</td>\n",
       "      <td>5620.509766</td>\n",
       "      <td>5585.500000</td>\n",
       "      <td>5597.120117</td>\n",
       "      <td>5597.120117</td>\n",
       "      <td>2994420000</td>\n",
       "    </tr>\n",
       "    <tr>\n",
       "      <th>1255</th>\n",
       "      <td>2024-08-21</td>\n",
       "      <td>5603.089844</td>\n",
       "      <td>5632.680176</td>\n",
       "      <td>5591.569824</td>\n",
       "      <td>5620.850098</td>\n",
       "      <td>5620.850098</td>\n",
       "      <td>3119670000</td>\n",
       "    </tr>\n",
       "    <tr>\n",
       "      <th>1256</th>\n",
       "      <td>2024-08-22</td>\n",
       "      <td>5637.770020</td>\n",
       "      <td>5643.220215</td>\n",
       "      <td>5560.950195</td>\n",
       "      <td>5570.640137</td>\n",
       "      <td>5570.640137</td>\n",
       "      <td>2981530000</td>\n",
       "    </tr>\n",
       "    <tr>\n",
       "      <th>1257</th>\n",
       "      <td>2024-08-23</td>\n",
       "      <td>5602.490234</td>\n",
       "      <td>5641.819824</td>\n",
       "      <td>5585.160156</td>\n",
       "      <td>5634.609863</td>\n",
       "      <td>5634.609863</td>\n",
       "      <td>3291940000</td>\n",
       "    </tr>\n",
       "  </tbody>\n",
       "</table>\n",
       "<p>1258 rows × 7 columns</p>\n",
       "</div>"
      ],
      "text/plain": [
       "            Date         Open         High          Low        Close  \\\n",
       "0     2019-08-26  2866.699951  2879.270020  2856.000000  2878.379883   \n",
       "1     2019-08-27  2893.139893  2898.790039  2860.590088  2869.159912   \n",
       "2     2019-08-28  2861.280029  2890.030029  2853.050049  2887.939941   \n",
       "3     2019-08-29  2910.370117  2930.500000  2905.669922  2924.580078   \n",
       "4     2019-08-30  2937.090088  2940.429932  2913.320068  2926.459961   \n",
       "...          ...          ...          ...          ...          ...   \n",
       "1253  2024-08-19  5557.229980  5608.299805  5550.740234  5608.250000   \n",
       "1254  2024-08-20  5602.879883  5620.509766  5585.500000  5597.120117   \n",
       "1255  2024-08-21  5603.089844  5632.680176  5591.569824  5620.850098   \n",
       "1256  2024-08-22  5637.770020  5643.220215  5560.950195  5570.640137   \n",
       "1257  2024-08-23  5602.490234  5641.819824  5585.160156  5634.609863   \n",
       "\n",
       "        Adj Close      Volume  \n",
       "0     2878.379883  2859790000  \n",
       "1     2869.159912  3537490000  \n",
       "2     2887.939941  3102480000  \n",
       "3     2924.580078  3177150000  \n",
       "4     2926.459961  3009910000  \n",
       "...           ...         ...  \n",
       "1253  5608.250000  3222050000  \n",
       "1254  5597.120117  2994420000  \n",
       "1255  5620.850098  3119670000  \n",
       "1256  5570.640137  2981530000  \n",
       "1257  5634.609863  3291940000  \n",
       "\n",
       "[1258 rows x 7 columns]"
      ]
     },
     "execution_count": 6,
     "metadata": {},
     "output_type": "execute_result"
    }
   ],
   "source": [
    "sp_500_price_data = pd.read_csv(\"data/S_and_P_500-5-Years.csv\")\n",
    "sp_500_price_data"
   ]
  },
  {
   "cell_type": "code",
   "execution_count": 7,
   "id": "027842ce-38b5-4f7c-bd5a-32166f21ed1c",
   "metadata": {
    "ExecuteTime": {
     "end_time": "2024-08-31T23:40:29.659383Z",
     "start_time": "2024-08-31T23:40:29.623784Z"
    }
   },
   "outputs": [
    {
     "data": {
      "text/html": [
       "<div>\n",
       "<style scoped>\n",
       "    .dataframe tbody tr th:only-of-type {\n",
       "        vertical-align: middle;\n",
       "    }\n",
       "\n",
       "    .dataframe tbody tr th {\n",
       "        vertical-align: top;\n",
       "    }\n",
       "\n",
       "    .dataframe thead th {\n",
       "        text-align: right;\n",
       "    }\n",
       "</style>\n",
       "<table border=\"1\" class=\"dataframe\">\n",
       "  <thead>\n",
       "    <tr style=\"text-align: right;\">\n",
       "      <th></th>\n",
       "      <th>count</th>\n",
       "      <th>mean</th>\n",
       "      <th>std</th>\n",
       "      <th>min</th>\n",
       "      <th>25%</th>\n",
       "      <th>50%</th>\n",
       "      <th>75%</th>\n",
       "      <th>max</th>\n",
       "    </tr>\n",
       "  </thead>\n",
       "  <tbody>\n",
       "    <tr>\n",
       "      <th>Open</th>\n",
       "      <td>1258.0</td>\n",
       "      <td>4.062243e+03</td>\n",
       "      <td>6.916520e+02</td>\n",
       "      <td>2.290710e+03</td>\n",
       "      <td>3.591753e+03</td>\n",
       "      <td>4.126600e+03</td>\n",
       "      <td>4.488822e+03</td>\n",
       "      <td>5.644090e+03</td>\n",
       "    </tr>\n",
       "    <tr>\n",
       "      <th>High</th>\n",
       "      <td>1258.0</td>\n",
       "      <td>4.086389e+03</td>\n",
       "      <td>6.912662e+02</td>\n",
       "      <td>2.300730e+03</td>\n",
       "      <td>3.624460e+03</td>\n",
       "      <td>4.148055e+03</td>\n",
       "      <td>4.511990e+03</td>\n",
       "      <td>5.669670e+03</td>\n",
       "    </tr>\n",
       "    <tr>\n",
       "      <th>Low</th>\n",
       "      <td>1258.0</td>\n",
       "      <td>4.036896e+03</td>\n",
       "      <td>6.927430e+02</td>\n",
       "      <td>2.191860e+03</td>\n",
       "      <td>3.567610e+03</td>\n",
       "      <td>4.098855e+03</td>\n",
       "      <td>4.462755e+03</td>\n",
       "      <td>5.639020e+03</td>\n",
       "    </tr>\n",
       "    <tr>\n",
       "      <th>Close</th>\n",
       "      <td>1258.0</td>\n",
       "      <td>4.063164e+03</td>\n",
       "      <td>6.919554e+02</td>\n",
       "      <td>2.237400e+03</td>\n",
       "      <td>3.583590e+03</td>\n",
       "      <td>4.126245e+03</td>\n",
       "      <td>4.486402e+03</td>\n",
       "      <td>5.667200e+03</td>\n",
       "    </tr>\n",
       "    <tr>\n",
       "      <th>Adj Close</th>\n",
       "      <td>1258.0</td>\n",
       "      <td>4.063164e+03</td>\n",
       "      <td>6.919554e+02</td>\n",
       "      <td>2.237400e+03</td>\n",
       "      <td>3.583590e+03</td>\n",
       "      <td>4.126245e+03</td>\n",
       "      <td>4.486402e+03</td>\n",
       "      <td>5.667200e+03</td>\n",
       "    </tr>\n",
       "    <tr>\n",
       "      <th>Volume</th>\n",
       "      <td>1258.0</td>\n",
       "      <td>4.350750e+09</td>\n",
       "      <td>1.051686e+09</td>\n",
       "      <td>1.296530e+09</td>\n",
       "      <td>3.724205e+09</td>\n",
       "      <td>4.082780e+09</td>\n",
       "      <td>4.705292e+09</td>\n",
       "      <td>9.976520e+09</td>\n",
       "    </tr>\n",
       "  </tbody>\n",
       "</table>\n",
       "</div>"
      ],
      "text/plain": [
       "            count          mean           std           min           25%  \\\n",
       "Open       1258.0  4.062243e+03  6.916520e+02  2.290710e+03  3.591753e+03   \n",
       "High       1258.0  4.086389e+03  6.912662e+02  2.300730e+03  3.624460e+03   \n",
       "Low        1258.0  4.036896e+03  6.927430e+02  2.191860e+03  3.567610e+03   \n",
       "Close      1258.0  4.063164e+03  6.919554e+02  2.237400e+03  3.583590e+03   \n",
       "Adj Close  1258.0  4.063164e+03  6.919554e+02  2.237400e+03  3.583590e+03   \n",
       "Volume     1258.0  4.350750e+09  1.051686e+09  1.296530e+09  3.724205e+09   \n",
       "\n",
       "                    50%           75%           max  \n",
       "Open       4.126600e+03  4.488822e+03  5.644090e+03  \n",
       "High       4.148055e+03  4.511990e+03  5.669670e+03  \n",
       "Low        4.098855e+03  4.462755e+03  5.639020e+03  \n",
       "Close      4.126245e+03  4.486402e+03  5.667200e+03  \n",
       "Adj Close  4.126245e+03  4.486402e+03  5.667200e+03  \n",
       "Volume     4.082780e+09  4.705292e+09  9.976520e+09  "
      ]
     },
     "execution_count": 7,
     "metadata": {},
     "output_type": "execute_result"
    }
   ],
   "source": [
    "sp_500_price_data.describe().T"
   ]
  },
  {
   "cell_type": "code",
   "execution_count": 8,
   "id": "b755b111-dde6-48e9-b1c5-eff117c82e7a",
   "metadata": {
    "ExecuteTime": {
     "end_time": "2024-08-31T23:40:30.080268Z",
     "start_time": "2024-08-31T23:40:30.071311Z"
    }
   },
   "outputs": [
    {
     "data": {
      "text/plain": [
       "Date          object\n",
       "Open         float64\n",
       "High         float64\n",
       "Low          float64\n",
       "Close        float64\n",
       "Adj Close    float64\n",
       "Volume         int64\n",
       "dtype: object"
      ]
     },
     "execution_count": 8,
     "metadata": {},
     "output_type": "execute_result"
    }
   ],
   "source": [
    "sp_500_price_data.dtypes"
   ]
  },
  {
   "cell_type": "code",
   "execution_count": 9,
   "id": "71bc8092-fa08-4704-b7fb-ce5e260b9f9f",
   "metadata": {
    "ExecuteTime": {
     "end_time": "2024-08-31T23:40:30.371501Z",
     "start_time": "2024-08-31T23:40:30.360851Z"
    }
   },
   "outputs": [
    {
     "data": {
      "text/plain": [
       "Date         0\n",
       "Open         0\n",
       "High         0\n",
       "Low          0\n",
       "Close        0\n",
       "Adj Close    0\n",
       "Volume       0\n",
       "dtype: int64"
      ]
     },
     "execution_count": 9,
     "metadata": {},
     "output_type": "execute_result"
    }
   ],
   "source": [
    "sp_500_price_data.isnull().sum()"
   ]
  },
  {
   "cell_type": "markdown",
   "id": "d2d6a4d8-32be-4c9d-9041-43ddbed159e4",
   "metadata": {},
   "source": [
    "## 4.2. Exploratory Data Analysis"
   ]
  },
  {
   "cell_type": "markdown",
   "id": "ccc468bf-7d45-4ee1-81dc-46c9b5e27d5a",
   "metadata": {},
   "source": [
    "### 4.2.1. Data Tidying and Cleaning"
   ]
  },
  {
   "cell_type": "markdown",
   "id": "cf435b79-1958-4808-8a62-75cbf0006fb2",
   "metadata": {},
   "source": [
    "For further processing, we only need the **date** and the **closing price** on that day from the two data sets."
   ]
  },
  {
   "cell_type": "markdown",
   "id": "1e3e0224-a644-4c94-a996-51ba9e07c86f",
   "metadata": {},
   "source": [
    "Create new Dataframe only with **Date** and **Close** columns from the **btc_price_data**:"
   ]
  },
  {
   "cell_type": "code",
   "execution_count": 10,
   "id": "65bc6b4c-73c4-472b-806b-ec72074af7e1",
   "metadata": {
    "ExecuteTime": {
     "end_time": "2024-08-31T23:40:30.597917Z",
     "start_time": "2024-08-31T23:40:30.583929Z"
    }
   },
   "outputs": [
    {
     "data": {
      "text/html": [
       "<div>\n",
       "<style scoped>\n",
       "    .dataframe tbody tr th:only-of-type {\n",
       "        vertical-align: middle;\n",
       "    }\n",
       "\n",
       "    .dataframe tbody tr th {\n",
       "        vertical-align: top;\n",
       "    }\n",
       "\n",
       "    .dataframe thead th {\n",
       "        text-align: right;\n",
       "    }\n",
       "</style>\n",
       "<table border=\"1\" class=\"dataframe\">\n",
       "  <thead>\n",
       "    <tr style=\"text-align: right;\">\n",
       "      <th></th>\n",
       "      <th>Date</th>\n",
       "      <th>Close</th>\n",
       "    </tr>\n",
       "  </thead>\n",
       "  <tbody>\n",
       "    <tr>\n",
       "      <th>0</th>\n",
       "      <td>2019-08-26</td>\n",
       "      <td>10370.820313</td>\n",
       "    </tr>\n",
       "    <tr>\n",
       "      <th>1</th>\n",
       "      <td>2019-08-27</td>\n",
       "      <td>10185.500000</td>\n",
       "    </tr>\n",
       "    <tr>\n",
       "      <th>2</th>\n",
       "      <td>2019-08-28</td>\n",
       "      <td>9754.422852</td>\n",
       "    </tr>\n",
       "    <tr>\n",
       "      <th>3</th>\n",
       "      <td>2019-08-29</td>\n",
       "      <td>9510.200195</td>\n",
       "    </tr>\n",
       "    <tr>\n",
       "      <th>4</th>\n",
       "      <td>2019-08-30</td>\n",
       "      <td>9598.173828</td>\n",
       "    </tr>\n",
       "    <tr>\n",
       "      <th>...</th>\n",
       "      <td>...</td>\n",
       "      <td>...</td>\n",
       "    </tr>\n",
       "    <tr>\n",
       "      <th>1820</th>\n",
       "      <td>2024-08-19</td>\n",
       "      <td>59493.453125</td>\n",
       "    </tr>\n",
       "    <tr>\n",
       "      <th>1821</th>\n",
       "      <td>2024-08-20</td>\n",
       "      <td>59012.792969</td>\n",
       "    </tr>\n",
       "    <tr>\n",
       "      <th>1822</th>\n",
       "      <td>2024-08-21</td>\n",
       "      <td>61175.191406</td>\n",
       "    </tr>\n",
       "    <tr>\n",
       "      <th>1823</th>\n",
       "      <td>2024-08-22</td>\n",
       "      <td>60381.914063</td>\n",
       "    </tr>\n",
       "    <tr>\n",
       "      <th>1824</th>\n",
       "      <td>2024-08-23</td>\n",
       "      <td>64094.355469</td>\n",
       "    </tr>\n",
       "  </tbody>\n",
       "</table>\n",
       "<p>1825 rows × 2 columns</p>\n",
       "</div>"
      ],
      "text/plain": [
       "            Date         Close\n",
       "0     2019-08-26  10370.820313\n",
       "1     2019-08-27  10185.500000\n",
       "2     2019-08-28   9754.422852\n",
       "3     2019-08-29   9510.200195\n",
       "4     2019-08-30   9598.173828\n",
       "...          ...           ...\n",
       "1820  2024-08-19  59493.453125\n",
       "1821  2024-08-20  59012.792969\n",
       "1822  2024-08-21  61175.191406\n",
       "1823  2024-08-22  60381.914063\n",
       "1824  2024-08-23  64094.355469\n",
       "\n",
       "[1825 rows x 2 columns]"
      ]
     },
     "execution_count": 10,
     "metadata": {},
     "output_type": "execute_result"
    }
   ],
   "source": [
    "btc_closing_price_data = btc_price_data[[\"Date\", \"Close\"]].copy(deep=True)\n",
    "btc_closing_price_data"
   ]
  },
  {
   "cell_type": "markdown",
   "id": "384852ce-5e9d-4377-a935-87286e42e435",
   "metadata": {},
   "source": [
    "Convert the `Date` column from *object* type to *datetime64* type."
   ]
  },
  {
   "cell_type": "code",
   "execution_count": 11,
   "id": "1a44c3d0-6a1f-4cb6-abd8-40c5485f0067",
   "metadata": {
    "ExecuteTime": {
     "end_time": "2024-08-31T23:40:31.215280Z",
     "start_time": "2024-08-31T23:40:31.201068Z"
    }
   },
   "outputs": [
    {
     "data": {
      "text/plain": [
       "Date     datetime64[ns]\n",
       "Close           float64\n",
       "dtype: object"
      ]
     },
     "execution_count": 11,
     "metadata": {},
     "output_type": "execute_result"
    }
   ],
   "source": [
    "btc_closing_price_data.Date = pd.to_datetime(btc_closing_price_data.Date)\n",
    "btc_closing_price_data.dtypes"
   ]
  },
  {
   "cell_type": "markdown",
   "id": "da4f6a87-b503-4009-9fc1-12d5a4c11778",
   "metadata": {},
   "source": [
    "Create new Dataframe only with **Date** and **Close** columns from the **sp_500_price_data**."
   ]
  },
  {
   "cell_type": "code",
   "execution_count": 12,
   "id": "f9954af0-7414-4d6d-b1ae-5af5e86c9062",
   "metadata": {
    "ExecuteTime": {
     "end_time": "2024-08-31T23:40:31.413620Z",
     "start_time": "2024-08-31T23:40:31.396437Z"
    }
   },
   "outputs": [
    {
     "data": {
      "text/html": [
       "<div>\n",
       "<style scoped>\n",
       "    .dataframe tbody tr th:only-of-type {\n",
       "        vertical-align: middle;\n",
       "    }\n",
       "\n",
       "    .dataframe tbody tr th {\n",
       "        vertical-align: top;\n",
       "    }\n",
       "\n",
       "    .dataframe thead th {\n",
       "        text-align: right;\n",
       "    }\n",
       "</style>\n",
       "<table border=\"1\" class=\"dataframe\">\n",
       "  <thead>\n",
       "    <tr style=\"text-align: right;\">\n",
       "      <th></th>\n",
       "      <th>Date</th>\n",
       "      <th>Close</th>\n",
       "    </tr>\n",
       "  </thead>\n",
       "  <tbody>\n",
       "    <tr>\n",
       "      <th>0</th>\n",
       "      <td>2019-08-26</td>\n",
       "      <td>2878.379883</td>\n",
       "    </tr>\n",
       "    <tr>\n",
       "      <th>1</th>\n",
       "      <td>2019-08-27</td>\n",
       "      <td>2869.159912</td>\n",
       "    </tr>\n",
       "    <tr>\n",
       "      <th>2</th>\n",
       "      <td>2019-08-28</td>\n",
       "      <td>2887.939941</td>\n",
       "    </tr>\n",
       "    <tr>\n",
       "      <th>3</th>\n",
       "      <td>2019-08-29</td>\n",
       "      <td>2924.580078</td>\n",
       "    </tr>\n",
       "    <tr>\n",
       "      <th>4</th>\n",
       "      <td>2019-08-30</td>\n",
       "      <td>2926.459961</td>\n",
       "    </tr>\n",
       "    <tr>\n",
       "      <th>...</th>\n",
       "      <td>...</td>\n",
       "      <td>...</td>\n",
       "    </tr>\n",
       "    <tr>\n",
       "      <th>1253</th>\n",
       "      <td>2024-08-19</td>\n",
       "      <td>5608.250000</td>\n",
       "    </tr>\n",
       "    <tr>\n",
       "      <th>1254</th>\n",
       "      <td>2024-08-20</td>\n",
       "      <td>5597.120117</td>\n",
       "    </tr>\n",
       "    <tr>\n",
       "      <th>1255</th>\n",
       "      <td>2024-08-21</td>\n",
       "      <td>5620.850098</td>\n",
       "    </tr>\n",
       "    <tr>\n",
       "      <th>1256</th>\n",
       "      <td>2024-08-22</td>\n",
       "      <td>5570.640137</td>\n",
       "    </tr>\n",
       "    <tr>\n",
       "      <th>1257</th>\n",
       "      <td>2024-08-23</td>\n",
       "      <td>5634.609863</td>\n",
       "    </tr>\n",
       "  </tbody>\n",
       "</table>\n",
       "<p>1258 rows × 2 columns</p>\n",
       "</div>"
      ],
      "text/plain": [
       "            Date        Close\n",
       "0     2019-08-26  2878.379883\n",
       "1     2019-08-27  2869.159912\n",
       "2     2019-08-28  2887.939941\n",
       "3     2019-08-29  2924.580078\n",
       "4     2019-08-30  2926.459961\n",
       "...          ...          ...\n",
       "1253  2024-08-19  5608.250000\n",
       "1254  2024-08-20  5597.120117\n",
       "1255  2024-08-21  5620.850098\n",
       "1256  2024-08-22  5570.640137\n",
       "1257  2024-08-23  5634.609863\n",
       "\n",
       "[1258 rows x 2 columns]"
      ]
     },
     "execution_count": 12,
     "metadata": {},
     "output_type": "execute_result"
    }
   ],
   "source": [
    "sp_500_closing_price_data = sp_500_price_data[[\"Date\", \"Close\"]].copy(deep=True)\n",
    "sp_500_closing_price_data"
   ]
  },
  {
   "cell_type": "markdown",
   "id": "3cce3d90-5220-4c62-ac9b-6a6aeafcece8",
   "metadata": {},
   "source": [
    "Convert the `Date` column from *object* type to *datetime64* type."
   ]
  },
  {
   "cell_type": "code",
   "execution_count": 13,
   "id": "937bf760-157f-48a8-af9d-6a40cd74e840",
   "metadata": {
    "ExecuteTime": {
     "end_time": "2024-08-31T23:40:31.701405Z",
     "start_time": "2024-08-31T23:40:31.687950Z"
    }
   },
   "outputs": [
    {
     "data": {
      "text/plain": [
       "Date     datetime64[ns]\n",
       "Close           float64\n",
       "dtype: object"
      ]
     },
     "execution_count": 13,
     "metadata": {},
     "output_type": "execute_result"
    }
   ],
   "source": [
    "sp_500_closing_price_data.Date = pd.to_datetime(sp_500_closing_price_data.Date)\n",
    "sp_500_closing_price_data.dtypes"
   ]
  },
  {
   "cell_type": "markdown",
   "id": "6754f448-8933-4048-994c-e4dd175cae5c",
   "metadata": {},
   "source": []
  },
  {
   "cell_type": "markdown",
   "id": "2d8cd82c-9418-41ff-b2a2-fd50b970252b",
   "metadata": {},
   "source": [
    "#### Normalize Prices"
   ]
  },
  {
   "cell_type": "markdown",
   "id": "1a74b138-335e-4174-b1eb-505220baabd5",
   "metadata": {},
   "source": [
    "To compare price movements directly, it's useful to normalize the prices to a common starting point (e.g., setting both prices to 100 at the start of the period).\n",
    "This makes it easier to see how each asset has moved in **percentage** terms relative to its starting value.\n",
    "\n",
    "Values above 100 indicate the percentage increase in price since the beginning. For example, a value of 115 means the price has increased 15% since the base date, while a value of 82 would indicate a decline of 18% since the base date.\n",
    "\n",
    "$$\\text{Normalized Price} = \\frac{\\text{Current Price}}{\\text{Starting Price}} \\times 100 \\ \\left[\\% \\right]$$"
   ]
  },
  {
   "cell_type": "code",
   "execution_count": 14,
   "id": "17c24107-fce2-44d0-80e5-d82b6c184b09",
   "metadata": {
    "ExecuteTime": {
     "end_time": "2024-08-31T23:40:31.956348Z",
     "start_time": "2024-08-31T23:40:31.948729Z"
    }
   },
   "outputs": [],
   "source": [
    "def compute_normalized_price(current_price, starting_price):\n",
    "    return (current_price / starting_price) * 100"
   ]
  },
  {
   "cell_type": "markdown",
   "id": "47a16da5-785b-4e3e-8876-fd1e08b53c1e",
   "metadata": {},
   "source": [
    "Compute **normalized price** for the **BTC closing price**."
   ]
  },
  {
   "cell_type": "code",
   "execution_count": 15,
   "id": "8bd4718a-c997-43e0-a38a-ef8684b04c18",
   "metadata": {
    "ExecuteTime": {
     "end_time": "2024-08-31T23:40:32.512036Z",
     "start_time": "2024-08-31T23:40:32.493183Z"
    },
    "scrolled": true
   },
   "outputs": [
    {
     "data": {
      "text/html": [
       "<div>\n",
       "<style scoped>\n",
       "    .dataframe tbody tr th:only-of-type {\n",
       "        vertical-align: middle;\n",
       "    }\n",
       "\n",
       "    .dataframe tbody tr th {\n",
       "        vertical-align: top;\n",
       "    }\n",
       "\n",
       "    .dataframe thead th {\n",
       "        text-align: right;\n",
       "    }\n",
       "</style>\n",
       "<table border=\"1\" class=\"dataframe\">\n",
       "  <thead>\n",
       "    <tr style=\"text-align: right;\">\n",
       "      <th></th>\n",
       "      <th>Date</th>\n",
       "      <th>Close</th>\n",
       "      <th>Normalized_Price</th>\n",
       "    </tr>\n",
       "  </thead>\n",
       "  <tbody>\n",
       "    <tr>\n",
       "      <th>0</th>\n",
       "      <td>2019-08-26</td>\n",
       "      <td>10370.820313</td>\n",
       "      <td>100.000000</td>\n",
       "    </tr>\n",
       "    <tr>\n",
       "      <th>1</th>\n",
       "      <td>2019-08-27</td>\n",
       "      <td>10185.500000</td>\n",
       "      <td>98.213060</td>\n",
       "    </tr>\n",
       "    <tr>\n",
       "      <th>2</th>\n",
       "      <td>2019-08-28</td>\n",
       "      <td>9754.422852</td>\n",
       "      <td>94.056425</td>\n",
       "    </tr>\n",
       "    <tr>\n",
       "      <th>3</th>\n",
       "      <td>2019-08-29</td>\n",
       "      <td>9510.200195</td>\n",
       "      <td>91.701523</td>\n",
       "    </tr>\n",
       "    <tr>\n",
       "      <th>4</th>\n",
       "      <td>2019-08-30</td>\n",
       "      <td>9598.173828</td>\n",
       "      <td>92.549804</td>\n",
       "    </tr>\n",
       "    <tr>\n",
       "      <th>...</th>\n",
       "      <td>...</td>\n",
       "      <td>...</td>\n",
       "      <td>...</td>\n",
       "    </tr>\n",
       "    <tr>\n",
       "      <th>1820</th>\n",
       "      <td>2024-08-19</td>\n",
       "      <td>59493.453125</td>\n",
       "      <td>573.661980</td>\n",
       "    </tr>\n",
       "    <tr>\n",
       "      <th>1821</th>\n",
       "      <td>2024-08-20</td>\n",
       "      <td>59012.792969</td>\n",
       "      <td>569.027244</td>\n",
       "    </tr>\n",
       "    <tr>\n",
       "      <th>1822</th>\n",
       "      <td>2024-08-21</td>\n",
       "      <td>61175.191406</td>\n",
       "      <td>589.878038</td>\n",
       "    </tr>\n",
       "    <tr>\n",
       "      <th>1823</th>\n",
       "      <td>2024-08-22</td>\n",
       "      <td>60381.914063</td>\n",
       "      <td>582.228910</td>\n",
       "    </tr>\n",
       "    <tr>\n",
       "      <th>1824</th>\n",
       "      <td>2024-08-23</td>\n",
       "      <td>64094.355469</td>\n",
       "      <td>618.025899</td>\n",
       "    </tr>\n",
       "  </tbody>\n",
       "</table>\n",
       "<p>1825 rows × 3 columns</p>\n",
       "</div>"
      ],
      "text/plain": [
       "           Date         Close  Normalized_Price\n",
       "0    2019-08-26  10370.820313        100.000000\n",
       "1    2019-08-27  10185.500000         98.213060\n",
       "2    2019-08-28   9754.422852         94.056425\n",
       "3    2019-08-29   9510.200195         91.701523\n",
       "4    2019-08-30   9598.173828         92.549804\n",
       "...         ...           ...               ...\n",
       "1820 2024-08-19  59493.453125        573.661980\n",
       "1821 2024-08-20  59012.792969        569.027244\n",
       "1822 2024-08-21  61175.191406        589.878038\n",
       "1823 2024-08-22  60381.914063        582.228910\n",
       "1824 2024-08-23  64094.355469        618.025899\n",
       "\n",
       "[1825 rows x 3 columns]"
      ]
     },
     "execution_count": 15,
     "metadata": {},
     "output_type": "execute_result"
    }
   ],
   "source": [
    "# Get the 'starting_price'\n",
    "btc_starting_price = btc_closing_price_data.Close.loc[0]\n",
    "# Compute 'normalized_price'\n",
    "btc_closing_price_data[\"Normalized_Price\"] = btc_closing_price_data.Close.apply(lambda current_price: compute_normalized_price(current_price, btc_starting_price))\n",
    "btc_closing_price_data"
   ]
  },
  {
   "cell_type": "markdown",
   "id": "c795017d-33bd-4c7d-9003-cef495fd163c",
   "metadata": {},
   "source": [
    "Compute **normalized price** for the **S&P 500 closing price**."
   ]
  },
  {
   "cell_type": "code",
   "execution_count": 16,
   "id": "e1606649-91cd-4da2-92c3-cb417a6decf2",
   "metadata": {
    "ExecuteTime": {
     "end_time": "2024-08-31T23:40:32.834658Z",
     "start_time": "2024-08-31T23:40:32.814999Z"
    }
   },
   "outputs": [
    {
     "data": {
      "text/html": [
       "<div>\n",
       "<style scoped>\n",
       "    .dataframe tbody tr th:only-of-type {\n",
       "        vertical-align: middle;\n",
       "    }\n",
       "\n",
       "    .dataframe tbody tr th {\n",
       "        vertical-align: top;\n",
       "    }\n",
       "\n",
       "    .dataframe thead th {\n",
       "        text-align: right;\n",
       "    }\n",
       "</style>\n",
       "<table border=\"1\" class=\"dataframe\">\n",
       "  <thead>\n",
       "    <tr style=\"text-align: right;\">\n",
       "      <th></th>\n",
       "      <th>Date</th>\n",
       "      <th>Close</th>\n",
       "      <th>Normalized_Price</th>\n",
       "    </tr>\n",
       "  </thead>\n",
       "  <tbody>\n",
       "    <tr>\n",
       "      <th>0</th>\n",
       "      <td>2019-08-26</td>\n",
       "      <td>2878.379883</td>\n",
       "      <td>100.000000</td>\n",
       "    </tr>\n",
       "    <tr>\n",
       "      <th>1</th>\n",
       "      <td>2019-08-27</td>\n",
       "      <td>2869.159912</td>\n",
       "      <td>99.679682</td>\n",
       "    </tr>\n",
       "    <tr>\n",
       "      <th>2</th>\n",
       "      <td>2019-08-28</td>\n",
       "      <td>2887.939941</td>\n",
       "      <td>100.332133</td>\n",
       "    </tr>\n",
       "    <tr>\n",
       "      <th>3</th>\n",
       "      <td>2019-08-29</td>\n",
       "      <td>2924.580078</td>\n",
       "      <td>101.605076</td>\n",
       "    </tr>\n",
       "    <tr>\n",
       "      <th>4</th>\n",
       "      <td>2019-08-30</td>\n",
       "      <td>2926.459961</td>\n",
       "      <td>101.670387</td>\n",
       "    </tr>\n",
       "  </tbody>\n",
       "</table>\n",
       "</div>"
      ],
      "text/plain": [
       "        Date        Close  Normalized_Price\n",
       "0 2019-08-26  2878.379883        100.000000\n",
       "1 2019-08-27  2869.159912         99.679682\n",
       "2 2019-08-28  2887.939941        100.332133\n",
       "3 2019-08-29  2924.580078        101.605076\n",
       "4 2019-08-30  2926.459961        101.670387"
      ]
     },
     "execution_count": 16,
     "metadata": {},
     "output_type": "execute_result"
    }
   ],
   "source": [
    "# Get the 'starting_price'\n",
    "sp_500_starting_price = sp_500_closing_price_data.Close.loc[0]\n",
    "# Compute 'normalized_price'\n",
    "sp_500_closing_price_data[\"Normalized_Price\"] = sp_500_closing_price_data.Close.apply(lambda current_price: compute_normalized_price(current_price, sp_500_starting_price))\n",
    "sp_500_closing_price_data.head()"
   ]
  },
  {
   "cell_type": "markdown",
   "id": "b7c21d53-87c5-4763-bd61-ca9e5ed5b545",
   "metadata": {},
   "source": [
    "#### Calculate Returns\n",
    "   - **Daily Returns**: Calculate the daily return for each asset in **percent**.\n",
    "     $$\\text{Daily Return} = \\frac{\\text{Price on Day 2} - \\text{Price on Day 1}}{\\text{Price on Day 1}} \\times 100 \\ \\left[\\% \\right]$$"
   ]
  },
  {
   "cell_type": "code",
   "execution_count": 17,
   "id": "c199ed24-ce0c-4325-b869-a6d2b7b2206e",
   "metadata": {
    "ExecuteTime": {
     "end_time": "2024-08-31T23:40:33.677916Z",
     "start_time": "2024-08-31T23:40:33.669578Z"
    }
   },
   "outputs": [],
   "source": [
    "# Calculate the daily percentage returns\n",
    "# data['NASDAQ_Return'] = data['NASDAQ'].pct_change() * 100"
   ]
  },
  {
   "cell_type": "markdown",
   "id": "4100f3d2-ae79-4620-b01e-b74314f13f8e",
   "metadata": {},
   "source": [
    "   - **TODO-Remove this****Cumulative Returns**: Calculate cumulative returns over time to see overall growth.\n",
    "     $$\\text{Cumulative Return} = \\left(1 + \\text{Daily Return}_1\\right) \\times \\left(1 + \\text{Daily Return}_2\\right) \\times \\dots \\times \\left(1 + \\text{Daily Return}_n\\right) - 1$$"
   ]
  },
  {
   "cell_type": "code",
   "execution_count": 18,
   "id": "43fcf271-534b-4b08-ad9d-dc7bf0e171fa",
   "metadata": {
    "ExecuteTime": {
     "end_time": "2024-08-31T23:40:34.090881Z",
     "start_time": "2024-08-31T23:40:34.082490Z"
    }
   },
   "outputs": [],
   "source": [
    "def calculate_daily_return(prices_arr):\n",
    "    \"\"\"\n",
    "     Calculate the daily return from the values in the 'prices_arr'\n",
    "    \"\"\"\n",
    "    daily_return_prices = []\n",
    "    price_day_1 = prices_arr[0]\n",
    "\n",
    "    for price in prices_arr:\n",
    "        price_day_2 = price\n",
    "\n",
    "        # Calculate return \n",
    "        return_price = ((price_day_2 - price_day_1) / price_day_1) * 100\n",
    "        daily_return_prices.append(return_price)\n",
    "        \n",
    "        price_day_1 = price_day_2\n",
    "        \n",
    "    return daily_return_prices"
   ]
  },
  {
   "cell_type": "code",
   "execution_count": 19,
   "id": "306bf5cc-3e09-42ed-9db4-dd3987a1c230",
   "metadata": {
    "ExecuteTime": {
     "end_time": "2024-08-31T23:40:34.645879Z",
     "start_time": "2024-08-31T23:40:34.640885Z"
    }
   },
   "outputs": [],
   "source": [
    "# def calculate_cumulative_returns(daily_returns_arr):\n",
    "#     cumulative_returns = 1\n",
    "#     for daily_return in daily_returns_arr:\n",
    "#         cumulative_returns = cumulative_returns * (1 + daily_return)\n",
    "        \n",
    "#     return cumulative_returns - 1"
   ]
  },
  {
   "cell_type": "markdown",
   "id": "d614f413-6960-4ba2-97c1-9b7e86a25591",
   "metadata": {},
   "source": [
    "Calculate **BTC** daily returns:"
   ]
  },
  {
   "cell_type": "code",
   "execution_count": 20,
   "id": "b867bc52-04ae-4139-9cf9-aa97efe218b8",
   "metadata": {
    "ExecuteTime": {
     "end_time": "2024-08-31T23:40:34.968358Z",
     "start_time": "2024-08-31T23:40:34.945121Z"
    },
    "scrolled": true
   },
   "outputs": [
    {
     "data": {
      "text/html": [
       "<div>\n",
       "<style scoped>\n",
       "    .dataframe tbody tr th:only-of-type {\n",
       "        vertical-align: middle;\n",
       "    }\n",
       "\n",
       "    .dataframe tbody tr th {\n",
       "        vertical-align: top;\n",
       "    }\n",
       "\n",
       "    .dataframe thead th {\n",
       "        text-align: right;\n",
       "    }\n",
       "</style>\n",
       "<table border=\"1\" class=\"dataframe\">\n",
       "  <thead>\n",
       "    <tr style=\"text-align: right;\">\n",
       "      <th></th>\n",
       "      <th>Date</th>\n",
       "      <th>Close</th>\n",
       "      <th>Normalized_Price</th>\n",
       "      <th>BTC_Return</th>\n",
       "    </tr>\n",
       "  </thead>\n",
       "  <tbody>\n",
       "    <tr>\n",
       "      <th>0</th>\n",
       "      <td>2019-08-26</td>\n",
       "      <td>10370.820313</td>\n",
       "      <td>100.000000</td>\n",
       "      <td>0.000000</td>\n",
       "    </tr>\n",
       "    <tr>\n",
       "      <th>1</th>\n",
       "      <td>2019-08-27</td>\n",
       "      <td>10185.500000</td>\n",
       "      <td>98.213060</td>\n",
       "      <td>-1.786940</td>\n",
       "    </tr>\n",
       "    <tr>\n",
       "      <th>2</th>\n",
       "      <td>2019-08-28</td>\n",
       "      <td>9754.422852</td>\n",
       "      <td>94.056425</td>\n",
       "      <td>-4.232263</td>\n",
       "    </tr>\n",
       "    <tr>\n",
       "      <th>3</th>\n",
       "      <td>2019-08-29</td>\n",
       "      <td>9510.200195</td>\n",
       "      <td>91.701523</td>\n",
       "      <td>-2.503712</td>\n",
       "    </tr>\n",
       "    <tr>\n",
       "      <th>4</th>\n",
       "      <td>2019-08-30</td>\n",
       "      <td>9598.173828</td>\n",
       "      <td>92.549804</td>\n",
       "      <td>0.925045</td>\n",
       "    </tr>\n",
       "    <tr>\n",
       "      <th>...</th>\n",
       "      <td>...</td>\n",
       "      <td>...</td>\n",
       "      <td>...</td>\n",
       "      <td>...</td>\n",
       "    </tr>\n",
       "    <tr>\n",
       "      <th>1820</th>\n",
       "      <td>2024-08-19</td>\n",
       "      <td>59493.453125</td>\n",
       "      <td>573.661980</td>\n",
       "      <td>1.726094</td>\n",
       "    </tr>\n",
       "    <tr>\n",
       "      <th>1821</th>\n",
       "      <td>2024-08-20</td>\n",
       "      <td>59012.792969</td>\n",
       "      <td>569.027244</td>\n",
       "      <td>-0.807921</td>\n",
       "    </tr>\n",
       "    <tr>\n",
       "      <th>1822</th>\n",
       "      <td>2024-08-21</td>\n",
       "      <td>61175.191406</td>\n",
       "      <td>589.878038</td>\n",
       "      <td>3.664288</td>\n",
       "    </tr>\n",
       "    <tr>\n",
       "      <th>1823</th>\n",
       "      <td>2024-08-22</td>\n",
       "      <td>60381.914063</td>\n",
       "      <td>582.228910</td>\n",
       "      <td>-1.296730</td>\n",
       "    </tr>\n",
       "    <tr>\n",
       "      <th>1824</th>\n",
       "      <td>2024-08-23</td>\n",
       "      <td>64094.355469</td>\n",
       "      <td>618.025899</td>\n",
       "      <td>6.148267</td>\n",
       "    </tr>\n",
       "  </tbody>\n",
       "</table>\n",
       "<p>1825 rows × 4 columns</p>\n",
       "</div>"
      ],
      "text/plain": [
       "           Date         Close  Normalized_Price  BTC_Return\n",
       "0    2019-08-26  10370.820313        100.000000    0.000000\n",
       "1    2019-08-27  10185.500000         98.213060   -1.786940\n",
       "2    2019-08-28   9754.422852         94.056425   -4.232263\n",
       "3    2019-08-29   9510.200195         91.701523   -2.503712\n",
       "4    2019-08-30   9598.173828         92.549804    0.925045\n",
       "...         ...           ...               ...         ...\n",
       "1820 2024-08-19  59493.453125        573.661980    1.726094\n",
       "1821 2024-08-20  59012.792969        569.027244   -0.807921\n",
       "1822 2024-08-21  61175.191406        589.878038    3.664288\n",
       "1823 2024-08-22  60381.914063        582.228910   -1.296730\n",
       "1824 2024-08-23  64094.355469        618.025899    6.148267\n",
       "\n",
       "[1825 rows x 4 columns]"
      ]
     },
     "execution_count": 20,
     "metadata": {},
     "output_type": "execute_result"
    }
   ],
   "source": [
    "btc_closing_price_data[\"BTC_Return\"] = calculate_daily_return(btc_closing_price_data.Close)\n",
    "btc_closing_price_data"
   ]
  },
  {
   "cell_type": "code",
   "execution_count": 21,
   "id": "8f53177b-117c-47b7-b437-c130e0aca75d",
   "metadata": {
    "ExecuteTime": {
     "end_time": "2024-08-31T23:40:35.742088Z",
     "start_time": "2024-08-31T23:40:35.735541Z"
    }
   },
   "outputs": [],
   "source": [
    "# calculate_cumulative_returns(btc_closing_price_data[\"BTC_Return\"])"
   ]
  },
  {
   "cell_type": "markdown",
   "id": "90fd9e1d-630c-4f58-8a2c-0b935f99a60d",
   "metadata": {},
   "source": [
    "Calculate **S&P 500** daily returns:"
   ]
  },
  {
   "cell_type": "code",
   "execution_count": 22,
   "id": "47907236-4d65-49e9-8c99-bbdf22b3867a",
   "metadata": {
    "ExecuteTime": {
     "end_time": "2024-08-31T23:40:35.911764Z",
     "start_time": "2024-08-31T23:40:35.892169Z"
    }
   },
   "outputs": [
    {
     "data": {
      "text/html": [
       "<div>\n",
       "<style scoped>\n",
       "    .dataframe tbody tr th:only-of-type {\n",
       "        vertical-align: middle;\n",
       "    }\n",
       "\n",
       "    .dataframe tbody tr th {\n",
       "        vertical-align: top;\n",
       "    }\n",
       "\n",
       "    .dataframe thead th {\n",
       "        text-align: right;\n",
       "    }\n",
       "</style>\n",
       "<table border=\"1\" class=\"dataframe\">\n",
       "  <thead>\n",
       "    <tr style=\"text-align: right;\">\n",
       "      <th></th>\n",
       "      <th>Date</th>\n",
       "      <th>Close</th>\n",
       "      <th>Normalized_Price</th>\n",
       "      <th>SP_500_Return</th>\n",
       "    </tr>\n",
       "  </thead>\n",
       "  <tbody>\n",
       "    <tr>\n",
       "      <th>0</th>\n",
       "      <td>2019-08-26</td>\n",
       "      <td>2878.379883</td>\n",
       "      <td>100.000000</td>\n",
       "      <td>0.000000</td>\n",
       "    </tr>\n",
       "    <tr>\n",
       "      <th>1</th>\n",
       "      <td>2019-08-27</td>\n",
       "      <td>2869.159912</td>\n",
       "      <td>99.679682</td>\n",
       "      <td>-0.320318</td>\n",
       "    </tr>\n",
       "    <tr>\n",
       "      <th>2</th>\n",
       "      <td>2019-08-28</td>\n",
       "      <td>2887.939941</td>\n",
       "      <td>100.332133</td>\n",
       "      <td>0.654548</td>\n",
       "    </tr>\n",
       "    <tr>\n",
       "      <th>3</th>\n",
       "      <td>2019-08-29</td>\n",
       "      <td>2924.580078</td>\n",
       "      <td>101.605076</td>\n",
       "      <td>1.268729</td>\n",
       "    </tr>\n",
       "    <tr>\n",
       "      <th>4</th>\n",
       "      <td>2019-08-30</td>\n",
       "      <td>2926.459961</td>\n",
       "      <td>101.670387</td>\n",
       "      <td>0.064279</td>\n",
       "    </tr>\n",
       "    <tr>\n",
       "      <th>...</th>\n",
       "      <td>...</td>\n",
       "      <td>...</td>\n",
       "      <td>...</td>\n",
       "      <td>...</td>\n",
       "    </tr>\n",
       "    <tr>\n",
       "      <th>1253</th>\n",
       "      <td>2024-08-19</td>\n",
       "      <td>5608.250000</td>\n",
       "      <td>194.840508</td>\n",
       "      <td>0.972228</td>\n",
       "    </tr>\n",
       "    <tr>\n",
       "      <th>1254</th>\n",
       "      <td>2024-08-20</td>\n",
       "      <td>5597.120117</td>\n",
       "      <td>194.453837</td>\n",
       "      <td>-0.198456</td>\n",
       "    </tr>\n",
       "    <tr>\n",
       "      <th>1255</th>\n",
       "      <td>2024-08-21</td>\n",
       "      <td>5620.850098</td>\n",
       "      <td>195.278258</td>\n",
       "      <td>0.423968</td>\n",
       "    </tr>\n",
       "    <tr>\n",
       "      <th>1256</th>\n",
       "      <td>2024-08-22</td>\n",
       "      <td>5570.640137</td>\n",
       "      <td>193.533875</td>\n",
       "      <td>-0.893281</td>\n",
       "    </tr>\n",
       "    <tr>\n",
       "      <th>1257</th>\n",
       "      <td>2024-08-23</td>\n",
       "      <td>5634.609863</td>\n",
       "      <td>195.756297</td>\n",
       "      <td>1.148337</td>\n",
       "    </tr>\n",
       "  </tbody>\n",
       "</table>\n",
       "<p>1258 rows × 4 columns</p>\n",
       "</div>"
      ],
      "text/plain": [
       "           Date        Close  Normalized_Price  SP_500_Return\n",
       "0    2019-08-26  2878.379883        100.000000       0.000000\n",
       "1    2019-08-27  2869.159912         99.679682      -0.320318\n",
       "2    2019-08-28  2887.939941        100.332133       0.654548\n",
       "3    2019-08-29  2924.580078        101.605076       1.268729\n",
       "4    2019-08-30  2926.459961        101.670387       0.064279\n",
       "...         ...          ...               ...            ...\n",
       "1253 2024-08-19  5608.250000        194.840508       0.972228\n",
       "1254 2024-08-20  5597.120117        194.453837      -0.198456\n",
       "1255 2024-08-21  5620.850098        195.278258       0.423968\n",
       "1256 2024-08-22  5570.640137        193.533875      -0.893281\n",
       "1257 2024-08-23  5634.609863        195.756297       1.148337\n",
       "\n",
       "[1258 rows x 4 columns]"
      ]
     },
     "execution_count": 22,
     "metadata": {},
     "output_type": "execute_result"
    }
   ],
   "source": [
    "sp_500_closing_price_data[\"SP_500_Return\"] = calculate_daily_return(sp_500_closing_price_data.Close)\n",
    "sp_500_closing_price_data"
   ]
  },
  {
   "cell_type": "code",
   "execution_count": 23,
   "id": "588823a0-8b8f-4d4f-b109-ca7e58cb84ae",
   "metadata": {
    "ExecuteTime": {
     "end_time": "2024-08-31T23:40:36.146934Z",
     "start_time": "2024-08-31T23:40:36.142229Z"
    }
   },
   "outputs": [],
   "source": [
    "# calculate_cumulative_returns(sp_500_closing_price_data[\"SP_500_Return\"])"
   ]
  },
  {
   "cell_type": "markdown",
   "id": "eea50528-4597-4c91-80a7-45bdfd7c9429",
   "metadata": {},
   "source": [
    "### 4.2.2. Merge datasets"
   ]
  },
  {
   "cell_type": "markdown",
   "id": "c7f23bb3-cb21-4883-a1b3-6ca30238e839",
   "metadata": {},
   "source": [
    "Merge the two DataFrames with a **left join** on the `Date` column. We want to obtain all `Date` values from the `btc_closing_price_data` DataFrame. All missing values in the `sp_500_closing_price_data` DataFrame are filled with a **NaN**."
   ]
  },
  {
   "cell_type": "code",
   "execution_count": 24,
   "id": "6fb3ca8b-09b1-4b86-a350-c4177a915a97",
   "metadata": {
    "ExecuteTime": {
     "end_time": "2024-08-31T23:40:36.492106Z",
     "start_time": "2024-08-31T23:40:36.454412Z"
    }
   },
   "outputs": [
    {
     "data": {
      "text/html": [
       "<div>\n",
       "<style scoped>\n",
       "    .dataframe tbody tr th:only-of-type {\n",
       "        vertical-align: middle;\n",
       "    }\n",
       "\n",
       "    .dataframe tbody tr th {\n",
       "        vertical-align: top;\n",
       "    }\n",
       "\n",
       "    .dataframe thead th {\n",
       "        text-align: right;\n",
       "    }\n",
       "</style>\n",
       "<table border=\"1\" class=\"dataframe\">\n",
       "  <thead>\n",
       "    <tr style=\"text-align: right;\">\n",
       "      <th></th>\n",
       "      <th>Date</th>\n",
       "      <th>Close_BTC</th>\n",
       "      <th>Normalized_Price_BTC</th>\n",
       "      <th>BTC_Return</th>\n",
       "      <th>Close_SP_500</th>\n",
       "      <th>Normalized_Price_SP_500</th>\n",
       "      <th>SP_500_Return</th>\n",
       "    </tr>\n",
       "  </thead>\n",
       "  <tbody>\n",
       "    <tr>\n",
       "      <th>0</th>\n",
       "      <td>2019-08-26</td>\n",
       "      <td>10370.820313</td>\n",
       "      <td>100.000000</td>\n",
       "      <td>0.000000</td>\n",
       "      <td>2878.379883</td>\n",
       "      <td>100.000000</td>\n",
       "      <td>0.000000</td>\n",
       "    </tr>\n",
       "    <tr>\n",
       "      <th>1</th>\n",
       "      <td>2019-08-27</td>\n",
       "      <td>10185.500000</td>\n",
       "      <td>98.213060</td>\n",
       "      <td>-1.786940</td>\n",
       "      <td>2869.159912</td>\n",
       "      <td>99.679682</td>\n",
       "      <td>-0.320318</td>\n",
       "    </tr>\n",
       "    <tr>\n",
       "      <th>2</th>\n",
       "      <td>2019-08-28</td>\n",
       "      <td>9754.422852</td>\n",
       "      <td>94.056425</td>\n",
       "      <td>-4.232263</td>\n",
       "      <td>2887.939941</td>\n",
       "      <td>100.332133</td>\n",
       "      <td>0.654548</td>\n",
       "    </tr>\n",
       "    <tr>\n",
       "      <th>3</th>\n",
       "      <td>2019-08-29</td>\n",
       "      <td>9510.200195</td>\n",
       "      <td>91.701523</td>\n",
       "      <td>-2.503712</td>\n",
       "      <td>2924.580078</td>\n",
       "      <td>101.605076</td>\n",
       "      <td>1.268729</td>\n",
       "    </tr>\n",
       "    <tr>\n",
       "      <th>4</th>\n",
       "      <td>2019-08-30</td>\n",
       "      <td>9598.173828</td>\n",
       "      <td>92.549804</td>\n",
       "      <td>0.925045</td>\n",
       "      <td>2926.459961</td>\n",
       "      <td>101.670387</td>\n",
       "      <td>0.064279</td>\n",
       "    </tr>\n",
       "    <tr>\n",
       "      <th>5</th>\n",
       "      <td>2019-08-31</td>\n",
       "      <td>9630.664063</td>\n",
       "      <td>92.863089</td>\n",
       "      <td>0.338504</td>\n",
       "      <td>NaN</td>\n",
       "      <td>NaN</td>\n",
       "      <td>NaN</td>\n",
       "    </tr>\n",
       "    <tr>\n",
       "      <th>6</th>\n",
       "      <td>2019-09-01</td>\n",
       "      <td>9757.970703</td>\n",
       "      <td>94.090635</td>\n",
       "      <td>1.321888</td>\n",
       "      <td>NaN</td>\n",
       "      <td>NaN</td>\n",
       "      <td>NaN</td>\n",
       "    </tr>\n",
       "    <tr>\n",
       "      <th>7</th>\n",
       "      <td>2019-09-02</td>\n",
       "      <td>10346.760742</td>\n",
       "      <td>99.768007</td>\n",
       "      <td>6.033939</td>\n",
       "      <td>NaN</td>\n",
       "      <td>NaN</td>\n",
       "      <td>NaN</td>\n",
       "    </tr>\n",
       "    <tr>\n",
       "      <th>8</th>\n",
       "      <td>2019-09-03</td>\n",
       "      <td>10623.540039</td>\n",
       "      <td>102.436834</td>\n",
       "      <td>2.675033</td>\n",
       "      <td>2906.270020</td>\n",
       "      <td>100.968953</td>\n",
       "      <td>-0.689910</td>\n",
       "    </tr>\n",
       "    <tr>\n",
       "      <th>9</th>\n",
       "      <td>2019-09-04</td>\n",
       "      <td>10594.493164</td>\n",
       "      <td>102.156752</td>\n",
       "      <td>-0.273420</td>\n",
       "      <td>2937.780029</td>\n",
       "      <td>102.063666</td>\n",
       "      <td>1.084208</td>\n",
       "    </tr>\n",
       "  </tbody>\n",
       "</table>\n",
       "</div>"
      ],
      "text/plain": [
       "        Date     Close_BTC  Normalized_Price_BTC  BTC_Return  Close_SP_500  \\\n",
       "0 2019-08-26  10370.820313            100.000000    0.000000   2878.379883   \n",
       "1 2019-08-27  10185.500000             98.213060   -1.786940   2869.159912   \n",
       "2 2019-08-28   9754.422852             94.056425   -4.232263   2887.939941   \n",
       "3 2019-08-29   9510.200195             91.701523   -2.503712   2924.580078   \n",
       "4 2019-08-30   9598.173828             92.549804    0.925045   2926.459961   \n",
       "5 2019-08-31   9630.664063             92.863089    0.338504           NaN   \n",
       "6 2019-09-01   9757.970703             94.090635    1.321888           NaN   \n",
       "7 2019-09-02  10346.760742             99.768007    6.033939           NaN   \n",
       "8 2019-09-03  10623.540039            102.436834    2.675033   2906.270020   \n",
       "9 2019-09-04  10594.493164            102.156752   -0.273420   2937.780029   \n",
       "\n",
       "   Normalized_Price_SP_500  SP_500_Return  \n",
       "0               100.000000       0.000000  \n",
       "1                99.679682      -0.320318  \n",
       "2               100.332133       0.654548  \n",
       "3               101.605076       1.268729  \n",
       "4               101.670387       0.064279  \n",
       "5                      NaN            NaN  \n",
       "6                      NaN            NaN  \n",
       "7                      NaN            NaN  \n",
       "8               100.968953      -0.689910  \n",
       "9               102.063666       1.084208  "
      ]
     },
     "execution_count": 24,
     "metadata": {},
     "output_type": "execute_result"
    }
   ],
   "source": [
    "data_merged = btc_closing_price_data.merge(sp_500_closing_price_data, on = \"Date\", how = \"left\", suffixes = (\"_BTC\", \"_SP_500\"))\n",
    "data_merged.head(10)"
   ]
  },
  {
   "cell_type": "code",
   "execution_count": 25,
   "id": "8ad23640-ad3a-4df5-99c0-2793154ae412",
   "metadata": {
    "ExecuteTime": {
     "end_time": "2024-08-31T23:40:37.230712Z",
     "start_time": "2024-08-31T23:40:37.217782Z"
    }
   },
   "outputs": [
    {
     "data": {
      "text/plain": [
       "Date                       datetime64[ns]\n",
       "Close_BTC                         float64\n",
       "Normalized_Price_BTC              float64\n",
       "BTC_Return                        float64\n",
       "Close_SP_500                      float64\n",
       "Normalized_Price_SP_500           float64\n",
       "SP_500_Return                     float64\n",
       "dtype: object"
      ]
     },
     "execution_count": 25,
     "metadata": {},
     "output_type": "execute_result"
    }
   ],
   "source": [
    "data_merged.dtypes"
   ]
  },
  {
   "cell_type": "markdown",
   "id": "04601d8c-8f77-49b4-9ef5-e2c6e83f3e47",
   "metadata": {},
   "source": [
    "#### Fill missing values (Imputation) "
   ]
  },
  {
   "cell_type": "markdown",
   "id": "c8fabac1-8831-40df-9f40-d8cf3c78ac74",
   "metadata": {},
   "source": [
    "Since Bitcoin closing prices are available daily, but S&P 500 Index don't trade on weekends and holidays, the S&P 500 Index values were aligned with Bitcoin prices by **forward filling** the missing dates with the last available trading day value preceding the date."
   ]
  },
  {
   "cell_type": "code",
   "execution_count": 26,
   "id": "a5dddb84-6fcf-4a39-b4f1-c2fadec56fac",
   "metadata": {
    "ExecuteTime": {
     "end_time": "2024-08-31T23:40:37.496163Z",
     "start_time": "2024-08-31T23:40:37.485796Z"
    }
   },
   "outputs": [],
   "source": [
    "data_merged[\"Close_BTC_Filled\"] = data_merged.Close_BTC.ffill()\n",
    "data_merged[\"Close_SP_500_Filled\"] = data_merged.Close_SP_500.ffill()\n",
    "data_merged[\"Normalized_Price_SP_500\"] = data_merged.Normalized_Price_SP_500.ffill()"
   ]
  },
  {
   "cell_type": "markdown",
   "id": "885d82c7-fd26-4efb-8716-28bc44ed5c3e",
   "metadata": {},
   "source": [
    "The missing `SP_500_Return` values are filled with 0 (**Zeroes**)."
   ]
  },
  {
   "cell_type": "code",
   "execution_count": 27,
   "id": "f7433045-5b12-493e-9b79-b142fae953d1",
   "metadata": {
    "ExecuteTime": {
     "end_time": "2024-08-31T23:40:38.317306Z",
     "start_time": "2024-08-31T23:40:38.311611Z"
    }
   },
   "outputs": [],
   "source": [
    "data_merged[\"SP_500_Return\"] = data_merged.SP_500_Return.fillna(0)"
   ]
  },
  {
   "cell_type": "markdown",
   "id": "d9f28369-2e3d-4462-9389-1e76c738eb58",
   "metadata": {},
   "source": [
    "Reorder the columns in the DataFrame:"
   ]
  },
  {
   "cell_type": "code",
   "execution_count": 28,
   "id": "477cb891-83db-4596-876c-7889bf67014d",
   "metadata": {
    "ExecuteTime": {
     "end_time": "2024-08-31T23:40:38.632575Z",
     "start_time": "2024-08-31T23:40:38.621460Z"
    }
   },
   "outputs": [
    {
     "data": {
      "text/plain": [
       "Index(['Date', 'Close_BTC', 'Normalized_Price_BTC', 'BTC_Return',\n",
       "       'Close_SP_500', 'Normalized_Price_SP_500', 'SP_500_Return',\n",
       "       'Close_BTC_Filled', 'Close_SP_500_Filled'],\n",
       "      dtype='object')"
      ]
     },
     "execution_count": 28,
     "metadata": {},
     "output_type": "execute_result"
    }
   ],
   "source": [
    "data_merged.columns"
   ]
  },
  {
   "cell_type": "code",
   "execution_count": 29,
   "id": "02a59c83-c360-41fa-bd90-7bbfc0752d87",
   "metadata": {
    "ExecuteTime": {
     "end_time": "2024-08-31T23:40:39.199252Z",
     "start_time": "2024-08-31T23:40:39.172892Z"
    }
   },
   "outputs": [
    {
     "data": {
      "text/html": [
       "<div>\n",
       "<style scoped>\n",
       "    .dataframe tbody tr th:only-of-type {\n",
       "        vertical-align: middle;\n",
       "    }\n",
       "\n",
       "    .dataframe tbody tr th {\n",
       "        vertical-align: top;\n",
       "    }\n",
       "\n",
       "    .dataframe thead th {\n",
       "        text-align: right;\n",
       "    }\n",
       "</style>\n",
       "<table border=\"1\" class=\"dataframe\">\n",
       "  <thead>\n",
       "    <tr style=\"text-align: right;\">\n",
       "      <th></th>\n",
       "      <th>Date</th>\n",
       "      <th>Close_BTC</th>\n",
       "      <th>Close_BTC_Filled</th>\n",
       "      <th>Close_SP_500</th>\n",
       "      <th>Close_SP_500_Filled</th>\n",
       "      <th>BTC_Return</th>\n",
       "      <th>SP_500_Return</th>\n",
       "      <th>Normalized_Price_BTC</th>\n",
       "      <th>Normalized_Price_SP_500</th>\n",
       "    </tr>\n",
       "  </thead>\n",
       "  <tbody>\n",
       "    <tr>\n",
       "      <th>0</th>\n",
       "      <td>2019-08-26</td>\n",
       "      <td>10370.820313</td>\n",
       "      <td>10370.820313</td>\n",
       "      <td>2878.379883</td>\n",
       "      <td>2878.379883</td>\n",
       "      <td>0.000000</td>\n",
       "      <td>0.000000</td>\n",
       "      <td>100.000000</td>\n",
       "      <td>100.000000</td>\n",
       "    </tr>\n",
       "    <tr>\n",
       "      <th>1</th>\n",
       "      <td>2019-08-27</td>\n",
       "      <td>10185.500000</td>\n",
       "      <td>10185.500000</td>\n",
       "      <td>2869.159912</td>\n",
       "      <td>2869.159912</td>\n",
       "      <td>-1.786940</td>\n",
       "      <td>-0.320318</td>\n",
       "      <td>98.213060</td>\n",
       "      <td>99.679682</td>\n",
       "    </tr>\n",
       "    <tr>\n",
       "      <th>2</th>\n",
       "      <td>2019-08-28</td>\n",
       "      <td>9754.422852</td>\n",
       "      <td>9754.422852</td>\n",
       "      <td>2887.939941</td>\n",
       "      <td>2887.939941</td>\n",
       "      <td>-4.232263</td>\n",
       "      <td>0.654548</td>\n",
       "      <td>94.056425</td>\n",
       "      <td>100.332133</td>\n",
       "    </tr>\n",
       "    <tr>\n",
       "      <th>3</th>\n",
       "      <td>2019-08-29</td>\n",
       "      <td>9510.200195</td>\n",
       "      <td>9510.200195</td>\n",
       "      <td>2924.580078</td>\n",
       "      <td>2924.580078</td>\n",
       "      <td>-2.503712</td>\n",
       "      <td>1.268729</td>\n",
       "      <td>91.701523</td>\n",
       "      <td>101.605076</td>\n",
       "    </tr>\n",
       "    <tr>\n",
       "      <th>4</th>\n",
       "      <td>2019-08-30</td>\n",
       "      <td>9598.173828</td>\n",
       "      <td>9598.173828</td>\n",
       "      <td>2926.459961</td>\n",
       "      <td>2926.459961</td>\n",
       "      <td>0.925045</td>\n",
       "      <td>0.064279</td>\n",
       "      <td>92.549804</td>\n",
       "      <td>101.670387</td>\n",
       "    </tr>\n",
       "    <tr>\n",
       "      <th>5</th>\n",
       "      <td>2019-08-31</td>\n",
       "      <td>9630.664063</td>\n",
       "      <td>9630.664063</td>\n",
       "      <td>NaN</td>\n",
       "      <td>2926.459961</td>\n",
       "      <td>0.338504</td>\n",
       "      <td>0.000000</td>\n",
       "      <td>92.863089</td>\n",
       "      <td>101.670387</td>\n",
       "    </tr>\n",
       "    <tr>\n",
       "      <th>6</th>\n",
       "      <td>2019-09-01</td>\n",
       "      <td>9757.970703</td>\n",
       "      <td>9757.970703</td>\n",
       "      <td>NaN</td>\n",
       "      <td>2926.459961</td>\n",
       "      <td>1.321888</td>\n",
       "      <td>0.000000</td>\n",
       "      <td>94.090635</td>\n",
       "      <td>101.670387</td>\n",
       "    </tr>\n",
       "    <tr>\n",
       "      <th>7</th>\n",
       "      <td>2019-09-02</td>\n",
       "      <td>10346.760742</td>\n",
       "      <td>10346.760742</td>\n",
       "      <td>NaN</td>\n",
       "      <td>2926.459961</td>\n",
       "      <td>6.033939</td>\n",
       "      <td>0.000000</td>\n",
       "      <td>99.768007</td>\n",
       "      <td>101.670387</td>\n",
       "    </tr>\n",
       "    <tr>\n",
       "      <th>8</th>\n",
       "      <td>2019-09-03</td>\n",
       "      <td>10623.540039</td>\n",
       "      <td>10623.540039</td>\n",
       "      <td>2906.270020</td>\n",
       "      <td>2906.270020</td>\n",
       "      <td>2.675033</td>\n",
       "      <td>-0.689910</td>\n",
       "      <td>102.436834</td>\n",
       "      <td>100.968953</td>\n",
       "    </tr>\n",
       "    <tr>\n",
       "      <th>9</th>\n",
       "      <td>2019-09-04</td>\n",
       "      <td>10594.493164</td>\n",
       "      <td>10594.493164</td>\n",
       "      <td>2937.780029</td>\n",
       "      <td>2937.780029</td>\n",
       "      <td>-0.273420</td>\n",
       "      <td>1.084208</td>\n",
       "      <td>102.156752</td>\n",
       "      <td>102.063666</td>\n",
       "    </tr>\n",
       "  </tbody>\n",
       "</table>\n",
       "</div>"
      ],
      "text/plain": [
       "        Date     Close_BTC  Close_BTC_Filled  Close_SP_500  \\\n",
       "0 2019-08-26  10370.820313      10370.820313   2878.379883   \n",
       "1 2019-08-27  10185.500000      10185.500000   2869.159912   \n",
       "2 2019-08-28   9754.422852       9754.422852   2887.939941   \n",
       "3 2019-08-29   9510.200195       9510.200195   2924.580078   \n",
       "4 2019-08-30   9598.173828       9598.173828   2926.459961   \n",
       "5 2019-08-31   9630.664063       9630.664063           NaN   \n",
       "6 2019-09-01   9757.970703       9757.970703           NaN   \n",
       "7 2019-09-02  10346.760742      10346.760742           NaN   \n",
       "8 2019-09-03  10623.540039      10623.540039   2906.270020   \n",
       "9 2019-09-04  10594.493164      10594.493164   2937.780029   \n",
       "\n",
       "   Close_SP_500_Filled  BTC_Return  SP_500_Return  Normalized_Price_BTC  \\\n",
       "0          2878.379883    0.000000       0.000000            100.000000   \n",
       "1          2869.159912   -1.786940      -0.320318             98.213060   \n",
       "2          2887.939941   -4.232263       0.654548             94.056425   \n",
       "3          2924.580078   -2.503712       1.268729             91.701523   \n",
       "4          2926.459961    0.925045       0.064279             92.549804   \n",
       "5          2926.459961    0.338504       0.000000             92.863089   \n",
       "6          2926.459961    1.321888       0.000000             94.090635   \n",
       "7          2926.459961    6.033939       0.000000             99.768007   \n",
       "8          2906.270020    2.675033      -0.689910            102.436834   \n",
       "9          2937.780029   -0.273420       1.084208            102.156752   \n",
       "\n",
       "   Normalized_Price_SP_500  \n",
       "0               100.000000  \n",
       "1                99.679682  \n",
       "2               100.332133  \n",
       "3               101.605076  \n",
       "4               101.670387  \n",
       "5               101.670387  \n",
       "6               101.670387  \n",
       "7               101.670387  \n",
       "8               100.968953  \n",
       "9               102.063666  "
      ]
     },
     "execution_count": 29,
     "metadata": {},
     "output_type": "execute_result"
    }
   ],
   "source": [
    "data_tidy = data_merged[[\"Date\", \"Close_BTC\", \"Close_BTC_Filled\",\n",
    "                        \"Close_SP_500\", \"Close_SP_500_Filled\", \n",
    "                        \"BTC_Return\", \"SP_500_Return\",\n",
    "                        \"Normalized_Price_BTC\", \"Normalized_Price_SP_500\"]].copy(deep=True)\n",
    "\n",
    "data_tidy.head(10)"
   ]
  },
  {
   "cell_type": "code",
   "execution_count": 30,
   "id": "e2a7130f-ac03-4219-8d36-f1ae46f4633f",
   "metadata": {
    "ExecuteTime": {
     "end_time": "2024-08-31T23:40:39.415047Z",
     "start_time": "2024-08-31T23:40:39.375399Z"
    }
   },
   "outputs": [
    {
     "data": {
      "text/html": [
       "<div>\n",
       "<style scoped>\n",
       "    .dataframe tbody tr th:only-of-type {\n",
       "        vertical-align: middle;\n",
       "    }\n",
       "\n",
       "    .dataframe tbody tr th {\n",
       "        vertical-align: top;\n",
       "    }\n",
       "\n",
       "    .dataframe thead th {\n",
       "        text-align: right;\n",
       "    }\n",
       "</style>\n",
       "<table border=\"1\" class=\"dataframe\">\n",
       "  <thead>\n",
       "    <tr style=\"text-align: right;\">\n",
       "      <th></th>\n",
       "      <th>count</th>\n",
       "      <th>mean</th>\n",
       "      <th>min</th>\n",
       "      <th>25%</th>\n",
       "      <th>50%</th>\n",
       "      <th>75%</th>\n",
       "      <th>max</th>\n",
       "      <th>std</th>\n",
       "    </tr>\n",
       "  </thead>\n",
       "  <tbody>\n",
       "    <tr>\n",
       "      <th>Date</th>\n",
       "      <td>1825</td>\n",
       "      <td>2022-02-23 00:00:00</td>\n",
       "      <td>2019-08-26 00:00:00</td>\n",
       "      <td>2020-11-24 00:00:00</td>\n",
       "      <td>2022-02-23 00:00:00</td>\n",
       "      <td>2023-05-25 00:00:00</td>\n",
       "      <td>2024-08-23 00:00:00</td>\n",
       "      <td>NaN</td>\n",
       "    </tr>\n",
       "    <tr>\n",
       "      <th>Close_BTC</th>\n",
       "      <td>1825.0</td>\n",
       "      <td>31490.233934</td>\n",
       "      <td>4970.788086</td>\n",
       "      <td>16444.982422</td>\n",
       "      <td>28680.537109</td>\n",
       "      <td>44318.222656</td>\n",
       "      <td>73083.5</td>\n",
       "      <td>18485.086175</td>\n",
       "    </tr>\n",
       "    <tr>\n",
       "      <th>Close_BTC_Filled</th>\n",
       "      <td>1825.0</td>\n",
       "      <td>31490.233934</td>\n",
       "      <td>4970.788086</td>\n",
       "      <td>16444.982422</td>\n",
       "      <td>28680.537109</td>\n",
       "      <td>44318.222656</td>\n",
       "      <td>73083.5</td>\n",
       "      <td>18485.086175</td>\n",
       "    </tr>\n",
       "    <tr>\n",
       "      <th>Close_SP_500</th>\n",
       "      <td>1258.0</td>\n",
       "      <td>4063.164056</td>\n",
       "      <td>2237.399902</td>\n",
       "      <td>3583.590027</td>\n",
       "      <td>4126.245117</td>\n",
       "      <td>4486.402466</td>\n",
       "      <td>5667.200195</td>\n",
       "      <td>691.955416</td>\n",
       "    </tr>\n",
       "    <tr>\n",
       "      <th>Close_SP_500_Filled</th>\n",
       "      <td>1825.0</td>\n",
       "      <td>4064.071231</td>\n",
       "      <td>2237.399902</td>\n",
       "      <td>3585.149902</td>\n",
       "      <td>4127.830078</td>\n",
       "      <td>4483.870117</td>\n",
       "      <td>5667.200195</td>\n",
       "      <td>690.171186</td>\n",
       "    </tr>\n",
       "    <tr>\n",
       "      <th>BTC_Return</th>\n",
       "      <td>1825.0</td>\n",
       "      <td>0.157942</td>\n",
       "      <td>-37.169539</td>\n",
       "      <td>-1.349796</td>\n",
       "      <td>0.018878</td>\n",
       "      <td>1.601855</td>\n",
       "      <td>18.746474</td>\n",
       "      <td>3.378393</td>\n",
       "    </tr>\n",
       "    <tr>\n",
       "      <th>SP_500_Return</th>\n",
       "      <td>1825.0</td>\n",
       "      <td>0.043</td>\n",
       "      <td>-11.984055</td>\n",
       "      <td>-0.191372</td>\n",
       "      <td>0.0</td>\n",
       "      <td>0.37108</td>\n",
       "      <td>9.382774</td>\n",
       "      <td>1.109802</td>\n",
       "    </tr>\n",
       "    <tr>\n",
       "      <th>Normalized_Price_BTC</th>\n",
       "      <td>1825.0</td>\n",
       "      <td>303.642653</td>\n",
       "      <td>47.93052</td>\n",
       "      <td>158.569736</td>\n",
       "      <td>276.550323</td>\n",
       "      <td>427.335749</td>\n",
       "      <td>704.703175</td>\n",
       "      <td>178.241312</td>\n",
       "    </tr>\n",
       "    <tr>\n",
       "      <th>Normalized_Price_SP_500</th>\n",
       "      <td>1825.0</td>\n",
       "      <td>141.193011</td>\n",
       "      <td>77.731224</td>\n",
       "      <td>124.554439</td>\n",
       "      <td>143.408106</td>\n",
       "      <td>155.777566</td>\n",
       "      <td>196.888542</td>\n",
       "      <td>23.977766</td>\n",
       "    </tr>\n",
       "  </tbody>\n",
       "</table>\n",
       "</div>"
      ],
      "text/plain": [
       "                          count                 mean                  min  \\\n",
       "Date                       1825  2022-02-23 00:00:00  2019-08-26 00:00:00   \n",
       "Close_BTC                1825.0         31490.233934          4970.788086   \n",
       "Close_BTC_Filled         1825.0         31490.233934          4970.788086   \n",
       "Close_SP_500             1258.0          4063.164056          2237.399902   \n",
       "Close_SP_500_Filled      1825.0          4064.071231          2237.399902   \n",
       "BTC_Return               1825.0             0.157942           -37.169539   \n",
       "SP_500_Return            1825.0                0.043           -11.984055   \n",
       "Normalized_Price_BTC     1825.0           303.642653             47.93052   \n",
       "Normalized_Price_SP_500  1825.0           141.193011            77.731224   \n",
       "\n",
       "                                         25%                  50%  \\\n",
       "Date                     2020-11-24 00:00:00  2022-02-23 00:00:00   \n",
       "Close_BTC                       16444.982422         28680.537109   \n",
       "Close_BTC_Filled                16444.982422         28680.537109   \n",
       "Close_SP_500                     3583.590027          4126.245117   \n",
       "Close_SP_500_Filled              3585.149902          4127.830078   \n",
       "BTC_Return                         -1.349796             0.018878   \n",
       "SP_500_Return                      -0.191372                  0.0   \n",
       "Normalized_Price_BTC              158.569736           276.550323   \n",
       "Normalized_Price_SP_500           124.554439           143.408106   \n",
       "\n",
       "                                         75%                  max  \\\n",
       "Date                     2023-05-25 00:00:00  2024-08-23 00:00:00   \n",
       "Close_BTC                       44318.222656              73083.5   \n",
       "Close_BTC_Filled                44318.222656              73083.5   \n",
       "Close_SP_500                     4486.402466          5667.200195   \n",
       "Close_SP_500_Filled              4483.870117          5667.200195   \n",
       "BTC_Return                          1.601855            18.746474   \n",
       "SP_500_Return                        0.37108             9.382774   \n",
       "Normalized_Price_BTC              427.335749           704.703175   \n",
       "Normalized_Price_SP_500           155.777566           196.888542   \n",
       "\n",
       "                                  std  \n",
       "Date                              NaN  \n",
       "Close_BTC                18485.086175  \n",
       "Close_BTC_Filled         18485.086175  \n",
       "Close_SP_500               691.955416  \n",
       "Close_SP_500_Filled        690.171186  \n",
       "BTC_Return                   3.378393  \n",
       "SP_500_Return                1.109802  \n",
       "Normalized_Price_BTC       178.241312  \n",
       "Normalized_Price_SP_500     23.977766  "
      ]
     },
     "execution_count": 30,
     "metadata": {},
     "output_type": "execute_result"
    }
   ],
   "source": [
    "data_tidy.describe().T"
   ]
  },
  {
   "cell_type": "code",
   "execution_count": 31,
   "id": "e37db7f2-8256-490a-866c-85ec954ffbec",
   "metadata": {
    "ExecuteTime": {
     "end_time": "2024-08-31T23:40:39.868502Z",
     "start_time": "2024-08-31T23:40:39.858434Z"
    }
   },
   "outputs": [
    {
     "data": {
      "text/plain": [
       "Date                       datetime64[ns]\n",
       "Close_BTC                         float64\n",
       "Close_BTC_Filled                  float64\n",
       "Close_SP_500                      float64\n",
       "Close_SP_500_Filled               float64\n",
       "BTC_Return                        float64\n",
       "SP_500_Return                     float64\n",
       "Normalized_Price_BTC              float64\n",
       "Normalized_Price_SP_500           float64\n",
       "dtype: object"
      ]
     },
     "execution_count": 31,
     "metadata": {},
     "output_type": "execute_result"
    }
   ],
   "source": [
    "data_tidy.dtypes"
   ]
  },
  {
   "cell_type": "markdown",
   "id": "2faa49c6-e138-41a3-995c-bb5c7e820816",
   "metadata": {},
   "source": [
    "### 4.2.3 Visualize the Data"
   ]
  },
  {
   "cell_type": "markdown",
   "id": "01f9dbc8-b6f9-4bde-b929-9aa3ef0afba0",
   "metadata": {},
   "source": [
    " - **Line Chart**: Plot the normalized prices or returns over time on the same chart to visually compare their movements.\n",
    "- **Scatter Plot**: Plot the returns of Bitcoin against the returns of the S&P 500 to see if there's any correlation."
   ]
  },
  {
   "cell_type": "code",
   "execution_count": 32,
   "id": "6d1b5c96-5681-4020-890d-e33f6939f80b",
   "metadata": {
    "ExecuteTime": {
     "end_time": "2024-08-31T23:40:40.121693Z",
     "start_time": "2024-08-31T23:40:40.115753Z"
    }
   },
   "outputs": [],
   "source": [
    "def plot_market_data(dates, prices, labels, title):\n",
    "    plt.figure(figsize=(14, 7))\n",
    "    \n",
    "    ax = plt.gca()\n",
    "    ax.set_facecolor('gainsboro')\n",
    "    ax.xaxis.grid(True, color='white')\n",
    "    ax.yaxis.grid(True, color='white')\n",
    "    \n",
    "    plt.plot(dates, prices)\n",
    "    \n",
    "    plt.xlabel(labels[0])\n",
    "    plt.ylabel(labels[1])\n",
    "\n",
    "    plt.title(title)\n",
    "    plt.show()"
   ]
  },
  {
   "cell_type": "code",
   "execution_count": 33,
   "id": "49975e0e-500f-4b03-a55e-c2b44b49e693",
   "metadata": {
    "ExecuteTime": {
     "end_time": "2024-08-31T23:40:40.840553Z",
     "start_time": "2024-08-31T23:40:40.832886Z"
    }
   },
   "outputs": [],
   "source": [
    "def plot_multiple_market_data(dates, labels, legend, prices, title):\n",
    "    plt.figure(figsize=(14, 7))\n",
    "    \n",
    "    ax = plt.gca()\n",
    "    ax.set_facecolor('gainsboro') \n",
    "    ax.xaxis.grid(True, color='white')\n",
    "    ax.yaxis.grid(True, color='white')\n",
    "    \n",
    "    plt.plot(dates, prices[0], label=legend[0])\n",
    "    plt.plot(dates, prices[1], label=legend[1])\n",
    "    \n",
    "    plt.xlabel(labels[0])\n",
    "    plt.ylabel(labels[1])\n",
    "\n",
    "    plt.legend()\n",
    "    \n",
    "    plt.title(title)\n",
    "    plt.show()"
   ]
  },
  {
   "cell_type": "code",
   "execution_count": 34,
   "id": "3c494425-dae7-4058-9d38-fde35188f414",
   "metadata": {
    "ExecuteTime": {
     "end_time": "2024-08-31T23:40:41.581322Z",
     "start_time": "2024-08-31T23:40:41.087390Z"
    }
   },
   "outputs": [
    {
     "data": {
      "image/png": "[encoded data removed]",
      "text/plain": [
       "<Figure size 1400x700 with 1 Axes>"
      ]
     },
     "metadata": {},
     "output_type": "display_data"
    }
   ],
   "source": [
    "dates = data_tidy.Date\n",
    "prices_normalized_btc = data_tidy.Close_BTC\n",
    "title_btc = 'Bitcoin Price (Aug 2019 - Aug 2024)'\n",
    "\n",
    "labels = ['Date', 'Price [USD]']\n",
    "\n",
    "plot_market_data(dates, prices_normalized_btc, labels, title_btc)"
   ]
  },
  {
   "cell_type": "code",
   "execution_count": 35,
   "id": "9091d7ca-8068-4e78-87b7-c96a122f9d1a",
   "metadata": {
    "ExecuteTime": {
     "end_time": "2024-08-31T23:40:42.042975Z",
     "start_time": "2024-08-31T23:40:41.626113Z"
    }
   },
   "outputs": [
    {
     "data": {
      "image/png": "[encoded data removed]",
      "text/plain": [
       "<Figure size 1400x700 with 1 Axes>"
      ]
     },
     "metadata": {},
     "output_type": "display_data"
    }
   ],
   "source": [
    "dates_sp_500 = data_tidy.Date\n",
    "prices_normalized_sp_500  = data_tidy.Close_SP_500_Filled\n",
    "title = 'S&P_500 Price (Aug 2019 - Aug 2024)'\n",
    "\n",
    "labels = ['Date', 'Price [USD]']\n",
    "\n",
    "plot_market_data(dates_sp_500, prices_normalized_sp_500, labels, title)"
   ]
  },
  {
   "cell_type": "code",
   "execution_count": 36,
   "id": "f0be50fc-3393-46e3-8924-a022733e3bd9",
   "metadata": {
    "ExecuteTime": {
     "end_time": "2024-08-31T23:40:42.592608Z",
     "start_time": "2024-08-31T23:40:42.078807Z"
    }
   },
   "outputs": [
    {
     "data": {
      "image/png": "[encoded data removed]",
      "text/plain": [
       "<Figure size 1400x700 with 1 Axes>"
      ]
     },
     "metadata": {},
     "output_type": "display_data"
    }
   ],
   "source": [
    "dates = data_tidy.Date\n",
    "prices_normalized_btc = data_tidy.Normalized_Price_BTC\n",
    "prices_normalized_sp_500  = data_tidy.Normalized_Price_SP_500\n",
    "title_btc = \"Normalized Bitcoin vs. Normalized S&P_500 Price \\n (Aug 2019 - Aug 2024)\"\n",
    "\n",
    "labels = [\"Date\", \"Normalized Price\"]\n",
    "legend = [\"Normalized Bitcoin Price\", \"Normalized S&P_500 Price\"]\n",
    "prices = [prices_normalized_btc, prices_normalized_sp_500]\n",
    "\n",
    "plot_multiple_market_data(dates, labels, legend, prices, title_btc)"
   ]
  },
  {
   "cell_type": "code",
   "execution_count": 37,
   "id": "72e936d1-c3ca-4061-92ca-4e21427336a9",
   "metadata": {
    "ExecuteTime": {
     "end_time": "2024-08-31T23:40:43.060019Z",
     "start_time": "2024-08-31T23:40:42.625488Z"
    }
   },
   "outputs": [
    {
     "data": {
      "image/png": "[encoded data removed]",
      "text/plain": [
       "<Figure size 1400x700 with 1 Axes>"
      ]
     },
     "metadata": {},
     "output_type": "display_data"
    }
   ],
   "source": [
    "dates = data_tidy.Date\n",
    "btc_returns = data_tidy.BTC_Return\n",
    "sp_500_returns  = data_tidy.SP_500_Return\n",
    "title_btc = \"Daily Bitcoin Returns vs. Daily S&P_500 Returns \\n (Aug 2019 - Aug 2024)\"\n",
    "\n",
    "returns = [btc_returns, sp_500_returns]\n",
    "labels = [\"Date\", \"Daily Returns [%]\"]\n",
    "legend = [\"Daily Bitcoin Returns [%]\", \"Daily S&P_500 Returns [%]\"]\n",
    "\n",
    "plot_multiple_market_data(dates, labels, legend, returns, title_btc)"
   ]
  },
  {
   "cell_type": "markdown",
   "id": "78da1111-e9d4-4c8c-90d9-36413c33d541",
   "metadata": {},
   "source": [
    "## 5. Statistical Analysis\n",
    "   - **Correlation**: Calculate the Pearson correlation coefficient between the daily returns of the S&P 500 and Bitcoin. This will give you a measure of the linear relationship between the two assets. A correlation close to 1 means they move together, while a correlation close to -1 means they move in opposite directions.\n",
    "   - **Volatility Comparison**: Analyze and compare the volatility (standard deviation of returns) of both assets to understand their risk levels.\n",
    "   - **Beta**: Calculate Bitcoin's beta with respect to the S&P 500 to see how sensitive Bitcoin is to movements in the S&P 500."
   ]
  },
  {
   "cell_type": "markdown",
   "id": "6017c7fd-5c2a-46dc-a38d-54379566b981",
   "metadata": {},
   "source": [
    "### 5.1. Correlation between the daily returns of the S&P 500 and Bitcoin"
   ]
  },
  {
   "cell_type": "markdown",
   "id": "aac80ff9-54e2-4ebe-87be-f583abda63d7",
   "metadata": {},
   "source": [
    "A correlation measures the strength and direction of the relationship between two variables. It ranges from -1 to +1:\n",
    "  - **+1**: Perfect positive correlation (both variables move in the same direction).\n",
    "  - **-1**: Perfect negative correlation (variables move in opposite directions).\n",
    "  - **0**: No linear relationship between the variables."
   ]
  },
  {
   "cell_type": "markdown",
   "id": "4926f2fe-9303-4f01-b2f8-d7bb3c01a951",
   "metadata": {},
   "source": [
    "#### 5.1.1. Pearson correlation"
   ]
  },
  {
   "cell_type": "markdown",
   "id": "db069360-58db-4b4c-8855-9b3c98727a3e",
   "metadata": {},
   "source": [
    "Calculate the **Pearson correlation coefficient** between the daily returns of the S&P 500 and Bitcoin. This will give us a measure of the linear relationship between the two assets. A correlation close to 1 means they move together, while a correlation close to -1 means they move in opposite directions."
   ]
  },
  {
   "cell_type": "code",
   "execution_count": 38,
   "id": "23b2e9ce-eef3-4804-8ff0-8f47ce4f1afd",
   "metadata": {
    "ExecuteTime": {
     "end_time": "2024-08-31T23:40:43.293151Z",
     "start_time": "2024-08-31T23:40:43.282886Z"
    }
   },
   "outputs": [
    {
     "data": {
      "text/html": [
       "<div>\n",
       "<style scoped>\n",
       "    .dataframe tbody tr th:only-of-type {\n",
       "        vertical-align: middle;\n",
       "    }\n",
       "\n",
       "    .dataframe tbody tr th {\n",
       "        vertical-align: top;\n",
       "    }\n",
       "\n",
       "    .dataframe thead th {\n",
       "        text-align: right;\n",
       "    }\n",
       "</style>\n",
       "<table border=\"1\" class=\"dataframe\">\n",
       "  <thead>\n",
       "    <tr style=\"text-align: right;\">\n",
       "      <th></th>\n",
       "      <th>BTC_Return</th>\n",
       "      <th>SP_500_Return</th>\n",
       "    </tr>\n",
       "  </thead>\n",
       "  <tbody>\n",
       "    <tr>\n",
       "      <th>BTC_Return</th>\n",
       "      <td>1.000000</td>\n",
       "      <td>0.338641</td>\n",
       "    </tr>\n",
       "    <tr>\n",
       "      <th>SP_500_Return</th>\n",
       "      <td>0.338641</td>\n",
       "      <td>1.000000</td>\n",
       "    </tr>\n",
       "  </tbody>\n",
       "</table>\n",
       "</div>"
      ],
      "text/plain": [
       "               BTC_Return  SP_500_Return\n",
       "BTC_Return       1.000000       0.338641\n",
       "SP_500_Return    0.338641       1.000000"
      ]
     },
     "execution_count": 38,
     "metadata": {},
     "output_type": "execute_result"
    }
   ],
   "source": [
    "correlation_columns = [\"BTC_Return\", \"SP_500_Return\"]\n",
    "data_tidy[correlation_columns].corr(\"pearson\")"
   ]
  },
  {
   "cell_type": "code",
   "execution_count": 39,
   "id": "1e5dc771-8fcb-431d-b852-630924dc0605",
   "metadata": {
    "ExecuteTime": {
     "end_time": "2024-08-31T23:40:43.674852Z",
     "start_time": "2024-08-31T23:40:43.411207Z"
    }
   },
   "outputs": [
    {
     "data": {
      "image/png": "[encoded data removed]",
      "text/plain": [
       "<Figure size 640x480 with 2 Axes>"
      ]
     },
     "metadata": {},
     "output_type": "display_data"
    }
   ],
   "source": [
    "# Create a heatmap with the Pearson correlation\n",
    "sns.heatmap(data_tidy[correlation_columns].corr(\"pearson\"), annot = True,  cmap = plt.cm.rainbow)\n",
    "plt.show()"
   ]
  },
  {
   "cell_type": "code",
   "execution_count": 40,
   "id": "ccd26185-81f6-4098-86a2-d42ecc3a786c",
   "metadata": {
    "ExecuteTime": {
     "end_time": "2024-08-31T23:40:43.912395Z",
     "start_time": "2024-08-31T23:40:43.898993Z"
    }
   },
   "outputs": [
    {
     "data": {
      "text/html": [
       "<div>\n",
       "<style scoped>\n",
       "    .dataframe tbody tr th:only-of-type {\n",
       "        vertical-align: middle;\n",
       "    }\n",
       "\n",
       "    .dataframe tbody tr th {\n",
       "        vertical-align: top;\n",
       "    }\n",
       "\n",
       "    .dataframe thead th {\n",
       "        text-align: right;\n",
       "    }\n",
       "</style>\n",
       "<table border=\"1\" class=\"dataframe\">\n",
       "  <thead>\n",
       "    <tr style=\"text-align: right;\">\n",
       "      <th></th>\n",
       "      <th>BTC_Return</th>\n",
       "      <th>SP_500_Return</th>\n",
       "    </tr>\n",
       "  </thead>\n",
       "  <tbody>\n",
       "    <tr>\n",
       "      <th>BTC_Return</th>\n",
       "      <td>1.000000</td>\n",
       "      <td>0.249354</td>\n",
       "    </tr>\n",
       "    <tr>\n",
       "      <th>SP_500_Return</th>\n",
       "      <td>0.249354</td>\n",
       "      <td>1.000000</td>\n",
       "    </tr>\n",
       "  </tbody>\n",
       "</table>\n",
       "</div>"
      ],
      "text/plain": [
       "               BTC_Return  SP_500_Return\n",
       "BTC_Return       1.000000       0.249354\n",
       "SP_500_Return    0.249354       1.000000"
      ]
     },
     "execution_count": 40,
     "metadata": {},
     "output_type": "execute_result"
    }
   ],
   "source": [
    "# Using another correlation coefficient - Spearman rank correlation\n",
    "data_tidy[correlation_columns].corr(\"spearman\")"
   ]
  },
  {
   "cell_type": "code",
   "execution_count": 41,
   "id": "6924efd5-0a40-4124-93b3-914dbe4eb421",
   "metadata": {
    "ExecuteTime": {
     "end_time": "2024-08-31T23:40:44.208957Z",
     "start_time": "2024-08-31T23:40:44.192128Z"
    }
   },
   "outputs": [
    {
     "data": {
      "text/html": [
       "<div>\n",
       "<style scoped>\n",
       "    .dataframe tbody tr th:only-of-type {\n",
       "        vertical-align: middle;\n",
       "    }\n",
       "\n",
       "    .dataframe tbody tr th {\n",
       "        vertical-align: top;\n",
       "    }\n",
       "\n",
       "    .dataframe thead th {\n",
       "        text-align: right;\n",
       "    }\n",
       "</style>\n",
       "<table border=\"1\" class=\"dataframe\">\n",
       "  <thead>\n",
       "    <tr style=\"text-align: right;\">\n",
       "      <th></th>\n",
       "      <th>BTC_Return</th>\n",
       "      <th>SP_500_Return</th>\n",
       "    </tr>\n",
       "  </thead>\n",
       "  <tbody>\n",
       "    <tr>\n",
       "      <th>BTC_Return</th>\n",
       "      <td>1.000000</td>\n",
       "      <td>0.177012</td>\n",
       "    </tr>\n",
       "    <tr>\n",
       "      <th>SP_500_Return</th>\n",
       "      <td>0.177012</td>\n",
       "      <td>1.000000</td>\n",
       "    </tr>\n",
       "  </tbody>\n",
       "</table>\n",
       "</div>"
      ],
      "text/plain": [
       "               BTC_Return  SP_500_Return\n",
       "BTC_Return       1.000000       0.177012\n",
       "SP_500_Return    0.177012       1.000000"
      ]
     },
     "execution_count": 41,
     "metadata": {},
     "output_type": "execute_result"
    }
   ],
   "source": [
    "# Using Kendall Tau correlation coefficient \n",
    "data_tidy[correlation_columns].corr(\"kendall\")"
   ]
  },
  {
   "cell_type": "markdown",
   "id": "407201cf-b56f-485d-850a-b0c48d7d1cc7",
   "metadata": {},
   "source": [
    "#### 5.1.2. Rolling Correlation over 90-Day Window"
   ]
  },
  {
   "cell_type": "markdown",
   "id": "85275346-f75e-48f5-af14-a03f8c167d05",
   "metadata": {},
   "source": [
    "A **90-day rolling correlation** is a statistical measure that calculates the correlation between two time series over a moving window of 90 days. This means that for each day in the data series, the correlation between the two time series is calculated using the data from the previous 90 days. The result is a time series of correlation values that shows how the relationship between the two variables changes over time."
   ]
  },
  {
   "cell_type": "markdown",
   "id": "c11da193f97624c",
   "metadata": {
    "collapsed": false,
    "jupyter": {
     "outputs_hidden": false
    }
   },
   "source": [
    "##### Why Use Rolling Correlation?\n",
    "\n",
    "- **Dynamic Relationships**:\n",
    "    >-  Rolling correlation helps to understand how the relationship between two assets changes over time. For instance, the correlation between Bitcoin and the S&P_500 index may vary due to market conditions, economic events, or changes in investor behavior.\n",
    "\n",
    "- **Risk Management**:\n",
    "    >- Investors and analysts use rolling correlations to monitor and manage the risk in a portfolio. By observing how correlations evolve, they can adjust their strategies to maintain desired levels of diversification or hedge against risks."
   ]
  },
  {
   "cell_type": "markdown",
   "id": "2ace676fb9386e61",
   "metadata": {
    "collapsed": false,
    "jupyter": {
     "outputs_hidden": false
    }
   },
   "source": [
    "##### Key Concepts:\n",
    "\n",
    "- **Rolling Window**:\n",
    "    >- The rolling window is a fixed period (in this case, 90 days) that \"rolls\" or moves through the dataset day by day. For each point in time, the correlation is calculated using only the data within the current window.\n",
    "\n",
    "- **90-Day Window**:\n",
    "    >- This specific window size means that at each point in time, the correlation is calculated based on the most recent 90 days of data. For example, on January 1st, 2024, the 90-day rolling correlation would be calculated using data from October 3rd, 2023, to January 1st, 2024.\n",
    "\n",
    "- **Correlation**:\n",
    "    >- **High Positive Correlation**: If the correlation is close to +1, BTC and S&P_500 have been moving in the same direction over the past 90 days.\n",
    "    >- **High Negative Correlation**: If the correlation is close to -1, BTC and S&P_500 have been moving in opposite directions.\n",
    "    >- **Fluctuating Correlation**: The rolling correlation might fluctuate, indicating that the relationship between the two assets is not stable over time.\n",
    "\n",
    "\n",
    "This approach is particularly useful for analyzing financial markets, where relationships between assets can change due to a wide range of factors."
   ]
  },
  {
   "cell_type": "markdown",
   "id": "7d449223-7e50-4e2b-9111-c26b7c1af619",
   "metadata": {},
   "source": [
    "##### Calculate the 90-Day Rolling Correlation"
   ]
  },
  {
   "cell_type": "markdown",
   "id": "ae8945ff-6ff5-4561-9c86-23633fbf68dc",
   "metadata": {},
   "source": [
    "The **Rolling Correlation** will show how the correlation between Bitcoin and the S&P_500 index evolves over time. A positive correlation means that the assets tend to move in the same direction, while a negative correlation means they move in opposite directions.\n"
   ]
  },
  {
   "cell_type": "code",
   "execution_count": 42,
   "id": "1aa47079-703d-485e-83c7-5e56387c5b5e",
   "metadata": {
    "ExecuteTime": {
     "end_time": "2024-08-31T23:40:45.024266Z",
     "start_time": "2024-08-31T23:40:45.015402Z"
    }
   },
   "outputs": [],
   "source": [
    "data_tidy[\"Rolling_Correlation_BTC_SP_500\"] = data_tidy.BTC_Return.rolling(window=90).corr(data_tidy.SP_500_Return)"
   ]
  },
  {
   "cell_type": "code",
   "execution_count": 43,
   "id": "eb758bd5-b5ce-490c-9ff7-0e7d63be729d",
   "metadata": {
    "ExecuteTime": {
     "end_time": "2024-08-31T23:40:45.857147Z",
     "start_time": "2024-08-31T23:40:45.247017Z"
    }
   },
   "outputs": [
    {
     "data": {
      "image/png": "[encoded data removed]",
      "text/plain": [
       "<Figure size 1400x700 with 1 Axes>"
      ]
     },
     "metadata": {},
     "output_type": "display_data"
    }
   ],
   "source": [
    "dates = data_tidy.Date\n",
    "prices_normalized_btc = data_tidy.Rolling_Correlation_BTC_SP_500\n",
    "title_btc = '90-Day Rolling Correlation BTC and S&P_500'\n",
    "\n",
    "labels = ['Date', 'Correlation Coefficient']\n",
    "\n",
    "plot_market_data(dates, prices_normalized_btc, labels, title_btc)"
   ]
  },
  {
   "cell_type": "markdown",
   "id": "ffb926a9-b261-4741-bbf8-fe4a0489c4d6",
   "metadata": {},
   "source": [
    "**TODO** - Interpretation of Results"
   ]
  },
  {
   "cell_type": "markdown",
   "id": "a7dec0f3-8edd-4155-96aa-6795e0c787c8",
   "metadata": {},
   "source": [
    "**Fluctuating Correlations**\n",
    "\n",
    "Both correlations fluctuate over time, indicating periods of varying relationship strength between BTC and the stock indices. Significant fluctuations suggest that this relationship is unstable and may be influenced by many factors."
   ]
  },
  {
   "cell_type": "markdown",
   "id": "b0273fda-7282-4bb5-94ef-81c33b6835ef",
   "metadata": {},
   "source": [
    "**Periods of Positive and Negative Correlation**\n",
    "\n",
    "There are periods where both correlations are positive, suggesting that BTC and the stock indices move in the same direction during those times. A notable period of positive correlation occurs from late 2021 to early 2022, potentially reflecting similar market sentiments driving both BTC and stocks. The correlation was largely negative from 2020 to mid-2021, indicating that stocks and Bitcoin moved in opposite directions."
   ]
  },
  {
   "cell_type": "markdown",
   "id": "324cb628-25b9-4086-b4f5-f5b49d3e12ee",
   "metadata": {},
   "source": [
    "Volatility Insight: This analysis can provide insights into the changing relationship between traditional financial markets (represented by NASDAQ) and cryptocurrencies (represented by Bitcoin)."
   ]
  },
  {
   "cell_type": "markdown",
   "id": "6215db78-0ae4-4950-a924-a9ee7c5c45be",
   "metadata": {},
   "source": [
    "## References"
   ]
  },
  {
   "cell_type": "markdown",
   "id": "a9d3d7dc-d29a-4cdf-8422-d2591ce45274",
   "metadata": {},
   "source": [
    "[1] Kejriwal, S. (2024, July 5). Bitcoin and stock market correlation: An empirical study. Coin Bureau. https://coinbureau.com/analysis/bitcoin-and-stock-market-correlation/"
   ]
  },
  {
   "cell_type": "markdown",
   "id": "d04c428e-86d4-412c-8d8a-2f7136cbf104",
   "metadata": {},
   "source": [
    "[2] Ashford, K. (2024, May 21). What is bitcoin and how does it work? Forbes Advisor. https://www.forbes.com/advisor/investing/cryptocurrency/what-is-bitcoin/"
   ]
  },
  {
   "cell_type": "markdown",
   "id": "5b7ef654-2b71-4beb-94db-03cd839fc058",
   "metadata": {},
   "source": [
    "[3] Kenton, W. (2024, June 12). S&P 500 Index: What It’s for and Why It’s Important in Investing. Investopedia. https://www.investopedia.com/terms/s/sp500.asp"
   ]
  },
  {
   "cell_type": "markdown",
   "id": "e6689e2f-0570-4ae8-9ec8-7735a76b5d6b",
   "metadata": {},
   "source": [
    "[4] Yahoo is part of the Yahoo family of brands. (n.d.-d). https://finance.yahoo.com/quote/GC%3DF/history/?period1=1566763869&period2=1724616667"
   ]
  },
  {
   "cell_type": "markdown",
   "id": "b06eaa10-da0d-4064-ba66-fdf58bc2ecfb",
   "metadata": {},
   "source": [
    "[5] Yahoo is part of the Yahoo family of brands. (n.d.-c). https://finance.yahoo.com/quote/GC%3DF/history/?period1=1566763767&period2=1724616565"
   ]
  },
  {
   "cell_type": "markdown",
   "id": "90020a34-738a-4bdf-9723-e1f2f1256d42",
   "metadata": {},
   "source": [
    "[6] Yahoo is part of the Yahoo family of brands. (n.d.-e). https://finance.yahoo.com/quote/%5EIXIC/history/?period1=1566763946&period2=1724616740"
   ]
  },
  {
   "cell_type": "code",
   "execution_count": null,
   "id": "a65e9e22-9080-479e-b5ba-2091f5c20153",
   "metadata": {
    "ExecuteTime": {
     "end_time": "2024-08-31T23:40:45.936035Z",
     "start_time": "2024-08-31T23:40:45.930752Z"
    }
   },
   "outputs": [],
   "source": []
  }
 ],
 "metadata": {
  "kernelspec": {
   "display_name": "Python 3 (ipykernel)",
   "language": "python",
   "name": "python3"
  },
  "language_info": {
   "codemirror_mode": {
    "name": "ipython",
    "version": 3
   },
   "file_extension": ".py",
   "mimetype": "text/x-python",
   "name": "python",
   "nbconvert_exporter": "python",
   "pygments_lexer": "ipython3",
   "version": "3.11.9"
  }
 },
 "nbformat": 4,
 "nbformat_minor": 5
}
