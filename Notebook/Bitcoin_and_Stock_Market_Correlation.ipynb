{
 "cells": [
  {
   "cell_type": "code",
   "execution_count": 1,
   "id": "dc18a6be-6cde-47a9-9956-0ae025acabd5",
   "metadata": {},
   "outputs": [],
   "source": [
    "import numpy as np\n",
    "import pandas as pd\n",
    "import matplotlib.pyplot as plt\n",
    "import seaborn as sns\n",
    "\n",
    "from sklearn.linear_model import LinearRegression, LogisticRegression"
   ]
  },
  {
   "cell_type": "markdown",
   "id": "a44ac09a-56bd-4357-8f15-162983f4049f",
   "metadata": {},
   "source": [
    "# Bitcoin and Stock Market Correlation"
   ]
  },
  {
   "cell_type": "code",
   "execution_count": null,
   "id": "530229cc-6318-4a53-9a4a-512cbc512627",
   "metadata": {},
   "outputs": [],
   "source": []
  },
  {
   "cell_type": "markdown",
   "id": "c90bad9a-a9c8-4b2f-aeb9-c0edb460ce68",
   "metadata": {},
   "source": [
    "## How to compare the cost movement between s&p 500 and bitcoin?"
   ]
  },
  {
   "cell_type": "markdown",
   "id": "e3334899-2e52-4e42-8499-10b5f6ed7855",
   "metadata": {},
   "source": [
    "Comparing the cost movement between the S&P 500 and Bitcoin involves analyzing their price changes over time to see how they relate to each other. Here's how you can approach this comparison:\n",
    "\n",
    "### 1. **Collect Data**\n",
    "   - **S&P 500**: Obtain historical price data for the S&P 500 index, typically in the form of daily closing prices.\n",
    "   - **Bitcoin**: Obtain historical price data for Bitcoin, also in daily closing prices.\n",
    "\n",
    "### 2. **Align Time Periods**\n",
    "   - Ensure that the data for both assets covers the same time period and is on the same frequency (e.g., daily prices). Align the dates so that each row in your data corresponds to the same day for both the S&P 500 and Bitcoin.\n",
    "\n",
    "### 3. **Normalize Prices**\n",
    "   - Since the S&P 500 and Bitcoin have vastly different price levels, it's helpful to normalize their prices. You can do this by converting prices to returns or by indexing both to 100 at the start of your chosen time period.\n",
    "   - **Returns Calculation**: Calculate the daily return for each asset as:\n",
    "     \\[\n",
    "     \\text{Return}_t = \\frac{\\text{Price}_t - \\text{Price}_{t-1}}{\\text{Price}_{t-1}}\n",
    "     \\]\n",
    "   - **Indexing**: Set the initial price of both assets to 100 and then calculate the subsequent prices based on their daily returns.\n",
    "\n",
    "### 4. **Visualize the Data**\n",
    "   - **Line Chart**: Plot the normalized prices or returns over time on the same chart to visually compare their movements.\n",
    "   - **Scatter Plot**: Plot the returns of Bitcoin against the returns of the S&P 500 to see if there's any correlation.\n",
    "\n",
    "### 5. **Statistical Analysis**\n",
    "   - **Correlation**: Calculate the Pearson correlation coefficient between the daily returns of the S&P 500 and Bitcoin. This will give you a measure of the linear relationship between the two assets. A correlation close to 1 means they move together, while a correlation close to -1 means they move in opposite directions.\n",
    "   - **Volatility Comparison**: Analyze and compare the volatility (standard deviation of returns) of both assets to understand their risk levels.\n",
    "   - **Beta**: Calculate Bitcoin's beta with respect to the S&P 500 to see how sensitive Bitcoin is to movements in the S&P 500.\n",
    "\n",
    "### 6. **Interpret the Results**\n",
    "   - **Correlation Interpretation**: If the correlation is high, it indicates that Bitcoin and the S&P 500 have been moving similarly. A low or negative correlation suggests they move independently or inversely.\n",
    "   - **Risk Comparison**: Higher volatility in Bitcoin might indicate higher risk compared to the S&P 500.\n",
    "   - **Trends and Patterns**: Look for periods where the relationship between the two assets changes, such as during market crashes or bull runs.\n",
    "\n",
    "### 7. **Advanced Techniques (Optional)**\n",
    "   - **Rolling Correlation**: Calculate the correlation over a rolling window (e.g., 30 days) to see how the relationship between Bitcoin and the S&P 500 evolves over time.\n",
    "   - **Cointegration Analysis**: If you're interested in the long-term relationship, you could perform a cointegration test to see if there's a stable, long-term equilibrium between the two.\n",
    "\n",
    "By following these steps, you'll be able to compare the cost movement between the S&P 500 and Bitcoin, providing insights into how these two different assets interact with each other in the financial markets."
   ]
  },
  {
   "cell_type": "markdown",
   "id": "eb0c0e1d-0d22-45ab-9f44-1841e5e49c91",
   "metadata": {},
   "source": [
    "### 8. Links\n",
    "\n",
    "https://coinbureau.com/analysis/bitcoin-and-stock-market-correlation/\n",
    "\n",
    "https://www.google.com/search?q=s%26p+500+bitcoin+correlation&oq=s%26p+500+bitcoin+&gs_lcrp=EgZjaHJvbWUqBwgBEAAYgAQyCggAEEUYFhgeGDkyBwgBEAAYgAQyBwgCEAAYgAQyCAgDEAAYFhgeMggIBBAAGBYYHjIICAUQABgWGB4yCAgGEAAYFhgeMggIBxAAGBYYHjIICAgQABgWGB4yCAgJEAAYFhge0gEJMjA3MzVqMGoxqAIAsAIA&sourceid=chrome&ie=UTF-8\n",
    "\n"
   ]
  },
  {
   "cell_type": "markdown",
   "id": "60e91762-3276-412f-8fe2-df998f166ad8",
   "metadata": {},
   "source": [
    "## 1. Introduction"
   ]
  },
  {
   "cell_type": "markdown",
   "id": "6b79f3ab-d75a-43f8-bff7-f72df8dd4fb6",
   "metadata": {},
   "source": [
    "Traders analyze the movements of financial instruments to gauge market sentiment and predict trends, operating under the belief that certain assets are correlated. Understanding the correlation between two assets provides valuable insights.\n",
    "\n",
    "Both Bitcoin and stocks are speculative assets, often traded based on price speculation rather than intrinsic value. This similarity implies that stock movements may reflect the market's risk appetite, potentially allowing predictions about Bitcoin's behavior. Investors willing to take on more risk may invest in these speculative assets.\n",
    "\n",
    "This analysis evaluates the correlation between stocks and Bitcoin, examining their historical interactions and the impact of macroeconomic factors such as inflation and interest rates. The goal is to determine whether stock market movements can predict Bitcoin's price behavior."
   ]
  },
  {
   "cell_type": "markdown",
   "id": "797d6384-dbbb-4f25-aafd-3c195494aeac",
   "metadata": {},
   "source": [
    "### 1.1. What is Bitcoin?"
   ]
  },
  {
   "cell_type": "markdown",
   "id": "07d05522-4d5b-433c-8451-806cebcaef18",
   "metadata": {},
   "source": [
    "**Bitcoin** is a decentralized digital currency that you can buy, sell and exchange directly, without an intermediary like a bank. Bitcoin’s creator, Satoshi Nakamoto, originally described the need for “an electronic payment system based on cryptographic proof instead of trust.”\n",
    "\n",
    "Every Bitcoin transaction that’s ever been made exists on a public ledger accessible to everyone, making transactions hard to reverse and difficult to fake. That’s by design: Core to their decentralized nature, Bitcoins aren’t backed by the government or any issuing institution, and there’s nothing to guarantee their value besides the proof baked in the heart of the system [2]."
   ]
  },
  {
   "cell_type": "markdown",
   "id": "7b02da03-8ff5-4345-bdaa-0fccbab1ac67",
   "metadata": {},
   "source": [
    "### 1.2. What Is the S&P 500 Index?"
   ]
  },
  {
   "cell_type": "markdown",
   "id": "04bb7ef7-4501-4f01-b3e7-23e42e087e58",
   "metadata": {},
   "source": [
    "The **S&P 500 Index** or **Standard & Poor's 500 Index** is a market-capitalization-weighted index of 500 leading publicly traded companies in the U.S. The index includes 503 components because three have two share classes listed.\n",
    "\n",
    "It's not an exact list of the top 500 U.S. companies by market cap because the index includes other criteria. The S&P 500 index is nonetheless regarded as one of the best gauges of prominent American equities' performance and the stock market overall [3]."
   ]
  },
  {
   "cell_type": "markdown",
   "id": "9e5afca3-c396-46bd-936e-c1efbc7a6ea5",
   "metadata": {},
   "source": [
    "## 2. Methodology and Research Design"
   ]
  },
  {
   "cell_type": "markdown",
   "id": "1169cef5-06f0-477c-ad77-3e41809ad37e",
   "metadata": {},
   "source": [
    "This study uses a quantitative research design to analyze the relationship between **Bitcoin** prices and the **stock market** over the **past five years** with the **S&P 500 Index** serving as a proxy for the stock market.\n",
    "\n",
    "**TODO: maybe a little bit more about the Methodology and Research Design**"
   ]
  },
  {
   "cell_type": "markdown",
   "id": "17c110c2-16ce-437c-aa77-e546d54fc98d",
   "metadata": {},
   "source": [
    "## 3. Data Acquisition\n",
    "\n",
    "Data were collected from the following sources:\n",
    "\n",
    "- Bitcoin Prices: Bitcoin's daily closing prices were obtained from [finance.yahoo.com](https://finance.yahoo.com/quote/BTC-USD/history/).\n",
    "- S&P 500 Index: Daily index values were obtained from [finance.yahoo.com](https://finance.yahoo.com/quote/%5EGSPC/history/).\n",
    "\n",
    "The study period spans **five years**, from August 2019 to August 2024."
   ]
  },
  {
   "cell_type": "markdown",
   "id": "88cec197-9945-4190-9da0-3e02ce3dd436",
   "metadata": {},
   "source": [
    "## 4. Data Processing"
   ]
  },
  {
   "cell_type": "markdown",
   "id": "4a223940-5bd6-4c18-94bf-0da9ec2c7bae",
   "metadata": {},
   "source": [
    "## 4.1. Read Data"
   ]
  },
  {
   "cell_type": "markdown",
   "id": "d6428453-d739-45c3-957c-97aa0a430fe5",
   "metadata": {},
   "source": [
    "### 4.1.1. Read Bitcoin price movement data for the last 5 years"
   ]
  },
  {
   "cell_type": "code",
   "execution_count": 2,
   "id": "e16e2a11-b921-498b-80e0-cc015e761fea",
   "metadata": {},
   "outputs": [
    {
     "data": {
      "text/html": [
       "<div>\n",
       "<style scoped>\n",
       "    .dataframe tbody tr th:only-of-type {\n",
       "        vertical-align: middle;\n",
       "    }\n",
       "\n",
       "    .dataframe tbody tr th {\n",
       "        vertical-align: top;\n",
       "    }\n",
       "\n",
       "    .dataframe thead th {\n",
       "        text-align: right;\n",
       "    }\n",
       "</style>\n",
       "<table border=\"1\" class=\"dataframe\">\n",
       "  <thead>\n",
       "    <tr style=\"text-align: right;\">\n",
       "      <th></th>\n",
       "      <th>Date</th>\n",
       "      <th>Open</th>\n",
       "      <th>High</th>\n",
       "      <th>Low</th>\n",
       "      <th>Close</th>\n",
       "      <th>Adj Close</th>\n",
       "      <th>Volume</th>\n",
       "    </tr>\n",
       "  </thead>\n",
       "  <tbody>\n",
       "    <tr>\n",
       "      <th>0</th>\n",
       "      <td>2019-08-26</td>\n",
       "      <td>10126.299805</td>\n",
       "      <td>10512.328125</td>\n",
       "      <td>10126.299805</td>\n",
       "      <td>10370.820313</td>\n",
       "      <td>10370.820313</td>\n",
       "      <td>18438654080</td>\n",
       "    </tr>\n",
       "    <tr>\n",
       "      <th>1</th>\n",
       "      <td>2019-08-27</td>\n",
       "      <td>10372.826172</td>\n",
       "      <td>10381.328125</td>\n",
       "      <td>10087.300781</td>\n",
       "      <td>10185.500000</td>\n",
       "      <td>10185.500000</td>\n",
       "      <td>14762609503</td>\n",
       "    </tr>\n",
       "    <tr>\n",
       "      <th>2</th>\n",
       "      <td>2019-08-28</td>\n",
       "      <td>10203.426758</td>\n",
       "      <td>10279.366211</td>\n",
       "      <td>9716.656250</td>\n",
       "      <td>9754.422852</td>\n",
       "      <td>9754.422852</td>\n",
       "      <td>17603790323</td>\n",
       "    </tr>\n",
       "    <tr>\n",
       "      <th>3</th>\n",
       "      <td>2019-08-29</td>\n",
       "      <td>9756.786133</td>\n",
       "      <td>9756.786133</td>\n",
       "      <td>9421.629883</td>\n",
       "      <td>9510.200195</td>\n",
       "      <td>9510.200195</td>\n",
       "      <td>17045878501</td>\n",
       "    </tr>\n",
       "    <tr>\n",
       "      <th>4</th>\n",
       "      <td>2019-08-30</td>\n",
       "      <td>9514.844727</td>\n",
       "      <td>9656.124023</td>\n",
       "      <td>9428.302734</td>\n",
       "      <td>9598.173828</td>\n",
       "      <td>9598.173828</td>\n",
       "      <td>13595263986</td>\n",
       "    </tr>\n",
       "    <tr>\n",
       "      <th>...</th>\n",
       "      <td>...</td>\n",
       "      <td>...</td>\n",
       "      <td>...</td>\n",
       "      <td>...</td>\n",
       "      <td>...</td>\n",
       "      <td>...</td>\n",
       "      <td>...</td>\n",
       "    </tr>\n",
       "    <tr>\n",
       "      <th>1820</th>\n",
       "      <td>2024-08-19</td>\n",
       "      <td>58480.710938</td>\n",
       "      <td>59612.660156</td>\n",
       "      <td>57864.710938</td>\n",
       "      <td>59493.453125</td>\n",
       "      <td>59493.453125</td>\n",
       "      <td>25911207712</td>\n",
       "    </tr>\n",
       "    <tr>\n",
       "      <th>1821</th>\n",
       "      <td>2024-08-20</td>\n",
       "      <td>59493.453125</td>\n",
       "      <td>61396.328125</td>\n",
       "      <td>58610.882813</td>\n",
       "      <td>59012.792969</td>\n",
       "      <td>59012.792969</td>\n",
       "      <td>31613400008</td>\n",
       "    </tr>\n",
       "    <tr>\n",
       "      <th>1822</th>\n",
       "      <td>2024-08-21</td>\n",
       "      <td>59014.988281</td>\n",
       "      <td>61834.351563</td>\n",
       "      <td>58823.445313</td>\n",
       "      <td>61175.191406</td>\n",
       "      <td>61175.191406</td>\n",
       "      <td>32731154072</td>\n",
       "    </tr>\n",
       "    <tr>\n",
       "      <th>1823</th>\n",
       "      <td>2024-08-22</td>\n",
       "      <td>61168.316406</td>\n",
       "      <td>61408.109375</td>\n",
       "      <td>59815.253906</td>\n",
       "      <td>60381.914063</td>\n",
       "      <td>60381.914063</td>\n",
       "      <td>27625734377</td>\n",
       "    </tr>\n",
       "    <tr>\n",
       "      <th>1824</th>\n",
       "      <td>2024-08-23</td>\n",
       "      <td>60380.953125</td>\n",
       "      <td>64947.062500</td>\n",
       "      <td>60372.050781</td>\n",
       "      <td>64094.355469</td>\n",
       "      <td>64094.355469</td>\n",
       "      <td>42530509233</td>\n",
       "    </tr>\n",
       "  </tbody>\n",
       "</table>\n",
       "<p>1825 rows × 7 columns</p>\n",
       "</div>"
      ],
      "text/plain": [
       "            Date          Open          High           Low         Close  \\\n",
       "0     2019-08-26  10126.299805  10512.328125  10126.299805  10370.820313   \n",
       "1     2019-08-27  10372.826172  10381.328125  10087.300781  10185.500000   \n",
       "2     2019-08-28  10203.426758  10279.366211   9716.656250   9754.422852   \n",
       "3     2019-08-29   9756.786133   9756.786133   9421.629883   9510.200195   \n",
       "4     2019-08-30   9514.844727   9656.124023   9428.302734   9598.173828   \n",
       "...          ...           ...           ...           ...           ...   \n",
       "1820  2024-08-19  58480.710938  59612.660156  57864.710938  59493.453125   \n",
       "1821  2024-08-20  59493.453125  61396.328125  58610.882813  59012.792969   \n",
       "1822  2024-08-21  59014.988281  61834.351563  58823.445313  61175.191406   \n",
       "1823  2024-08-22  61168.316406  61408.109375  59815.253906  60381.914063   \n",
       "1824  2024-08-23  60380.953125  64947.062500  60372.050781  64094.355469   \n",
       "\n",
       "         Adj Close       Volume  \n",
       "0     10370.820313  18438654080  \n",
       "1     10185.500000  14762609503  \n",
       "2      9754.422852  17603790323  \n",
       "3      9510.200195  17045878501  \n",
       "4      9598.173828  13595263986  \n",
       "...            ...          ...  \n",
       "1820  59493.453125  25911207712  \n",
       "1821  59012.792969  31613400008  \n",
       "1822  61175.191406  32731154072  \n",
       "1823  60381.914063  27625734377  \n",
       "1824  64094.355469  42530509233  \n",
       "\n",
       "[1825 rows x 7 columns]"
      ]
     },
     "execution_count": 2,
     "metadata": {},
     "output_type": "execute_result"
    }
   ],
   "source": [
    "btc_price_data = pd.read_csv(\"data/btc_usd/BTC-USD-5-Years.csv\")\n",
    "btc_price_data"
   ]
  },
  {
   "cell_type": "code",
   "execution_count": 3,
   "id": "7effc1a0-d191-475c-8b84-17de4a03d4c1",
   "metadata": {},
   "outputs": [
    {
     "data": {
      "text/html": [
       "<div>\n",
       "<style scoped>\n",
       "    .dataframe tbody tr th:only-of-type {\n",
       "        vertical-align: middle;\n",
       "    }\n",
       "\n",
       "    .dataframe tbody tr th {\n",
       "        vertical-align: top;\n",
       "    }\n",
       "\n",
       "    .dataframe thead th {\n",
       "        text-align: right;\n",
       "    }\n",
       "</style>\n",
       "<table border=\"1\" class=\"dataframe\">\n",
       "  <thead>\n",
       "    <tr style=\"text-align: right;\">\n",
       "      <th></th>\n",
       "      <th>count</th>\n",
       "      <th>mean</th>\n",
       "      <th>std</th>\n",
       "      <th>min</th>\n",
       "      <th>25%</th>\n",
       "      <th>50%</th>\n",
       "      <th>75%</th>\n",
       "      <th>max</th>\n",
       "    </tr>\n",
       "  </thead>\n",
       "  <tbody>\n",
       "    <tr>\n",
       "      <th>Open</th>\n",
       "      <td>1825.0</td>\n",
       "      <td>3.146285e+04</td>\n",
       "      <td>1.847850e+04</td>\n",
       "      <td>5.002578e+03</td>\n",
       "      <td>1.644179e+04</td>\n",
       "      <td>2.862262e+04</td>\n",
       "      <td>4.419298e+04</td>\n",
       "      <td>7.307938e+04</td>\n",
       "    </tr>\n",
       "    <tr>\n",
       "      <th>High</th>\n",
       "      <td>1825.0</td>\n",
       "      <td>3.216063e+04</td>\n",
       "      <td>1.891376e+04</td>\n",
       "      <td>5.331834e+03</td>\n",
       "      <td>1.663819e+04</td>\n",
       "      <td>2.916082e+04</td>\n",
       "      <td>4.550324e+04</td>\n",
       "      <td>7.375007e+04</td>\n",
       "    </tr>\n",
       "    <tr>\n",
       "      <th>Low</th>\n",
       "      <td>1825.0</td>\n",
       "      <td>3.072027e+04</td>\n",
       "      <td>1.799283e+04</td>\n",
       "      <td>4.106981e+03</td>\n",
       "      <td>1.617050e+04</td>\n",
       "      <td>2.817799e+04</td>\n",
       "      <td>4.332002e+04</td>\n",
       "      <td>7.133409e+04</td>\n",
       "    </tr>\n",
       "    <tr>\n",
       "      <th>Close</th>\n",
       "      <td>1825.0</td>\n",
       "      <td>3.149023e+04</td>\n",
       "      <td>1.848509e+04</td>\n",
       "      <td>4.970788e+03</td>\n",
       "      <td>1.644498e+04</td>\n",
       "      <td>2.868054e+04</td>\n",
       "      <td>4.431822e+04</td>\n",
       "      <td>7.308350e+04</td>\n",
       "    </tr>\n",
       "    <tr>\n",
       "      <th>Adj Close</th>\n",
       "      <td>1825.0</td>\n",
       "      <td>3.149023e+04</td>\n",
       "      <td>1.848509e+04</td>\n",
       "      <td>4.970788e+03</td>\n",
       "      <td>1.644498e+04</td>\n",
       "      <td>2.868054e+04</td>\n",
       "      <td>4.431822e+04</td>\n",
       "      <td>7.308350e+04</td>\n",
       "    </tr>\n",
       "    <tr>\n",
       "      <th>Volume</th>\n",
       "      <td>1825.0</td>\n",
       "      <td>3.117074e+10</td>\n",
       "      <td>1.792905e+10</td>\n",
       "      <td>5.331173e+09</td>\n",
       "      <td>1.931360e+10</td>\n",
       "      <td>2.784951e+10</td>\n",
       "      <td>3.831860e+10</td>\n",
       "      <td>3.509679e+11</td>\n",
       "    </tr>\n",
       "  </tbody>\n",
       "</table>\n",
       "</div>"
      ],
      "text/plain": [
       "            count          mean           std           min           25%  \\\n",
       "Open       1825.0  3.146285e+04  1.847850e+04  5.002578e+03  1.644179e+04   \n",
       "High       1825.0  3.216063e+04  1.891376e+04  5.331834e+03  1.663819e+04   \n",
       "Low        1825.0  3.072027e+04  1.799283e+04  4.106981e+03  1.617050e+04   \n",
       "Close      1825.0  3.149023e+04  1.848509e+04  4.970788e+03  1.644498e+04   \n",
       "Adj Close  1825.0  3.149023e+04  1.848509e+04  4.970788e+03  1.644498e+04   \n",
       "Volume     1825.0  3.117074e+10  1.792905e+10  5.331173e+09  1.931360e+10   \n",
       "\n",
       "                    50%           75%           max  \n",
       "Open       2.862262e+04  4.419298e+04  7.307938e+04  \n",
       "High       2.916082e+04  4.550324e+04  7.375007e+04  \n",
       "Low        2.817799e+04  4.332002e+04  7.133409e+04  \n",
       "Close      2.868054e+04  4.431822e+04  7.308350e+04  \n",
       "Adj Close  2.868054e+04  4.431822e+04  7.308350e+04  \n",
       "Volume     2.784951e+10  3.831860e+10  3.509679e+11  "
      ]
     },
     "execution_count": 3,
     "metadata": {},
     "output_type": "execute_result"
    }
   ],
   "source": [
    "btc_price_data.describe().T"
   ]
  },
  {
   "cell_type": "code",
   "execution_count": 4,
   "id": "24e0fbb1-7214-4c93-904d-7d02d9a837da",
   "metadata": {},
   "outputs": [
    {
     "data": {
      "text/plain": [
       "Date          object\n",
       "Open         float64\n",
       "High         float64\n",
       "Low          float64\n",
       "Close        float64\n",
       "Adj Close    float64\n",
       "Volume         int64\n",
       "dtype: object"
      ]
     },
     "execution_count": 4,
     "metadata": {},
     "output_type": "execute_result"
    }
   ],
   "source": [
    "btc_price_data.dtypes"
   ]
  },
  {
   "cell_type": "code",
   "execution_count": 5,
   "id": "89924d1b-960f-44e7-bb90-fde6df4aba39",
   "metadata": {},
   "outputs": [
    {
     "data": {
      "text/plain": [
       "Date         0\n",
       "Open         0\n",
       "High         0\n",
       "Low          0\n",
       "Close        0\n",
       "Adj Close    0\n",
       "Volume       0\n",
       "dtype: int64"
      ]
     },
     "execution_count": 5,
     "metadata": {},
     "output_type": "execute_result"
    }
   ],
   "source": [
    "btc_price_data.isnull().sum()"
   ]
  },
  {
   "cell_type": "code",
   "execution_count": 6,
   "id": "dc9d00c2-96b0-4ff4-96c4-80b8a89d80cb",
   "metadata": {},
   "outputs": [
    {
     "data": {
      "text/plain": [
       "0       2019-08-26\n",
       "1       2019-08-27\n",
       "2       2019-08-28\n",
       "3       2019-08-29\n",
       "4       2019-08-30\n",
       "           ...    \n",
       "1820    2024-08-19\n",
       "1821    2024-08-20\n",
       "1822    2024-08-21\n",
       "1823    2024-08-22\n",
       "1824    2024-08-23\n",
       "Name: Date, Length: 1825, dtype: object"
      ]
     },
     "execution_count": 6,
     "metadata": {},
     "output_type": "execute_result"
    }
   ],
   "source": [
    "btc_price_data.Date"
   ]
  },
  {
   "cell_type": "markdown",
   "id": "8a7a23f8-b9a6-47ba-b35a-a2d2d9fce052",
   "metadata": {},
   "source": [
    "### 4.1.2. Read S&P 500 price movement data for the last 5 years"
   ]
  },
  {
   "cell_type": "code",
   "execution_count": 7,
   "id": "bbc29c8c-3225-4eda-82a6-6e9048db804b",
   "metadata": {},
   "outputs": [
    {
     "data": {
      "text/html": [
       "<div>\n",
       "<style scoped>\n",
       "    .dataframe tbody tr th:only-of-type {\n",
       "        vertical-align: middle;\n",
       "    }\n",
       "\n",
       "    .dataframe tbody tr th {\n",
       "        vertical-align: top;\n",
       "    }\n",
       "\n",
       "    .dataframe thead th {\n",
       "        text-align: right;\n",
       "    }\n",
       "</style>\n",
       "<table border=\"1\" class=\"dataframe\">\n",
       "  <thead>\n",
       "    <tr style=\"text-align: right;\">\n",
       "      <th></th>\n",
       "      <th>Date</th>\n",
       "      <th>Open</th>\n",
       "      <th>High</th>\n",
       "      <th>Low</th>\n",
       "      <th>Close</th>\n",
       "      <th>Adj Close</th>\n",
       "      <th>Volume</th>\n",
       "    </tr>\n",
       "  </thead>\n",
       "  <tbody>\n",
       "    <tr>\n",
       "      <th>0</th>\n",
       "      <td>2019-08-26</td>\n",
       "      <td>2866.699951</td>\n",
       "      <td>2879.270020</td>\n",
       "      <td>2856.000000</td>\n",
       "      <td>2878.379883</td>\n",
       "      <td>2878.379883</td>\n",
       "      <td>2859790000</td>\n",
       "    </tr>\n",
       "    <tr>\n",
       "      <th>1</th>\n",
       "      <td>2019-08-27</td>\n",
       "      <td>2893.139893</td>\n",
       "      <td>2898.790039</td>\n",
       "      <td>2860.590088</td>\n",
       "      <td>2869.159912</td>\n",
       "      <td>2869.159912</td>\n",
       "      <td>3537490000</td>\n",
       "    </tr>\n",
       "    <tr>\n",
       "      <th>2</th>\n",
       "      <td>2019-08-28</td>\n",
       "      <td>2861.280029</td>\n",
       "      <td>2890.030029</td>\n",
       "      <td>2853.050049</td>\n",
       "      <td>2887.939941</td>\n",
       "      <td>2887.939941</td>\n",
       "      <td>3102480000</td>\n",
       "    </tr>\n",
       "    <tr>\n",
       "      <th>3</th>\n",
       "      <td>2019-08-29</td>\n",
       "      <td>2910.370117</td>\n",
       "      <td>2930.500000</td>\n",
       "      <td>2905.669922</td>\n",
       "      <td>2924.580078</td>\n",
       "      <td>2924.580078</td>\n",
       "      <td>3177150000</td>\n",
       "    </tr>\n",
       "    <tr>\n",
       "      <th>4</th>\n",
       "      <td>2019-08-30</td>\n",
       "      <td>2937.090088</td>\n",
       "      <td>2940.429932</td>\n",
       "      <td>2913.320068</td>\n",
       "      <td>2926.459961</td>\n",
       "      <td>2926.459961</td>\n",
       "      <td>3009910000</td>\n",
       "    </tr>\n",
       "    <tr>\n",
       "      <th>...</th>\n",
       "      <td>...</td>\n",
       "      <td>...</td>\n",
       "      <td>...</td>\n",
       "      <td>...</td>\n",
       "      <td>...</td>\n",
       "      <td>...</td>\n",
       "      <td>...</td>\n",
       "    </tr>\n",
       "    <tr>\n",
       "      <th>1253</th>\n",
       "      <td>2024-08-19</td>\n",
       "      <td>5557.229980</td>\n",
       "      <td>5608.299805</td>\n",
       "      <td>5550.740234</td>\n",
       "      <td>5608.250000</td>\n",
       "      <td>5608.250000</td>\n",
       "      <td>3222050000</td>\n",
       "    </tr>\n",
       "    <tr>\n",
       "      <th>1254</th>\n",
       "      <td>2024-08-20</td>\n",
       "      <td>5602.879883</td>\n",
       "      <td>5620.509766</td>\n",
       "      <td>5585.500000</td>\n",
       "      <td>5597.120117</td>\n",
       "      <td>5597.120117</td>\n",
       "      <td>2994420000</td>\n",
       "    </tr>\n",
       "    <tr>\n",
       "      <th>1255</th>\n",
       "      <td>2024-08-21</td>\n",
       "      <td>5603.089844</td>\n",
       "      <td>5632.680176</td>\n",
       "      <td>5591.569824</td>\n",
       "      <td>5620.850098</td>\n",
       "      <td>5620.850098</td>\n",
       "      <td>3119670000</td>\n",
       "    </tr>\n",
       "    <tr>\n",
       "      <th>1256</th>\n",
       "      <td>2024-08-22</td>\n",
       "      <td>5637.770020</td>\n",
       "      <td>5643.220215</td>\n",
       "      <td>5560.950195</td>\n",
       "      <td>5570.640137</td>\n",
       "      <td>5570.640137</td>\n",
       "      <td>2981530000</td>\n",
       "    </tr>\n",
       "    <tr>\n",
       "      <th>1257</th>\n",
       "      <td>2024-08-23</td>\n",
       "      <td>5602.490234</td>\n",
       "      <td>5641.819824</td>\n",
       "      <td>5585.160156</td>\n",
       "      <td>5634.609863</td>\n",
       "      <td>5634.609863</td>\n",
       "      <td>3291940000</td>\n",
       "    </tr>\n",
       "  </tbody>\n",
       "</table>\n",
       "<p>1258 rows × 7 columns</p>\n",
       "</div>"
      ],
      "text/plain": [
       "            Date         Open         High          Low        Close  \\\n",
       "0     2019-08-26  2866.699951  2879.270020  2856.000000  2878.379883   \n",
       "1     2019-08-27  2893.139893  2898.790039  2860.590088  2869.159912   \n",
       "2     2019-08-28  2861.280029  2890.030029  2853.050049  2887.939941   \n",
       "3     2019-08-29  2910.370117  2930.500000  2905.669922  2924.580078   \n",
       "4     2019-08-30  2937.090088  2940.429932  2913.320068  2926.459961   \n",
       "...          ...          ...          ...          ...          ...   \n",
       "1253  2024-08-19  5557.229980  5608.299805  5550.740234  5608.250000   \n",
       "1254  2024-08-20  5602.879883  5620.509766  5585.500000  5597.120117   \n",
       "1255  2024-08-21  5603.089844  5632.680176  5591.569824  5620.850098   \n",
       "1256  2024-08-22  5637.770020  5643.220215  5560.950195  5570.640137   \n",
       "1257  2024-08-23  5602.490234  5641.819824  5585.160156  5634.609863   \n",
       "\n",
       "        Adj Close      Volume  \n",
       "0     2878.379883  2859790000  \n",
       "1     2869.159912  3537490000  \n",
       "2     2887.939941  3102480000  \n",
       "3     2924.580078  3177150000  \n",
       "4     2926.459961  3009910000  \n",
       "...           ...         ...  \n",
       "1253  5608.250000  3222050000  \n",
       "1254  5597.120117  2994420000  \n",
       "1255  5620.850098  3119670000  \n",
       "1256  5570.640137  2981530000  \n",
       "1257  5634.609863  3291940000  \n",
       "\n",
       "[1258 rows x 7 columns]"
      ]
     },
     "execution_count": 7,
     "metadata": {},
     "output_type": "execute_result"
    }
   ],
   "source": [
    "sp_500_price_data = pd.read_csv(\"data/S_and_P_500-5-Years.csv\")\n",
    "sp_500_price_data"
   ]
  },
  {
   "cell_type": "code",
   "execution_count": 8,
   "id": "027842ce-38b5-4f7c-bd5a-32166f21ed1c",
   "metadata": {},
   "outputs": [
    {
     "data": {
      "text/html": [
       "<div>\n",
       "<style scoped>\n",
       "    .dataframe tbody tr th:only-of-type {\n",
       "        vertical-align: middle;\n",
       "    }\n",
       "\n",
       "    .dataframe tbody tr th {\n",
       "        vertical-align: top;\n",
       "    }\n",
       "\n",
       "    .dataframe thead th {\n",
       "        text-align: right;\n",
       "    }\n",
       "</style>\n",
       "<table border=\"1\" class=\"dataframe\">\n",
       "  <thead>\n",
       "    <tr style=\"text-align: right;\">\n",
       "      <th></th>\n",
       "      <th>count</th>\n",
       "      <th>mean</th>\n",
       "      <th>std</th>\n",
       "      <th>min</th>\n",
       "      <th>25%</th>\n",
       "      <th>50%</th>\n",
       "      <th>75%</th>\n",
       "      <th>max</th>\n",
       "    </tr>\n",
       "  </thead>\n",
       "  <tbody>\n",
       "    <tr>\n",
       "      <th>Open</th>\n",
       "      <td>1258.0</td>\n",
       "      <td>4.062243e+03</td>\n",
       "      <td>6.916520e+02</td>\n",
       "      <td>2.290710e+03</td>\n",
       "      <td>3.591753e+03</td>\n",
       "      <td>4.126600e+03</td>\n",
       "      <td>4.488822e+03</td>\n",
       "      <td>5.644090e+03</td>\n",
       "    </tr>\n",
       "    <tr>\n",
       "      <th>High</th>\n",
       "      <td>1258.0</td>\n",
       "      <td>4.086389e+03</td>\n",
       "      <td>6.912662e+02</td>\n",
       "      <td>2.300730e+03</td>\n",
       "      <td>3.624460e+03</td>\n",
       "      <td>4.148055e+03</td>\n",
       "      <td>4.511990e+03</td>\n",
       "      <td>5.669670e+03</td>\n",
       "    </tr>\n",
       "    <tr>\n",
       "      <th>Low</th>\n",
       "      <td>1258.0</td>\n",
       "      <td>4.036896e+03</td>\n",
       "      <td>6.927430e+02</td>\n",
       "      <td>2.191860e+03</td>\n",
       "      <td>3.567610e+03</td>\n",
       "      <td>4.098855e+03</td>\n",
       "      <td>4.462755e+03</td>\n",
       "      <td>5.639020e+03</td>\n",
       "    </tr>\n",
       "    <tr>\n",
       "      <th>Close</th>\n",
       "      <td>1258.0</td>\n",
       "      <td>4.063164e+03</td>\n",
       "      <td>6.919554e+02</td>\n",
       "      <td>2.237400e+03</td>\n",
       "      <td>3.583590e+03</td>\n",
       "      <td>4.126245e+03</td>\n",
       "      <td>4.486402e+03</td>\n",
       "      <td>5.667200e+03</td>\n",
       "    </tr>\n",
       "    <tr>\n",
       "      <th>Adj Close</th>\n",
       "      <td>1258.0</td>\n",
       "      <td>4.063164e+03</td>\n",
       "      <td>6.919554e+02</td>\n",
       "      <td>2.237400e+03</td>\n",
       "      <td>3.583590e+03</td>\n",
       "      <td>4.126245e+03</td>\n",
       "      <td>4.486402e+03</td>\n",
       "      <td>5.667200e+03</td>\n",
       "    </tr>\n",
       "    <tr>\n",
       "      <th>Volume</th>\n",
       "      <td>1258.0</td>\n",
       "      <td>4.350750e+09</td>\n",
       "      <td>1.051686e+09</td>\n",
       "      <td>1.296530e+09</td>\n",
       "      <td>3.724205e+09</td>\n",
       "      <td>4.082780e+09</td>\n",
       "      <td>4.705292e+09</td>\n",
       "      <td>9.976520e+09</td>\n",
       "    </tr>\n",
       "  </tbody>\n",
       "</table>\n",
       "</div>"
      ],
      "text/plain": [
       "            count          mean           std           min           25%  \\\n",
       "Open       1258.0  4.062243e+03  6.916520e+02  2.290710e+03  3.591753e+03   \n",
       "High       1258.0  4.086389e+03  6.912662e+02  2.300730e+03  3.624460e+03   \n",
       "Low        1258.0  4.036896e+03  6.927430e+02  2.191860e+03  3.567610e+03   \n",
       "Close      1258.0  4.063164e+03  6.919554e+02  2.237400e+03  3.583590e+03   \n",
       "Adj Close  1258.0  4.063164e+03  6.919554e+02  2.237400e+03  3.583590e+03   \n",
       "Volume     1258.0  4.350750e+09  1.051686e+09  1.296530e+09  3.724205e+09   \n",
       "\n",
       "                    50%           75%           max  \n",
       "Open       4.126600e+03  4.488822e+03  5.644090e+03  \n",
       "High       4.148055e+03  4.511990e+03  5.669670e+03  \n",
       "Low        4.098855e+03  4.462755e+03  5.639020e+03  \n",
       "Close      4.126245e+03  4.486402e+03  5.667200e+03  \n",
       "Adj Close  4.126245e+03  4.486402e+03  5.667200e+03  \n",
       "Volume     4.082780e+09  4.705292e+09  9.976520e+09  "
      ]
     },
     "execution_count": 8,
     "metadata": {},
     "output_type": "execute_result"
    }
   ],
   "source": [
    "sp_500_price_data.describe().T"
   ]
  },
  {
   "cell_type": "code",
   "execution_count": 9,
   "id": "b755b111-dde6-48e9-b1c5-eff117c82e7a",
   "metadata": {},
   "outputs": [
    {
     "data": {
      "text/plain": [
       "Date          object\n",
       "Open         float64\n",
       "High         float64\n",
       "Low          float64\n",
       "Close        float64\n",
       "Adj Close    float64\n",
       "Volume         int64\n",
       "dtype: object"
      ]
     },
     "execution_count": 9,
     "metadata": {},
     "output_type": "execute_result"
    }
   ],
   "source": [
    "sp_500_price_data.dtypes"
   ]
  },
  {
   "cell_type": "code",
   "execution_count": 10,
   "id": "71bc8092-fa08-4704-b7fb-ce5e260b9f9f",
   "metadata": {},
   "outputs": [
    {
     "data": {
      "text/plain": [
       "Date         0\n",
       "Open         0\n",
       "High         0\n",
       "Low          0\n",
       "Close        0\n",
       "Adj Close    0\n",
       "Volume       0\n",
       "dtype: int64"
      ]
     },
     "execution_count": 10,
     "metadata": {},
     "output_type": "execute_result"
    }
   ],
   "source": [
    "sp_500_price_data.isnull().sum()"
   ]
  },
  {
   "cell_type": "markdown",
   "id": "d2d6a4d8-32be-4c9d-9041-43ddbed159e4",
   "metadata": {},
   "source": [
    "## 4.2. Exploratory Data Analysis"
   ]
  },
  {
   "cell_type": "markdown",
   "id": "ccc468bf-7d45-4ee1-81dc-46c9b5e27d5a",
   "metadata": {},
   "source": [
    "### 4.2.1. Data-Tidying-and-Cleaning"
   ]
  },
  {
   "cell_type": "markdown",
   "id": "cf435b79-1958-4808-8a62-75cbf0006fb2",
   "metadata": {},
   "source": [
    "For further processing, we only need the **date** and the **closing price** on that day from the two data sets."
   ]
  },
  {
   "cell_type": "markdown",
   "id": "1e3e0224-a644-4c94-a996-51ba9e07c86f",
   "metadata": {},
   "source": [
    "Create new Dataframe only with **Date** and **Close** columns from the **btc_price_data**."
   ]
  },
  {
   "cell_type": "code",
   "execution_count": 11,
   "id": "65bc6b4c-73c4-472b-806b-ec72074af7e1",
   "metadata": {},
   "outputs": [
    {
     "data": {
      "text/html": [
       "<div>\n",
       "<style scoped>\n",
       "    .dataframe tbody tr th:only-of-type {\n",
       "        vertical-align: middle;\n",
       "    }\n",
       "\n",
       "    .dataframe tbody tr th {\n",
       "        vertical-align: top;\n",
       "    }\n",
       "\n",
       "    .dataframe thead th {\n",
       "        text-align: right;\n",
       "    }\n",
       "</style>\n",
       "<table border=\"1\" class=\"dataframe\">\n",
       "  <thead>\n",
       "    <tr style=\"text-align: right;\">\n",
       "      <th></th>\n",
       "      <th>Date</th>\n",
       "      <th>Close</th>\n",
       "    </tr>\n",
       "  </thead>\n",
       "  <tbody>\n",
       "    <tr>\n",
       "      <th>0</th>\n",
       "      <td>2019-08-26</td>\n",
       "      <td>10370.820313</td>\n",
       "    </tr>\n",
       "    <tr>\n",
       "      <th>1</th>\n",
       "      <td>2019-08-27</td>\n",
       "      <td>10185.500000</td>\n",
       "    </tr>\n",
       "    <tr>\n",
       "      <th>2</th>\n",
       "      <td>2019-08-28</td>\n",
       "      <td>9754.422852</td>\n",
       "    </tr>\n",
       "    <tr>\n",
       "      <th>3</th>\n",
       "      <td>2019-08-29</td>\n",
       "      <td>9510.200195</td>\n",
       "    </tr>\n",
       "    <tr>\n",
       "      <th>4</th>\n",
       "      <td>2019-08-30</td>\n",
       "      <td>9598.173828</td>\n",
       "    </tr>\n",
       "    <tr>\n",
       "      <th>...</th>\n",
       "      <td>...</td>\n",
       "      <td>...</td>\n",
       "    </tr>\n",
       "    <tr>\n",
       "      <th>1820</th>\n",
       "      <td>2024-08-19</td>\n",
       "      <td>59493.453125</td>\n",
       "    </tr>\n",
       "    <tr>\n",
       "      <th>1821</th>\n",
       "      <td>2024-08-20</td>\n",
       "      <td>59012.792969</td>\n",
       "    </tr>\n",
       "    <tr>\n",
       "      <th>1822</th>\n",
       "      <td>2024-08-21</td>\n",
       "      <td>61175.191406</td>\n",
       "    </tr>\n",
       "    <tr>\n",
       "      <th>1823</th>\n",
       "      <td>2024-08-22</td>\n",
       "      <td>60381.914063</td>\n",
       "    </tr>\n",
       "    <tr>\n",
       "      <th>1824</th>\n",
       "      <td>2024-08-23</td>\n",
       "      <td>64094.355469</td>\n",
       "    </tr>\n",
       "  </tbody>\n",
       "</table>\n",
       "<p>1825 rows × 2 columns</p>\n",
       "</div>"
      ],
      "text/plain": [
       "            Date         Close\n",
       "0     2019-08-26  10370.820313\n",
       "1     2019-08-27  10185.500000\n",
       "2     2019-08-28   9754.422852\n",
       "3     2019-08-29   9510.200195\n",
       "4     2019-08-30   9598.173828\n",
       "...          ...           ...\n",
       "1820  2024-08-19  59493.453125\n",
       "1821  2024-08-20  59012.792969\n",
       "1822  2024-08-21  61175.191406\n",
       "1823  2024-08-22  60381.914063\n",
       "1824  2024-08-23  64094.355469\n",
       "\n",
       "[1825 rows x 2 columns]"
      ]
     },
     "execution_count": 11,
     "metadata": {},
     "output_type": "execute_result"
    }
   ],
   "source": [
    "btc_closing_price_data = btc_price_data[[\"Date\", \"Close\"]].copy(deep=True)\n",
    "btc_closing_price_data"
   ]
  },
  {
   "cell_type": "markdown",
   "id": "384852ce-5e9d-4377-a935-87286e42e435",
   "metadata": {},
   "source": [
    "Convert the `Date` column from *object* type to *datetime64* type."
   ]
  },
  {
   "cell_type": "code",
   "execution_count": 12,
   "id": "1a44c3d0-6a1f-4cb6-abd8-40c5485f0067",
   "metadata": {},
   "outputs": [
    {
     "data": {
      "text/plain": [
       "Date     datetime64[ns]\n",
       "Close           float64\n",
       "dtype: object"
      ]
     },
     "execution_count": 12,
     "metadata": {},
     "output_type": "execute_result"
    }
   ],
   "source": [
    "btc_closing_price_data.Date = pd.to_datetime(btc_closing_price_data.Date)\n",
    "btc_closing_price_data.dtypes"
   ]
  },
  {
   "cell_type": "markdown",
   "id": "da4f6a87-b503-4009-9fc1-12d5a4c11778",
   "metadata": {},
   "source": [
    "Create new Dataframe only with **Date** and **Close** columns from the **sp_500_price_data**."
   ]
  },
  {
   "cell_type": "code",
   "execution_count": 13,
   "id": "f9954af0-7414-4d6d-b1ae-5af5e86c9062",
   "metadata": {},
   "outputs": [
    {
     "data": {
      "text/html": [
       "<div>\n",
       "<style scoped>\n",
       "    .dataframe tbody tr th:only-of-type {\n",
       "        vertical-align: middle;\n",
       "    }\n",
       "\n",
       "    .dataframe tbody tr th {\n",
       "        vertical-align: top;\n",
       "    }\n",
       "\n",
       "    .dataframe thead th {\n",
       "        text-align: right;\n",
       "    }\n",
       "</style>\n",
       "<table border=\"1\" class=\"dataframe\">\n",
       "  <thead>\n",
       "    <tr style=\"text-align: right;\">\n",
       "      <th></th>\n",
       "      <th>Date</th>\n",
       "      <th>Close</th>\n",
       "    </tr>\n",
       "  </thead>\n",
       "  <tbody>\n",
       "    <tr>\n",
       "      <th>0</th>\n",
       "      <td>2019-08-26</td>\n",
       "      <td>2878.379883</td>\n",
       "    </tr>\n",
       "    <tr>\n",
       "      <th>1</th>\n",
       "      <td>2019-08-27</td>\n",
       "      <td>2869.159912</td>\n",
       "    </tr>\n",
       "    <tr>\n",
       "      <th>2</th>\n",
       "      <td>2019-08-28</td>\n",
       "      <td>2887.939941</td>\n",
       "    </tr>\n",
       "    <tr>\n",
       "      <th>3</th>\n",
       "      <td>2019-08-29</td>\n",
       "      <td>2924.580078</td>\n",
       "    </tr>\n",
       "    <tr>\n",
       "      <th>4</th>\n",
       "      <td>2019-08-30</td>\n",
       "      <td>2926.459961</td>\n",
       "    </tr>\n",
       "    <tr>\n",
       "      <th>...</th>\n",
       "      <td>...</td>\n",
       "      <td>...</td>\n",
       "    </tr>\n",
       "    <tr>\n",
       "      <th>1253</th>\n",
       "      <td>2024-08-19</td>\n",
       "      <td>5608.250000</td>\n",
       "    </tr>\n",
       "    <tr>\n",
       "      <th>1254</th>\n",
       "      <td>2024-08-20</td>\n",
       "      <td>5597.120117</td>\n",
       "    </tr>\n",
       "    <tr>\n",
       "      <th>1255</th>\n",
       "      <td>2024-08-21</td>\n",
       "      <td>5620.850098</td>\n",
       "    </tr>\n",
       "    <tr>\n",
       "      <th>1256</th>\n",
       "      <td>2024-08-22</td>\n",
       "      <td>5570.640137</td>\n",
       "    </tr>\n",
       "    <tr>\n",
       "      <th>1257</th>\n",
       "      <td>2024-08-23</td>\n",
       "      <td>5634.609863</td>\n",
       "    </tr>\n",
       "  </tbody>\n",
       "</table>\n",
       "<p>1258 rows × 2 columns</p>\n",
       "</div>"
      ],
      "text/plain": [
       "            Date        Close\n",
       "0     2019-08-26  2878.379883\n",
       "1     2019-08-27  2869.159912\n",
       "2     2019-08-28  2887.939941\n",
       "3     2019-08-29  2924.580078\n",
       "4     2019-08-30  2926.459961\n",
       "...          ...          ...\n",
       "1253  2024-08-19  5608.250000\n",
       "1254  2024-08-20  5597.120117\n",
       "1255  2024-08-21  5620.850098\n",
       "1256  2024-08-22  5570.640137\n",
       "1257  2024-08-23  5634.609863\n",
       "\n",
       "[1258 rows x 2 columns]"
      ]
     },
     "execution_count": 13,
     "metadata": {},
     "output_type": "execute_result"
    }
   ],
   "source": [
    "sp_500_closing_price_data = sp_500_price_data[[\"Date\", \"Close\"]].copy(deep=True)\n",
    "sp_500_closing_price_data"
   ]
  },
  {
   "cell_type": "markdown",
   "id": "3cce3d90-5220-4c62-ac9b-6a6aeafcece8",
   "metadata": {},
   "source": [
    "Convert the `Date` column from *object* type to *datetime64* type."
   ]
  },
  {
   "cell_type": "code",
   "execution_count": 14,
   "id": "937bf760-157f-48a8-af9d-6a40cd74e840",
   "metadata": {},
   "outputs": [
    {
     "data": {
      "text/plain": [
       "Date     datetime64[ns]\n",
       "Close           float64\n",
       "dtype: object"
      ]
     },
     "execution_count": 14,
     "metadata": {},
     "output_type": "execute_result"
    }
   ],
   "source": [
    "sp_500_closing_price_data.Date = pd.to_datetime(sp_500_closing_price_data.Date)\n",
    "sp_500_closing_price_data.dtypes"
   ]
  },
  {
   "cell_type": "markdown",
   "id": "eea50528-4597-4c91-80a7-45bdfd7c9429",
   "metadata": {},
   "source": [
    "### 4.2.2. Merge datasets"
   ]
  },
  {
   "cell_type": "markdown",
   "id": "c7f23bb3-cb21-4883-a1b3-6ca30238e839",
   "metadata": {},
   "source": [
    "Merge the two DataFrames with a **left join** on the `Date` column. We want to obtain all `Date` values from the `btc_closing_price_data` DataFrame. All missing values in the `sp_500_closing_price_data` DataFrame are filled with a **NaN**."
   ]
  },
  {
   "cell_type": "code",
   "execution_count": 15,
   "id": "6fb3ca8b-09b1-4b86-a350-c4177a915a97",
   "metadata": {},
   "outputs": [
    {
     "data": {
      "text/html": [
       "<div>\n",
       "<style scoped>\n",
       "    .dataframe tbody tr th:only-of-type {\n",
       "        vertical-align: middle;\n",
       "    }\n",
       "\n",
       "    .dataframe tbody tr th {\n",
       "        vertical-align: top;\n",
       "    }\n",
       "\n",
       "    .dataframe thead th {\n",
       "        text-align: right;\n",
       "    }\n",
       "</style>\n",
       "<table border=\"1\" class=\"dataframe\">\n",
       "  <thead>\n",
       "    <tr style=\"text-align: right;\">\n",
       "      <th></th>\n",
       "      <th>Date</th>\n",
       "      <th>Close_BTC</th>\n",
       "      <th>Close_S&amp;P_500</th>\n",
       "    </tr>\n",
       "  </thead>\n",
       "  <tbody>\n",
       "    <tr>\n",
       "      <th>0</th>\n",
       "      <td>2019-08-26</td>\n",
       "      <td>10370.820313</td>\n",
       "      <td>2878.379883</td>\n",
       "    </tr>\n",
       "    <tr>\n",
       "      <th>1</th>\n",
       "      <td>2019-08-27</td>\n",
       "      <td>10185.500000</td>\n",
       "      <td>2869.159912</td>\n",
       "    </tr>\n",
       "    <tr>\n",
       "      <th>2</th>\n",
       "      <td>2019-08-28</td>\n",
       "      <td>9754.422852</td>\n",
       "      <td>2887.939941</td>\n",
       "    </tr>\n",
       "    <tr>\n",
       "      <th>3</th>\n",
       "      <td>2019-08-29</td>\n",
       "      <td>9510.200195</td>\n",
       "      <td>2924.580078</td>\n",
       "    </tr>\n",
       "    <tr>\n",
       "      <th>4</th>\n",
       "      <td>2019-08-30</td>\n",
       "      <td>9598.173828</td>\n",
       "      <td>2926.459961</td>\n",
       "    </tr>\n",
       "    <tr>\n",
       "      <th>5</th>\n",
       "      <td>2019-08-31</td>\n",
       "      <td>9630.664063</td>\n",
       "      <td>NaN</td>\n",
       "    </tr>\n",
       "    <tr>\n",
       "      <th>6</th>\n",
       "      <td>2019-09-01</td>\n",
       "      <td>9757.970703</td>\n",
       "      <td>NaN</td>\n",
       "    </tr>\n",
       "    <tr>\n",
       "      <th>7</th>\n",
       "      <td>2019-09-02</td>\n",
       "      <td>10346.760742</td>\n",
       "      <td>NaN</td>\n",
       "    </tr>\n",
       "    <tr>\n",
       "      <th>8</th>\n",
       "      <td>2019-09-03</td>\n",
       "      <td>10623.540039</td>\n",
       "      <td>2906.270020</td>\n",
       "    </tr>\n",
       "    <tr>\n",
       "      <th>9</th>\n",
       "      <td>2019-09-04</td>\n",
       "      <td>10594.493164</td>\n",
       "      <td>2937.780029</td>\n",
       "    </tr>\n",
       "  </tbody>\n",
       "</table>\n",
       "</div>"
      ],
      "text/plain": [
       "        Date     Close_BTC  Close_S&P_500\n",
       "0 2019-08-26  10370.820313    2878.379883\n",
       "1 2019-08-27  10185.500000    2869.159912\n",
       "2 2019-08-28   9754.422852    2887.939941\n",
       "3 2019-08-29   9510.200195    2924.580078\n",
       "4 2019-08-30   9598.173828    2926.459961\n",
       "5 2019-08-31   9630.664063            NaN\n",
       "6 2019-09-01   9757.970703            NaN\n",
       "7 2019-09-02  10346.760742            NaN\n",
       "8 2019-09-03  10623.540039    2906.270020\n",
       "9 2019-09-04  10594.493164    2937.780029"
      ]
     },
     "execution_count": 15,
     "metadata": {},
     "output_type": "execute_result"
    }
   ],
   "source": [
    "data_merged = btc_closing_price_data.merge(sp_500_closing_price_data, on = \"Date\", how = \"left\", suffixes = (\"_BTC\", \"_S&P_500\"))\n",
    "data_merged.head(10)"
   ]
  },
  {
   "cell_type": "code",
   "execution_count": 16,
   "id": "8ad23640-ad3a-4df5-99c0-2793154ae412",
   "metadata": {},
   "outputs": [
    {
     "data": {
      "text/plain": [
       "Date             datetime64[ns]\n",
       "Close_BTC               float64\n",
       "Close_S&P_500           float64\n",
       "dtype: object"
      ]
     },
     "execution_count": 16,
     "metadata": {},
     "output_type": "execute_result"
    }
   ],
   "source": [
    "data_merged.dtypes"
   ]
  },
  {
   "cell_type": "markdown",
   "id": "c8fabac1-8831-40df-9f40-d8cf3c78ac74",
   "metadata": {},
   "source": [
    "Since Bitcoin closing prices are available daily, but S&P 500 Index don't trade on weekends and holidays, the S&P 500 Index values were aligned with Bitcoin prices by *forward-filling* the missing dates with the last available trading day value preceding the date."
   ]
  },
  {
   "cell_type": "code",
   "execution_count": 17,
   "id": "a5dddb84-6fcf-4a39-b4f1-c2fadec56fac",
   "metadata": {},
   "outputs": [
    {
     "data": {
      "text/html": [
       "<div>\n",
       "<style scoped>\n",
       "    .dataframe tbody tr th:only-of-type {\n",
       "        vertical-align: middle;\n",
       "    }\n",
       "\n",
       "    .dataframe tbody tr th {\n",
       "        vertical-align: top;\n",
       "    }\n",
       "\n",
       "    .dataframe thead th {\n",
       "        text-align: right;\n",
       "    }\n",
       "</style>\n",
       "<table border=\"1\" class=\"dataframe\">\n",
       "  <thead>\n",
       "    <tr style=\"text-align: right;\">\n",
       "      <th></th>\n",
       "      <th>Date</th>\n",
       "      <th>Close_BTC</th>\n",
       "      <th>Close_S&amp;P_500</th>\n",
       "    </tr>\n",
       "  </thead>\n",
       "  <tbody>\n",
       "    <tr>\n",
       "      <th>0</th>\n",
       "      <td>2019-08-26</td>\n",
       "      <td>10370.820313</td>\n",
       "      <td>2878.379883</td>\n",
       "    </tr>\n",
       "    <tr>\n",
       "      <th>1</th>\n",
       "      <td>2019-08-27</td>\n",
       "      <td>10185.500000</td>\n",
       "      <td>2869.159912</td>\n",
       "    </tr>\n",
       "    <tr>\n",
       "      <th>2</th>\n",
       "      <td>2019-08-28</td>\n",
       "      <td>9754.422852</td>\n",
       "      <td>2887.939941</td>\n",
       "    </tr>\n",
       "    <tr>\n",
       "      <th>3</th>\n",
       "      <td>2019-08-29</td>\n",
       "      <td>9510.200195</td>\n",
       "      <td>2924.580078</td>\n",
       "    </tr>\n",
       "    <tr>\n",
       "      <th>4</th>\n",
       "      <td>2019-08-30</td>\n",
       "      <td>9598.173828</td>\n",
       "      <td>2926.459961</td>\n",
       "    </tr>\n",
       "    <tr>\n",
       "      <th>5</th>\n",
       "      <td>2019-08-31</td>\n",
       "      <td>9630.664063</td>\n",
       "      <td>2926.459961</td>\n",
       "    </tr>\n",
       "    <tr>\n",
       "      <th>6</th>\n",
       "      <td>2019-09-01</td>\n",
       "      <td>9757.970703</td>\n",
       "      <td>2926.459961</td>\n",
       "    </tr>\n",
       "    <tr>\n",
       "      <th>7</th>\n",
       "      <td>2019-09-02</td>\n",
       "      <td>10346.760742</td>\n",
       "      <td>2926.459961</td>\n",
       "    </tr>\n",
       "    <tr>\n",
       "      <th>8</th>\n",
       "      <td>2019-09-03</td>\n",
       "      <td>10623.540039</td>\n",
       "      <td>2906.270020</td>\n",
       "    </tr>\n",
       "    <tr>\n",
       "      <th>9</th>\n",
       "      <td>2019-09-04</td>\n",
       "      <td>10594.493164</td>\n",
       "      <td>2937.780029</td>\n",
       "    </tr>\n",
       "  </tbody>\n",
       "</table>\n",
       "</div>"
      ],
      "text/plain": [
       "        Date     Close_BTC  Close_S&P_500\n",
       "0 2019-08-26  10370.820313    2878.379883\n",
       "1 2019-08-27  10185.500000    2869.159912\n",
       "2 2019-08-28   9754.422852    2887.939941\n",
       "3 2019-08-29   9510.200195    2924.580078\n",
       "4 2019-08-30   9598.173828    2926.459961\n",
       "5 2019-08-31   9630.664063    2926.459961\n",
       "6 2019-09-01   9757.970703    2926.459961\n",
       "7 2019-09-02  10346.760742    2926.459961\n",
       "8 2019-09-03  10623.540039    2906.270020\n",
       "9 2019-09-04  10594.493164    2937.780029"
      ]
     },
     "execution_count": 17,
     "metadata": {},
     "output_type": "execute_result"
    }
   ],
   "source": [
    "data_filled = data_merged.ffill()\n",
    "data_filled.head(10)"
   ]
  },
  {
   "cell_type": "markdown",
   "id": "6215db78-0ae4-4950-a924-a9ee7c5c45be",
   "metadata": {},
   "source": [
    "## References"
   ]
  },
  {
   "cell_type": "markdown",
   "id": "a9d3d7dc-d29a-4cdf-8422-d2591ce45274",
   "metadata": {},
   "source": [
    "[1] Kejriwal, S. (2024, July 5). Bitcoin and stock market correlation: An empirical study. Coin Bureau. https://coinbureau.com/analysis/bitcoin-and-stock-market-correlation/"
   ]
  },
  {
   "cell_type": "markdown",
   "id": "d04c428e-86d4-412c-8d8a-2f7136cbf104",
   "metadata": {},
   "source": [
    "[2] Ashford, K. (2024, May 21). What is bitcoin and how does it work? Forbes Advisor. https://www.forbes.com/advisor/investing/cryptocurrency/what-is-bitcoin/"
   ]
  },
  {
   "cell_type": "markdown",
   "id": "5b7ef654-2b71-4beb-94db-03cd839fc058",
   "metadata": {},
   "source": [
    "[3] Kenton, W. (2024, June 12). S&P 500 Index: What It’s for and Why It’s Important in Investing. Investopedia. https://www.investopedia.com/terms/s/sp500.asp"
   ]
  },
  {
   "cell_type": "markdown",
   "id": "e6689e2f-0570-4ae8-9ec8-7735a76b5d6b",
   "metadata": {},
   "source": [
    "[4] Yahoo is part of the Yahoo family of brands. (n.d.-d). https://finance.yahoo.com/quote/GC%3DF/history/?period1=1566763869&period2=1724616667"
   ]
  },
  {
   "cell_type": "markdown",
   "id": "b06eaa10-da0d-4064-ba66-fdf58bc2ecfb",
   "metadata": {},
   "source": [
    "[5] Yahoo is part of the Yahoo family of brands. (n.d.-c). https://finance.yahoo.com/quote/GC%3DF/history/?period1=1566763767&period2=1724616565"
   ]
  },
  {
   "cell_type": "markdown",
   "id": "90020a34-738a-4bdf-9723-e1f2f1256d42",
   "metadata": {},
   "source": [
    "[6] Yahoo is part of the Yahoo family of brands. (n.d.-e). https://finance.yahoo.com/quote/%5EIXIC/history/?period1=1566763946&period2=1724616740"
   ]
  },
  {
   "cell_type": "code",
   "execution_count": null,
   "id": "a65e9e22-9080-479e-b5ba-2091f5c20153",
   "metadata": {},
   "outputs": [],
   "source": []
  }
 ],
 "metadata": {
  "kernelspec": {
   "display_name": "Python 3 (ipykernel)",
   "language": "python",
   "name": "python3"
  },
  "language_info": {
   "codemirror_mode": {
    "name": "ipython",
    "version": 3
   },
   "file_extension": ".py",
   "mimetype": "text/x-python",
   "name": "python",
   "nbconvert_exporter": "python",
   "pygments_lexer": "ipython3",
   "version": "3.11.9"
  }
 },
 "nbformat": 4,
 "nbformat_minor": 5
}
