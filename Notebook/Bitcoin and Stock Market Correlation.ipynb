{
 "cells": [
  {
   "cell_type": "code",
   "execution_count": 1,
   "id": "dc18a6be-6cde-47a9-9956-0ae025acabd5",
   "metadata": {},
   "outputs": [],
   "source": [
    "import numpy as np\n",
    "import pandas as pd\n",
    "import matplotlib.pyplot as plt\n",
    "import seaborn as sns\n",
    "\n",
    "from sklearn.linear_model import LinearRegression, LogisticRegression"
   ]
  },
  {
   "cell_type": "markdown",
   "id": "a44ac09a-56bd-4357-8f15-162983f4049f",
   "metadata": {},
   "source": [
    "# Bitcoin and Stock Market Correlation"
   ]
  },
  {
   "cell_type": "code",
   "execution_count": null,
   "id": "530229cc-6318-4a53-9a4a-512cbc512627",
   "metadata": {},
   "outputs": [],
   "source": []
  },
  {
   "cell_type": "markdown",
   "id": "c90bad9a-a9c8-4b2f-aeb9-c0edb460ce68",
   "metadata": {},
   "source": [
    "## How to compare the cost movement between s&p 500 and bitcoin?"
   ]
  },
  {
   "cell_type": "markdown",
   "id": "e3334899-2e52-4e42-8499-10b5f6ed7855",
   "metadata": {},
   "source": [
    "Comparing the cost movement between the S&P 500 and Bitcoin involves analyzing their price changes over time to see how they relate to each other. Here's how you can approach this comparison:\n",
    "\n",
    "### 1. **Collect Data**\n",
    "   - **S&P 500**: Obtain historical price data for the S&P 500 index, typically in the form of daily closing prices.\n",
    "   - **Bitcoin**: Obtain historical price data for Bitcoin, also in daily closing prices.\n",
    "\n",
    "### 2. **Align Time Periods**\n",
    "   - Ensure that the data for both assets covers the same time period and is on the same frequency (e.g., daily prices). Align the dates so that each row in your data corresponds to the same day for both the S&P 500 and Bitcoin.\n",
    "\n",
    "### 3. **Normalize Prices**\n",
    "   - Since the S&P 500 and Bitcoin have vastly different price levels, it's helpful to normalize their prices. You can do this by converting prices to returns or by indexing both to 100 at the start of your chosen time period.\n",
    "   - **Returns Calculation**: Calculate the daily return for each asset as:\n",
    "     \\[\n",
    "     \\text{Return}_t = \\frac{\\text{Price}_t - \\text{Price}_{t-1}}{\\text{Price}_{t-1}}\n",
    "     \\]\n",
    "   - **Indexing**: Set the initial price of both assets to 100 and then calculate the subsequent prices based on their daily returns.\n",
    "\n",
    "### 4. **Visualize the Data**\n",
    "   - **Line Chart**: Plot the normalized prices or returns over time on the same chart to visually compare their movements.\n",
    "   - **Scatter Plot**: Plot the returns of Bitcoin against the returns of the S&P 500 to see if there's any correlation.\n",
    "\n",
    "### 5. **Statistical Analysis**\n",
    "   - **Correlation**: Calculate the Pearson correlation coefficient between the daily returns of the S&P 500 and Bitcoin. This will give you a measure of the linear relationship between the two assets. A correlation close to 1 means they move together, while a correlation close to -1 means they move in opposite directions.\n",
    "   - **Volatility Comparison**: Analyze and compare the volatility (standard deviation of returns) of both assets to understand their risk levels.\n",
    "   - **Beta**: Calculate Bitcoin's beta with respect to the S&P 500 to see how sensitive Bitcoin is to movements in the S&P 500.\n",
    "\n",
    "### 6. **Interpret the Results**\n",
    "   - **Correlation Interpretation**: If the correlation is high, it indicates that Bitcoin and the S&P 500 have been moving similarly. A low or negative correlation suggests they move independently or inversely.\n",
    "   - **Risk Comparison**: Higher volatility in Bitcoin might indicate higher risk compared to the S&P 500.\n",
    "   - **Trends and Patterns**: Look for periods where the relationship between the two assets changes, such as during market crashes or bull runs.\n",
    "\n",
    "### 7. **Advanced Techniques (Optional)**\n",
    "   - **Rolling Correlation**: Calculate the correlation over a rolling window (e.g., 30 days) to see how the relationship between Bitcoin and the S&P 500 evolves over time.\n",
    "   - **Cointegration Analysis**: If you're interested in the long-term relationship, you could perform a cointegration test to see if there's a stable, long-term equilibrium between the two.\n",
    "\n",
    "By following these steps, you'll be able to compare the cost movement between the S&P 500 and Bitcoin, providing insights into how these two different assets interact with each other in the financial markets."
   ]
  },
  {
   "cell_type": "markdown",
   "id": "eb0c0e1d-0d22-45ab-9f44-1841e5e49c91",
   "metadata": {},
   "source": [
    "### 8. Links\n",
    "\n",
    "https://coinbureau.com/analysis/bitcoin-and-stock-market-correlation/\n",
    "\n",
    "\n"
   ]
  },
  {
   "cell_type": "code",
   "execution_count": null,
   "id": "94c64eda-590f-4118-bd2a-c57c64c88b00",
   "metadata": {},
   "outputs": [],
   "source": []
  }
 ],
 "metadata": {
  "kernelspec": {
   "display_name": "Python 3 (ipykernel)",
   "language": "python",
   "name": "python3"
  },
  "language_info": {
   "codemirror_mode": {
    "name": "ipython",
    "version": 3
   },
   "file_extension": ".py",
   "mimetype": "text/x-python",
   "name": "python",
   "nbconvert_exporter": "python",
   "pygments_lexer": "ipython3",
   "version": "3.11.9"
  }
 },
 "nbformat": 4,
 "nbformat_minor": 5
}
