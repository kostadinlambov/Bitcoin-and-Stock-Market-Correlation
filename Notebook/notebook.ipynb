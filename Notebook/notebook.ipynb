{
 "cells": [
  {
   "cell_type": "markdown",
   "id": "c6a93613-43ad-4a1f-b370-335d794c6c9a",
   "metadata": {},
   "source": [
    "# Notebook"
   ]
  },
  {
   "cell_type": "markdown",
   "id": "804c6316-cf71-49d4-bfe3-df4e6a4b8108",
   "metadata": {},
   "source": [
    "## Where can i download historical bitcoin price movement data?"
   ]
  },
  {
   "cell_type": "markdown",
   "id": "2e4159c8-dea3-412e-90f5-2e31ca264ac7",
   "metadata": {},
   "source": [
    "You can download historical Bitcoin price movement data from several reputable sources. Here are some popular options:\n",
    "\n",
    "### 1. **Cryptocurrency Exchanges**\n",
    "   - **CoinMarketCap**: Provides extensive historical data on Bitcoin and other cryptocurrencies. You can download data in CSV format for various time frames.\n",
    "     - [CoinMarketCap Historical Data](https://coinmarketcap.com/currencies/bitcoin/historical-data/)\n",
    "\n",
    "   - **CoinGecko**: Another popular platform for cryptocurrency data, including historical prices, market cap, and trading volume.\n",
    "     - [CoinGecko Historical Data](https://www.coingecko.com/en/coins/bitcoin/historical_data)\n",
    "\n",
    "   - **Binance**: One of the largest cryptocurrency exchanges, Binance offers historical data for all trading pairs, including Bitcoin.\n",
    "     - [Binance Data](https://www.binance.com/en/markets)\n",
    "\n",
    "### 2. **Financial Data Platforms**\n",
    "   - **Yahoo Finance**: Provides historical price data for Bitcoin. You can download the data as a CSV file.\n",
    "     - [Yahoo Finance Bitcoin Data](https://finance.yahoo.com/quote/BTC-USD/history/)\n",
    "\n",
    "   - **Alpha Vantage**: Offers free cryptocurrency data via API, including Bitcoin's historical prices. Requires a free API key to access.\n",
    "     - [Alpha Vantage API](https://www.alphavantage.co/documentation/#digital-currency)\n",
    "\n",
    "   - **Quandl**: Provides financial and economic data, including historical cryptocurrency prices. Some data is free, while others may require a subscription.\n",
    "     - [Quandl Cryptocurrency Data](https://www.quandl.com/collections/markets/cryptocurrencies)\n",
    "\n",
    "### 3. **Blockchain Explorers**\n",
    "   - **Blockchain.com**: Offers a wide range of Bitcoin-related data, including price history, mining statistics, and more.\n",
    "     - [Blockchain.com Charts](https://www.blockchain.com/charts)\n",
    "\n",
    "### 4. **Data Aggregators**\n",
    "   - **CryptoCompare**: Provides historical price data for Bitcoin across multiple exchanges, along with other related metrics.\n",
    "     - [CryptoCompare Historical Data](https://www.cryptocompare.com/coins/btc/historicaldata/USD)\n",
    "\n",
    "   - **TradingView**: While primarily a charting platform, TradingView allows you to export historical price data for analysis.\n",
    "     - [TradingView Bitcoin Data](https://www.tradingview.com/symbols/BTCUSD/)\n",
    "\n",
    "### 5. **APIs and Developer Platforms**\n",
    "   - **CoinAPI**: Provides historical market data for cryptocurrencies, including Bitcoin, with a developer-friendly API.\n",
    "     - [CoinAPI](https://www.coinapi.io/)\n",
    "\n",
    "   - **Nomics**: Offers an API for historical cryptocurrency data with varying levels of access, including free options.\n",
    "     - [Nomics API](https://nomics.com/)\n",
    "\n",
    "These platforms should allow you to download historical Bitcoin price data in a format suitable for analysis, such as CSV files or through an API. Be sure to check the specific data coverage (e.g., how far back it goes) and format options available on each platform."
   ]
  },
  {
   "cell_type": "markdown",
   "id": "f2254bdf6f74e03a",
   "metadata": {
    "collapsed": false,
    "jupyter": {
     "outputs_hidden": false
    }
   },
   "source": []
  },
  {
   "cell_type": "markdown",
   "id": "8fe248f2577b2e4e",
   "metadata": {
    "collapsed": false,
    "jupyter": {
     "outputs_hidden": false
    }
   },
   "source": [
    "## 2. How to compare the cost movement between s&p 500 and bitcoin?"
   ]
  },
  {
   "cell_type": "markdown",
   "id": "ffb28479f57e8517",
   "metadata": {
    "collapsed": false,
    "jupyter": {
     "outputs_hidden": false
    }
   },
   "source": [
    "To compare the cost movement between the S&P 500 and Bitcoin, you'll need to analyze their historical price data and then visualize and calculate their price movements over time. Here's a step-by-step guide:\n",
    "\n",
    "### 1. **Gather Historical Price Data**\n",
    "   - **S&P 500**: Obtain historical data for the S&P 500 index. This can be done using financial platforms like Yahoo Finance, Google Finance, or data providers like Bloomberg.\n",
    "   - **Bitcoin**: Obtain historical price data for Bitcoin. This can be accessed from cryptocurrency exchanges like Coinbase, Binance, or data providers like CoinMarketCap.\n",
    "\n",
    "### 2. **Align Time Periods**\n",
    "   - Ensure that the data for both S&P 500 and Bitcoin covers the same time period. If one asset has data available on a daily basis and the other has it on a minute-by-minute basis, resample the data so that both have the same frequency (e.g., daily).\n",
    "\n",
    "### 3. **Normalize Prices**\n",
    "   - To compare price movements directly, it's useful to normalize the prices to a common starting point (e.g., setting both prices to 100 at the start of the period).\n",
    "   - **Formula**: $\\text{Normalized Price} = \\frac{\\text{Current Price}}{\\text{Starting Price}} \\times 100$\n",
    "   - This makes it easier to see how each asset has moved in percentage terms relative to its starting value.\n",
    "\n",
    "### 4. **Calculate Returns**\n",
    "   - **Daily Returns**: Calculate the daily return for each asset.\n",
    "     - **Formula**: $\\( \\text{Daily Return} = \\frac{\\text{Price on Day 2} - \\text{Price on Day 1}}{\\text{Price on Day 1}} \\times 100 \\)$\n",
    "   - **Cumulative Returns**: Calculate cumulative returns over time to see overall growth.\n",
    "     - **Formula**: \\( \\text{Cumulative Return} = \\left(1 + \\text{Daily Return}_1\\right) \\times \\left(1 + \\text{Daily Return}_2\\right) \\times \\dots \\times \\left(1 + \\text{Daily Return}_n\\right) - 1 \\)\n",
    "\n",
    "### 5. **Visualize the Data**\n",
    "   - **Plotting**: Use a line chart to plot the normalized prices or cumulative returns of both S&P 500 and Bitcoin over time.\n",
    "   - **Comparison**: The chart will help visually compare the volatility, trends, and relative performance of both assets.\n",
    "\n",
    "### 6. **Statistical Analysis (Optional)**\n",
    "   - **Correlation**: Calculate the correlation coefficient between the daily returns of the S&P 500 and Bitcoin to see how closely their price movements are related.\n",
    "   - **Volatility**: Compare the standard deviation of the returns for each asset to assess their relative volatility.\n",
    "\n",
    "### 7. **Interpret the Results**\n",
    "   - **Trends**: Look for trends in the data, such as whether Bitcoin is more volatile than the S&P 500 or whether one asset tends to lead the other in price movements.\n",
    "   - **Investment Insights**: Use the comparison to draw conclusions about risk, return, and potential diversification benefits.\n",
    "\n",
    "### Example in Python (optional)\n",
    "If you want, I can provide you with a Python script to perform this analysis. Would you like that?"
   ]
  },
  {
   "cell_type": "markdown",
   "id": "abb9f6cbc35098f9",
   "metadata": {
    "collapsed": false,
    "jupyter": {
     "outputs_hidden": false
    }
   },
   "source": [
    "$\\text{Daily Return}$"
   ]
  },
  {
   "cell_type": "markdown",
   "id": "5499d9c6334627f5",
   "metadata": {
    "collapsed": false,
    "jupyter": {
     "outputs_hidden": false
    }
   },
   "source": [
    "\\[\n",
    "\\text{Let } x = \\var{number of cats}\n",
    "\\text{, and also }\n",
    "\\var{Overlap Area} = \\frac{\\Area(\\var{Detection} \\cap \\var{Ground Truth})}\n",
    "{\\Area(\\var{Detection} \\cup \\var{Ground Truth})}\n",
    "\\]"
   ]
  },
  {
   "cell_type": "code",
   "execution_count": null,
   "id": "36abca9b7d673844",
   "metadata": {
    "collapsed": false,
    "jupyter": {
     "outputs_hidden": false
    }
   },
   "outputs": [],
   "source": []
  },
  {
   "cell_type": "markdown",
   "id": "c8330a8a-817f-4f83-bbbb-ff430d62265a",
   "metadata": {},
   "source": [
    "   - **Cumulative Returns**: Calculate cumulative returns over time to see overall growth.\n",
    "     $$\\text{Cumulative Return} = \\left(1 + \\text{Daily Return}_1\\right) \\times \\left(1 + \\text{Daily Return}_2\\right) \\times \\dots \\times \\left(1 + \\text{Daily Return}_n\\right) - 1$$"
   ]
  },
  {
   "cell_type": "code",
   "execution_count": 1,
   "id": "0d6a2b03-d920-4b1a-a2e0-493b60d8ddc3",
   "metadata": {},
   "outputs": [],
   "source": [
    "def calculate_cumulative_returns(daily_returns_arr):\n",
    "    cumulative_returns = 1\n",
    "    for daily_return in daily_returns_arr:\n",
    "        cumulative_returns = cumulative_returns * (1 + daily_return)\n",
    "        \n",
    "    return cumulative_returns - 1"
   ]
  },
  {
   "cell_type": "code",
   "execution_count": null,
   "id": "b0cded1d-8992-4705-8098-ee8f50dc79db",
   "metadata": {},
   "outputs": [],
   "source": [
    "# calculate_cumulative_returns(sp_500_closing_price_data[\"SP_500_Return\"])"
   ]
  },
  {
   "cell_type": "code",
   "execution_count": 3,
   "id": "638bcfbe-64da-4dea-962f-941062f4ade0",
   "metadata": {},
   "outputs": [],
   "source": [
    "# Calculate the daily percentage returns\n",
    "# data['NASDAQ_Return'] = data['NASDAQ'].pct_change() * 100"
   ]
  },
  {
   "cell_type": "code",
   "execution_count": 5,
   "id": "68b9cef4-9f22-4fde-99fc-a0442e32e402",
   "metadata": {},
   "outputs": [],
   "source": [
    "# Using another correlation coefficient - Spearman rank correlation\n",
    "# data_tidy[correlation_columns].corr(\"spearman\")"
   ]
  },
  {
   "cell_type": "code",
   "execution_count": 6,
   "id": "4df9370f-f0cb-4b76-8844-021a3147b806",
   "metadata": {},
   "outputs": [],
   "source": [
    "# Using Kendall Tau correlation coefficient \n",
    "# data_tidy[correlation_columns].corr(\"kendall\")"
   ]
  },
  {
   "cell_type": "code",
   "execution_count": null,
   "id": "c2ef34de-a7df-4f3c-b0b1-9d393b67bc9d",
   "metadata": {},
   "outputs": [],
   "source": []
  },
  {
   "cell_type": "code",
   "execution_count": null,
   "id": "985e54bc-f3f1-4faa-87f3-8be65709d48b",
   "metadata": {},
   "outputs": [],
   "source": []
  },
  {
   "cell_type": "markdown",
   "id": "1c2fe6a6-5288-4e8d-9d26-223c4a32007e",
   "metadata": {},
   "source": [
    "Analyzing Pearson correlation involves understanding the strength and direction of the linear relationship between two continuous variables. Pearson correlation, often denoted by \\( r \\), ranges from -1 to +1, where:\n",
    "\n",
    "- **+1**: Perfect positive linear relationship (as one variable increases, the other also increases).\n",
    "- **-1**: Perfect negative linear relationship (as one variable increases, the other decreases).\n",
    "- **0**: No linear relationship (the variables do not move together in any predictable way).\n",
    "\n",
    "### Step-by-Step Guide to Analyzing Pearson Correlation\n",
    "\n",
    "#### 1. **Calculate Pearson Correlation Coefficient**\n",
    "   - You can calculate the Pearson correlation coefficient using a formula or statistical software.\n",
    "   - **Formula**:\n",
    "     \\[\n",
    "     r = \\frac{n(\\sum xy) - (\\sum x)(\\sum y)}{\\sqrt{[n\\sum x^2 - (\\sum x)^2][n\\sum y^2 - (\\sum y)^2]}}\n",
    "     \\]\n",
    "   - **In Python (using Pandas)**:\n",
    "     ```python\n",
    "     import pandas as pd\n",
    "\n",
    "     # Assuming you have two variables x and y\n",
    "     correlation = x.corr(y, method='pearson')\n",
    "     print(\"Pearson Correlation Coefficient:\", correlation)\n",
    "     ```\n",
    "\n",
    "#### 2. **Interpret the Pearson Correlation Coefficient**\n",
    "   - **Strength of the Relationship**:\n",
    "     - **0.0 - 0.1**: Negligible correlation.\n",
    "     - **0.1 - 0.3**: Weak correlation.\n",
    "     - **0.3 - 0.5**: Moderate correlation.\n",
    "     - **0.5 - 0.7**: Strong correlation.\n",
    "     - **0.7 - 1.0**: Very strong correlation.\n",
    "   - **Direction of the Relationship**:\n",
    "     - **Positive Correlation**: As one variable increases, the other also increases.\n",
    "     - **Negative Correlation**: As one variable increases, the other decreases.\n",
    "\n",
    "   **Example**:\n",
    "   - If \\( r = 0.85 \\), there is a very strong positive correlation.\n",
    "   - If \\( r = -0.65 \\), there is a strong negative correlation.\n",
    "\n",
    "#### 3. **Test the Significance of the Correlation**\n",
    "   - Determine whether the observed correlation is statistically significant. This involves hypothesis testing:\n",
    "     - **Null Hypothesis (\\( H_0 \\))**: There is no correlation between the variables (\\( r = 0 \\)).\n",
    "     - **Alternative Hypothesis (\\( H_1 \\))**: There is a correlation (\\( r \\neq 0 \\)).\n",
    "\n",
    "   - **P-Value**: The p-value helps to determine the significance. Typically, a p-value less than 0.05 indicates that the correlation is statistically significant.\n",
    "   - **In Python (using Scipy)**:\n",
    "     ```python\n",
    "     from scipy.stats import pearsonr\n",
    "\n",
    "     corr, p_value = pearsonr(x, y)\n",
    "     print(\"Pearson Correlation Coefficient:\", corr)\n",
    "     print(\"P-value:\", p_value)\n",
    "     ```\n",
    "\n",
    "#### 4. **Visualize the Relationship**\n",
    "   - A scatter plot can help you visualize the relationship between the variables. The pattern of the points will give you an idea of the linear relationship.\n",
    "   - **In Python (using Matplotlib)**:\n",
    "     ```python\n",
    "     import matplotlib.pyplot as plt\n",
    "\n",
    "     plt.scatter(x, y)\n",
    "     plt.title(f'Pearson Correlation: {corr:.2f}')\n",
    "     plt.xlabel('X Variable')\n",
    "     plt.ylabel('Y Variable')\n",
    "     plt.show()\n",
    "     ```\n",
    "\n",
    "#### 5. **Consider the Context**\n",
    "   - **Linear Relationship**: Pearson correlation only measures linear relationships. If the relationship is nonlinear, Pearson correlation may not fully capture the strength of the relationship.\n",
    "   - **Causality**: Correlation does not imply causation. A high correlation between two variables does not mean one causes the other.\n",
    "   - **Outliers**: Outliers can significantly affect the Pearson correlation coefficient. It's important to check for outliers before interpreting the results.\n",
    "\n",
    "#### 6. **Report the Results**\n",
    "   - **Correlation Coefficient**: Clearly state the value of \\( r \\).\n",
    "   - **Direction and Strength**: Describe whether the relationship is positive or negative and how strong it is.\n",
    "   - **Statistical Significance**: Report the p-value and whether the correlation is statistically significant.\n",
    "\n",
    "### Example Summary\n",
    "Let's say you found a Pearson correlation of \\( r = 0.72 \\) between study hours and exam scores, with a p-value of 0.002.\n",
    "\n",
    "- **Interpretation**: There's a strong positive correlation between study hours and exam scores.\n",
    "- **Significance**: The p-value indicates this correlation is statistically significant, meaning that the observed relationship is unlikely to be due to random chance.\n",
    "- **Visualization**: A scatter plot of study hours against exam scores should show a clear upward trend.\n",
    "\n",
    "This thorough analysis helps in understanding not just the existence of a relationship, but also its strength, direction, and significance in the context of the data being analyzed."
   ]
  },
  {
   "cell_type": "code",
   "execution_count": null,
   "id": "580682b8-4623-4023-9aee-da19a8cfa96f",
   "metadata": {},
   "outputs": [],
   "source": []
  }
 ],
 "metadata": {
  "kernelspec": {
   "display_name": "Python 3 (ipykernel)",
   "language": "python",
   "name": "python3"
  },
  "language_info": {
   "codemirror_mode": {
    "name": "ipython",
    "version": 3
   },
   "file_extension": ".py",
   "mimetype": "text/x-python",
   "name": "python",
   "nbconvert_exporter": "python",
   "pygments_lexer": "ipython3",
   "version": "3.11.9"
  }
 },
 "nbformat": 4,
 "nbformat_minor": 5
}
