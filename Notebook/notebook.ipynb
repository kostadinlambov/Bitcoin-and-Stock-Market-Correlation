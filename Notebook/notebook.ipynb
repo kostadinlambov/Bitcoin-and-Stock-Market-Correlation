{
 "cells": [
  {
   "cell_type": "markdown",
   "id": "c6a93613-43ad-4a1f-b370-335d794c6c9a",
   "metadata": {},
   "source": [
    "# Notebook"
   ]
  },
  {
   "cell_type": "markdown",
   "id": "804c6316-cf71-49d4-bfe3-df4e6a4b8108",
   "metadata": {},
   "source": [
    "## Where can i download historical bitcoin price movement data?"
   ]
  },
  {
   "cell_type": "markdown",
   "id": "2e4159c8-dea3-412e-90f5-2e31ca264ac7",
   "metadata": {},
   "source": [
    "You can download historical Bitcoin price movement data from several reputable sources. Here are some popular options:\n",
    "\n",
    "### 1. **Cryptocurrency Exchanges**\n",
    "   - **CoinMarketCap**: Provides extensive historical data on Bitcoin and other cryptocurrencies. You can download data in CSV format for various time frames.\n",
    "     - [CoinMarketCap Historical Data](https://coinmarketcap.com/currencies/bitcoin/historical-data/)\n",
    "\n",
    "   - **CoinGecko**: Another popular platform for cryptocurrency data, including historical prices, market cap, and trading volume.\n",
    "     - [CoinGecko Historical Data](https://www.coingecko.com/en/coins/bitcoin/historical_data)\n",
    "\n",
    "   - **Binance**: One of the largest cryptocurrency exchanges, Binance offers historical data for all trading pairs, including Bitcoin.\n",
    "     - [Binance Data](https://www.binance.com/en/markets)\n",
    "\n",
    "### 2. **Financial Data Platforms**\n",
    "   - **Yahoo Finance**: Provides historical price data for Bitcoin. You can download the data as a CSV file.\n",
    "     - [Yahoo Finance Bitcoin Data](https://finance.yahoo.com/quote/BTC-USD/history/)\n",
    "\n",
    "   - **Alpha Vantage**: Offers free cryptocurrency data via API, including Bitcoin's historical prices. Requires a free API key to access.\n",
    "     - [Alpha Vantage API](https://www.alphavantage.co/documentation/#digital-currency)\n",
    "\n",
    "   - **Quandl**: Provides financial and economic data, including historical cryptocurrency prices. Some data is free, while others may require a subscription.\n",
    "     - [Quandl Cryptocurrency Data](https://www.quandl.com/collections/markets/cryptocurrencies)\n",
    "\n",
    "### 3. **Blockchain Explorers**\n",
    "   - **Blockchain.com**: Offers a wide range of Bitcoin-related data, including price history, mining statistics, and more.\n",
    "     - [Blockchain.com Charts](https://www.blockchain.com/charts)\n",
    "\n",
    "### 4. **Data Aggregators**\n",
    "   - **CryptoCompare**: Provides historical price data for Bitcoin across multiple exchanges, along with other related metrics.\n",
    "     - [CryptoCompare Historical Data](https://www.cryptocompare.com/coins/btc/historicaldata/USD)\n",
    "\n",
    "   - **TradingView**: While primarily a charting platform, TradingView allows you to export historical price data for analysis.\n",
    "     - [TradingView Bitcoin Data](https://www.tradingview.com/symbols/BTCUSD/)\n",
    "\n",
    "### 5. **APIs and Developer Platforms**\n",
    "   - **CoinAPI**: Provides historical market data for cryptocurrencies, including Bitcoin, with a developer-friendly API.\n",
    "     - [CoinAPI](https://www.coinapi.io/)\n",
    "\n",
    "   - **Nomics**: Offers an API for historical cryptocurrency data with varying levels of access, including free options.\n",
    "     - [Nomics API](https://nomics.com/)\n",
    "\n",
    "These platforms should allow you to download historical Bitcoin price data in a format suitable for analysis, such as CSV files or through an API. Be sure to check the specific data coverage (e.g., how far back it goes) and format options available on each platform."
   ]
  }
 ],
 "metadata": {
  "kernelspec": {
   "display_name": "Python 3 (ipykernel)",
   "language": "python",
   "name": "python3"
  },
  "language_info": {
   "codemirror_mode": {
    "name": "ipython",
    "version": 3
   },
   "file_extension": ".py",
   "mimetype": "text/x-python",
   "name": "python",
   "nbconvert_exporter": "python",
   "pygments_lexer": "ipython3",
   "version": "3.11.9"
  }
 },
 "nbformat": 4,
 "nbformat_minor": 5
}
